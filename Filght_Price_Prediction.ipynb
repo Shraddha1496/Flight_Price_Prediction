{
  "nbformat": 4,
  "nbformat_minor": 0,
  "metadata": {
    "colab": {
      "name": "Filght Price Prediction",
      "provenance": [],
      "collapsed_sections": []
    },
    "kernelspec": {
      "name": "python3",
      "display_name": "Python 3"
    },
    "language_info": {
      "name": "python"
    }
  },
  "cells": [
    {
      "cell_type": "markdown",
      "metadata": {
        "id": "x5Wt0Ub65LED"
      },
      "source": [
        "# **Flight Price Prediction**\n",
        "\n",
        "**Problem Statement:**<br>\n",
        "Flight ticket prices can be something hard to guess, today we might see a price, check out the price of the same flight tomorrow, it will be a different story. We might have often heard travellers saying that flight ticket prices are so unpredictable. Here you will be provided with prices of flight tickets for various airlines between the months of March and June of 2019 and between various cities.<br>\n",
        "<br>\n",
        "Size of training set: 10683 records<br>\n",
        "Size of test set: 2671 records<br>\n",
        "<br>\n",
        "**FEATURES:**<br>\n",
        " - Airline: The name of the airline.\n",
        " - Date_of_Journey: The date of the journey\n",
        " - Source: The source from which the service begins.\n",
        " - Destination: The destination where the service ends.\n",
        " - Route: The route taken by the flight to reach the destination.\n",
        " - Dep_Time: The time when the journey starts from the source.\n",
        " - Arrival_Time: Time of arrival at the destination.\n",
        " - Duration: Total duration of the flight.\n",
        " - Total_Stops: Total stops between the source and destination.\n",
        " - Additional_Info: Additional information about the flight\n",
        " - Price: The price of the ticket"
      ]
    },
    {
      "cell_type": "code",
      "metadata": {
        "id": "KHR2WlM545sh"
      },
      "source": [
        "# import libraries\n",
        "import numpy as np\n",
        "import pandas as pd\n",
        "import matplotlib.pyplot as plt\n",
        "import seaborn as sns\n",
        "\n",
        "import warnings\n",
        "warnings.filterwarnings('ignore')"
      ],
      "execution_count": 2,
      "outputs": []
    },
    {
      "cell_type": "markdown",
      "metadata": {
        "id": "qNJNM8dziutJ"
      },
      "source": [
        "# **Train Data**"
      ]
    },
    {
      "cell_type": "code",
      "metadata": {
        "colab": {
          "base_uri": "https://localhost:8080/",
          "height": 204
        },
        "id": "lNr09N1NBBqD",
        "outputId": "af7cb94f-4cd1-4fd5-f9aa-3f2efc669c3d"
      },
      "source": [
        "# import data\n",
        "\n",
        "train_data = pd.read_excel('/content/sample_data/Data_Train.xlsx')\n",
        "train_data.head()"
      ],
      "execution_count": 3,
      "outputs": [
        {
          "output_type": "execute_result",
          "data": {
            "text/html": [
              "<div>\n",
              "<style scoped>\n",
              "    .dataframe tbody tr th:only-of-type {\n",
              "        vertical-align: middle;\n",
              "    }\n",
              "\n",
              "    .dataframe tbody tr th {\n",
              "        vertical-align: top;\n",
              "    }\n",
              "\n",
              "    .dataframe thead th {\n",
              "        text-align: right;\n",
              "    }\n",
              "</style>\n",
              "<table border=\"1\" class=\"dataframe\">\n",
              "  <thead>\n",
              "    <tr style=\"text-align: right;\">\n",
              "      <th></th>\n",
              "      <th>Airline</th>\n",
              "      <th>Date_of_Journey</th>\n",
              "      <th>Source</th>\n",
              "      <th>Destination</th>\n",
              "      <th>Route</th>\n",
              "      <th>Dep_Time</th>\n",
              "      <th>Arrival_Time</th>\n",
              "      <th>Duration</th>\n",
              "      <th>Total_Stops</th>\n",
              "      <th>Additional_Info</th>\n",
              "      <th>Price</th>\n",
              "    </tr>\n",
              "  </thead>\n",
              "  <tbody>\n",
              "    <tr>\n",
              "      <th>0</th>\n",
              "      <td>IndiGo</td>\n",
              "      <td>24/03/2019</td>\n",
              "      <td>Banglore</td>\n",
              "      <td>New Delhi</td>\n",
              "      <td>BLR → DEL</td>\n",
              "      <td>22:20</td>\n",
              "      <td>01:10 22 Mar</td>\n",
              "      <td>2h 50m</td>\n",
              "      <td>non-stop</td>\n",
              "      <td>No info</td>\n",
              "      <td>3897</td>\n",
              "    </tr>\n",
              "    <tr>\n",
              "      <th>1</th>\n",
              "      <td>Air India</td>\n",
              "      <td>1/05/2019</td>\n",
              "      <td>Kolkata</td>\n",
              "      <td>Banglore</td>\n",
              "      <td>CCU → IXR → BBI → BLR</td>\n",
              "      <td>05:50</td>\n",
              "      <td>13:15</td>\n",
              "      <td>7h 25m</td>\n",
              "      <td>2 stops</td>\n",
              "      <td>No info</td>\n",
              "      <td>7662</td>\n",
              "    </tr>\n",
              "    <tr>\n",
              "      <th>2</th>\n",
              "      <td>Jet Airways</td>\n",
              "      <td>9/06/2019</td>\n",
              "      <td>Delhi</td>\n",
              "      <td>Cochin</td>\n",
              "      <td>DEL → LKO → BOM → COK</td>\n",
              "      <td>09:25</td>\n",
              "      <td>04:25 10 Jun</td>\n",
              "      <td>19h</td>\n",
              "      <td>2 stops</td>\n",
              "      <td>No info</td>\n",
              "      <td>13882</td>\n",
              "    </tr>\n",
              "    <tr>\n",
              "      <th>3</th>\n",
              "      <td>IndiGo</td>\n",
              "      <td>12/05/2019</td>\n",
              "      <td>Kolkata</td>\n",
              "      <td>Banglore</td>\n",
              "      <td>CCU → NAG → BLR</td>\n",
              "      <td>18:05</td>\n",
              "      <td>23:30</td>\n",
              "      <td>5h 25m</td>\n",
              "      <td>1 stop</td>\n",
              "      <td>No info</td>\n",
              "      <td>6218</td>\n",
              "    </tr>\n",
              "    <tr>\n",
              "      <th>4</th>\n",
              "      <td>IndiGo</td>\n",
              "      <td>01/03/2019</td>\n",
              "      <td>Banglore</td>\n",
              "      <td>New Delhi</td>\n",
              "      <td>BLR → NAG → DEL</td>\n",
              "      <td>16:50</td>\n",
              "      <td>21:35</td>\n",
              "      <td>4h 45m</td>\n",
              "      <td>1 stop</td>\n",
              "      <td>No info</td>\n",
              "      <td>13302</td>\n",
              "    </tr>\n",
              "  </tbody>\n",
              "</table>\n",
              "</div>"
            ],
            "text/plain": [
              "       Airline Date_of_Journey    Source  ... Total_Stops Additional_Info  Price\n",
              "0       IndiGo      24/03/2019  Banglore  ...    non-stop         No info   3897\n",
              "1    Air India       1/05/2019   Kolkata  ...     2 stops         No info   7662\n",
              "2  Jet Airways       9/06/2019     Delhi  ...     2 stops         No info  13882\n",
              "3       IndiGo      12/05/2019   Kolkata  ...      1 stop         No info   6218\n",
              "4       IndiGo      01/03/2019  Banglore  ...      1 stop         No info  13302\n",
              "\n",
              "[5 rows x 11 columns]"
            ]
          },
          "metadata": {},
          "execution_count": 3
        }
      ]
    },
    {
      "cell_type": "code",
      "metadata": {
        "colab": {
          "base_uri": "https://localhost:8080/"
        },
        "id": "dpN9reS6Bea8",
        "outputId": "def88949-51d3-4c97-d0c2-89a12ef040d0"
      },
      "source": [
        "# check shape\n",
        "train_data.shape"
      ],
      "execution_count": 5,
      "outputs": [
        {
          "output_type": "execute_result",
          "data": {
            "text/plain": [
              "(10683, 11)"
            ]
          },
          "metadata": {},
          "execution_count": 5
        }
      ]
    },
    {
      "cell_type": "markdown",
      "metadata": {
        "id": "hEbS1xwaBj0R"
      },
      "source": [
        " - We've train data size as 10683 rows and 11 columns"
      ]
    },
    {
      "cell_type": "code",
      "metadata": {
        "id": "SIiTt-fzBgns"
      },
      "source": [
        "pd.set_option('display.max_columns',None)"
      ],
      "execution_count": 7,
      "outputs": []
    },
    {
      "cell_type": "code",
      "metadata": {
        "colab": {
          "base_uri": "https://localhost:8080/",
          "height": 204
        },
        "id": "8kxf5xg2B5Dc",
        "outputId": "230aae43-b6ab-4b14-a066-ee6daacdb1b1"
      },
      "source": [
        "train_data.head()"
      ],
      "execution_count": 8,
      "outputs": [
        {
          "output_type": "execute_result",
          "data": {
            "text/html": [
              "<div>\n",
              "<style scoped>\n",
              "    .dataframe tbody tr th:only-of-type {\n",
              "        vertical-align: middle;\n",
              "    }\n",
              "\n",
              "    .dataframe tbody tr th {\n",
              "        vertical-align: top;\n",
              "    }\n",
              "\n",
              "    .dataframe thead th {\n",
              "        text-align: right;\n",
              "    }\n",
              "</style>\n",
              "<table border=\"1\" class=\"dataframe\">\n",
              "  <thead>\n",
              "    <tr style=\"text-align: right;\">\n",
              "      <th></th>\n",
              "      <th>Airline</th>\n",
              "      <th>Date_of_Journey</th>\n",
              "      <th>Source</th>\n",
              "      <th>Destination</th>\n",
              "      <th>Route</th>\n",
              "      <th>Dep_Time</th>\n",
              "      <th>Arrival_Time</th>\n",
              "      <th>Duration</th>\n",
              "      <th>Total_Stops</th>\n",
              "      <th>Additional_Info</th>\n",
              "      <th>Price</th>\n",
              "    </tr>\n",
              "  </thead>\n",
              "  <tbody>\n",
              "    <tr>\n",
              "      <th>0</th>\n",
              "      <td>IndiGo</td>\n",
              "      <td>24/03/2019</td>\n",
              "      <td>Banglore</td>\n",
              "      <td>New Delhi</td>\n",
              "      <td>BLR → DEL</td>\n",
              "      <td>22:20</td>\n",
              "      <td>01:10 22 Mar</td>\n",
              "      <td>2h 50m</td>\n",
              "      <td>non-stop</td>\n",
              "      <td>No info</td>\n",
              "      <td>3897</td>\n",
              "    </tr>\n",
              "    <tr>\n",
              "      <th>1</th>\n",
              "      <td>Air India</td>\n",
              "      <td>1/05/2019</td>\n",
              "      <td>Kolkata</td>\n",
              "      <td>Banglore</td>\n",
              "      <td>CCU → IXR → BBI → BLR</td>\n",
              "      <td>05:50</td>\n",
              "      <td>13:15</td>\n",
              "      <td>7h 25m</td>\n",
              "      <td>2 stops</td>\n",
              "      <td>No info</td>\n",
              "      <td>7662</td>\n",
              "    </tr>\n",
              "    <tr>\n",
              "      <th>2</th>\n",
              "      <td>Jet Airways</td>\n",
              "      <td>9/06/2019</td>\n",
              "      <td>Delhi</td>\n",
              "      <td>Cochin</td>\n",
              "      <td>DEL → LKO → BOM → COK</td>\n",
              "      <td>09:25</td>\n",
              "      <td>04:25 10 Jun</td>\n",
              "      <td>19h</td>\n",
              "      <td>2 stops</td>\n",
              "      <td>No info</td>\n",
              "      <td>13882</td>\n",
              "    </tr>\n",
              "    <tr>\n",
              "      <th>3</th>\n",
              "      <td>IndiGo</td>\n",
              "      <td>12/05/2019</td>\n",
              "      <td>Kolkata</td>\n",
              "      <td>Banglore</td>\n",
              "      <td>CCU → NAG → BLR</td>\n",
              "      <td>18:05</td>\n",
              "      <td>23:30</td>\n",
              "      <td>5h 25m</td>\n",
              "      <td>1 stop</td>\n",
              "      <td>No info</td>\n",
              "      <td>6218</td>\n",
              "    </tr>\n",
              "    <tr>\n",
              "      <th>4</th>\n",
              "      <td>IndiGo</td>\n",
              "      <td>01/03/2019</td>\n",
              "      <td>Banglore</td>\n",
              "      <td>New Delhi</td>\n",
              "      <td>BLR → NAG → DEL</td>\n",
              "      <td>16:50</td>\n",
              "      <td>21:35</td>\n",
              "      <td>4h 45m</td>\n",
              "      <td>1 stop</td>\n",
              "      <td>No info</td>\n",
              "      <td>13302</td>\n",
              "    </tr>\n",
              "  </tbody>\n",
              "</table>\n",
              "</div>"
            ],
            "text/plain": [
              "       Airline Date_of_Journey    Source Destination                  Route  \\\n",
              "0       IndiGo      24/03/2019  Banglore   New Delhi              BLR → DEL   \n",
              "1    Air India       1/05/2019   Kolkata    Banglore  CCU → IXR → BBI → BLR   \n",
              "2  Jet Airways       9/06/2019     Delhi      Cochin  DEL → LKO → BOM → COK   \n",
              "3       IndiGo      12/05/2019   Kolkata    Banglore        CCU → NAG → BLR   \n",
              "4       IndiGo      01/03/2019  Banglore   New Delhi        BLR → NAG → DEL   \n",
              "\n",
              "  Dep_Time  Arrival_Time Duration Total_Stops Additional_Info  Price  \n",
              "0    22:20  01:10 22 Mar   2h 50m    non-stop         No info   3897  \n",
              "1    05:50         13:15   7h 25m     2 stops         No info   7662  \n",
              "2    09:25  04:25 10 Jun      19h     2 stops         No info  13882  \n",
              "3    18:05         23:30   5h 25m      1 stop         No info   6218  \n",
              "4    16:50         21:35   4h 45m      1 stop         No info  13302  "
            ]
          },
          "metadata": {},
          "execution_count": 8
        }
      ]
    },
    {
      "cell_type": "code",
      "metadata": {
        "colab": {
          "base_uri": "https://localhost:8080/"
        },
        "id": "cqn07vPGCQR6",
        "outputId": "045ef307-a88c-4798-ffc8-03bcb85a405c"
      },
      "source": [
        "# let's get datatypes of our train data\n",
        "train_data.info()"
      ],
      "execution_count": 10,
      "outputs": [
        {
          "output_type": "stream",
          "text": [
            "<class 'pandas.core.frame.DataFrame'>\n",
            "RangeIndex: 10683 entries, 0 to 10682\n",
            "Data columns (total 11 columns):\n",
            " #   Column           Non-Null Count  Dtype \n",
            "---  ------           --------------  ----- \n",
            " 0   Airline          10683 non-null  object\n",
            " 1   Date_of_Journey  10683 non-null  object\n",
            " 2   Source           10683 non-null  object\n",
            " 3   Destination      10683 non-null  object\n",
            " 4   Route            10682 non-null  object\n",
            " 5   Dep_Time         10683 non-null  object\n",
            " 6   Arrival_Time     10683 non-null  object\n",
            " 7   Duration         10683 non-null  object\n",
            " 8   Total_Stops      10682 non-null  object\n",
            " 9   Additional_Info  10683 non-null  object\n",
            " 10  Price            10683 non-null  int64 \n",
            "dtypes: int64(1), object(10)\n",
            "memory usage: 918.2+ KB\n"
          ],
          "name": "stdout"
        }
      ]
    },
    {
      "cell_type": "markdown",
      "metadata": {
        "id": "35JkzfZDCfeL"
      },
      "source": [
        " - We have object and int type of train data."
      ]
    },
    {
      "cell_type": "code",
      "metadata": {
        "colab": {
          "base_uri": "https://localhost:8080/"
        },
        "id": "_Z74nIILCX8J",
        "outputId": "bb216c09-4021-4d6a-f78f-a9fd066be581"
      },
      "source": [
        "train_data['Duration'].value_counts()"
      ],
      "execution_count": 13,
      "outputs": [
        {
          "output_type": "execute_result",
          "data": {
            "text/plain": [
              "2h 50m     550\n",
              "1h 30m     386\n",
              "2h 45m     337\n",
              "2h 55m     337\n",
              "2h 35m     329\n",
              "          ... \n",
              "29h 10m      1\n",
              "40h 20m      1\n",
              "19h 50m      1\n",
              "36h 25m      1\n",
              "27h 55m      1\n",
              "Name: Duration, Length: 368, dtype: int64"
            ]
          },
          "metadata": {},
          "execution_count": 13
        }
      ]
    },
    {
      "cell_type": "code",
      "metadata": {
        "id": "F2W6rc67DBXe"
      },
      "source": [
        "# drop the none\n",
        "train_data.dropna(inplace=True)"
      ],
      "execution_count": 15,
      "outputs": []
    },
    {
      "cell_type": "code",
      "metadata": {
        "colab": {
          "base_uri": "https://localhost:8080/"
        },
        "id": "lsFKqExlDWho",
        "outputId": "da2bd644-e911-4bee-bbfc-b771a9bf1add"
      },
      "source": [
        "train_data.isnull().sum()"
      ],
      "execution_count": 17,
      "outputs": [
        {
          "output_type": "execute_result",
          "data": {
            "text/plain": [
              "Airline            0\n",
              "Date_of_Journey    0\n",
              "Source             0\n",
              "Destination        0\n",
              "Route              0\n",
              "Dep_Time           0\n",
              "Arrival_Time       0\n",
              "Duration           0\n",
              "Total_Stops        0\n",
              "Additional_Info    0\n",
              "Price              0\n",
              "dtype: int64"
            ]
          },
          "metadata": {},
          "execution_count": 17
        }
      ]
    },
    {
      "cell_type": "markdown",
      "metadata": {
        "id": "Q-tit1y6Dlvd"
      },
      "source": [
        " - I don't see any null values now."
      ]
    },
    {
      "cell_type": "markdown",
      "metadata": {
        "id": "dxJoEN7vFse1"
      },
      "source": [
        "# **EDA**"
      ]
    },
    {
      "cell_type": "markdown",
      "metadata": {
        "id": "q06TdJFFNGXV"
      },
      "source": [
        "# **Date_of_Journey**"
      ]
    },
    {
      "cell_type": "markdown",
      "metadata": {
        "id": "JFLsTSYvELOM"
      },
      "source": [
        " - From the dataset, the \"Date_of_Journey\" is a object type, we need to convert into timestamp."
      ]
    },
    {
      "cell_type": "code",
      "metadata": {
        "id": "mKc42SN9DcnK"
      },
      "source": [
        "# converting into timestamp\n",
        "train_data['Journey_Day'] = pd.to_datetime(train_data.Date_of_Journey, format='%d/%m/%Y').dt.day"
      ],
      "execution_count": 27,
      "outputs": []
    },
    {
      "cell_type": "code",
      "metadata": {
        "colab": {
          "base_uri": "https://localhost:8080/"
        },
        "id": "-KCxe6N8I8Uz",
        "outputId": "4369b52d-7346-4224-8c64-7404a1a8d744"
      },
      "source": [
        "train_data['Journey_Day']"
      ],
      "execution_count": 24,
      "outputs": [
        {
          "output_type": "execute_result",
          "data": {
            "text/plain": [
              "0        24\n",
              "1         1\n",
              "2         9\n",
              "3        12\n",
              "4         1\n",
              "         ..\n",
              "10678     9\n",
              "10679    27\n",
              "10680    27\n",
              "10681     1\n",
              "10682     9\n",
              "Name: Journey_Day, Length: 10682, dtype: int64"
            ]
          },
          "metadata": {},
          "execution_count": 24
        }
      ]
    },
    {
      "cell_type": "code",
      "metadata": {
        "id": "-mqYidPuFE4X"
      },
      "source": [
        "train_data['Journey_Month'] = pd.to_datetime(train_data['Date_of_Journey'], format='%d/%m/%Y').dt.month"
      ],
      "execution_count": 32,
      "outputs": []
    },
    {
      "cell_type": "code",
      "metadata": {
        "colab": {
          "base_uri": "https://localhost:8080/",
          "height": 306
        },
        "id": "ax7d4ux3JQFP",
        "outputId": "9f26f4db-03eb-4bb2-effe-3acfb9112cea"
      },
      "source": [
        "train_data.head()"
      ],
      "execution_count": 33,
      "outputs": [
        {
          "output_type": "execute_result",
          "data": {
            "text/html": [
              "<div>\n",
              "<style scoped>\n",
              "    .dataframe tbody tr th:only-of-type {\n",
              "        vertical-align: middle;\n",
              "    }\n",
              "\n",
              "    .dataframe tbody tr th {\n",
              "        vertical-align: top;\n",
              "    }\n",
              "\n",
              "    .dataframe thead th {\n",
              "        text-align: right;\n",
              "    }\n",
              "</style>\n",
              "<table border=\"1\" class=\"dataframe\">\n",
              "  <thead>\n",
              "    <tr style=\"text-align: right;\">\n",
              "      <th></th>\n",
              "      <th>Airline</th>\n",
              "      <th>Date_of_Journey</th>\n",
              "      <th>Source</th>\n",
              "      <th>Destination</th>\n",
              "      <th>Route</th>\n",
              "      <th>Dep_Time</th>\n",
              "      <th>Arrival_Time</th>\n",
              "      <th>Duration</th>\n",
              "      <th>Total_Stops</th>\n",
              "      <th>Additional_Info</th>\n",
              "      <th>Price</th>\n",
              "      <th>Journey_Day</th>\n",
              "      <th>Journey_Month</th>\n",
              "    </tr>\n",
              "  </thead>\n",
              "  <tbody>\n",
              "    <tr>\n",
              "      <th>0</th>\n",
              "      <td>IndiGo</td>\n",
              "      <td>24/03/2019</td>\n",
              "      <td>Banglore</td>\n",
              "      <td>New Delhi</td>\n",
              "      <td>BLR → DEL</td>\n",
              "      <td>22:20</td>\n",
              "      <td>01:10 22 Mar</td>\n",
              "      <td>2h 50m</td>\n",
              "      <td>non-stop</td>\n",
              "      <td>No info</td>\n",
              "      <td>3897</td>\n",
              "      <td>24</td>\n",
              "      <td>3</td>\n",
              "    </tr>\n",
              "    <tr>\n",
              "      <th>1</th>\n",
              "      <td>Air India</td>\n",
              "      <td>1/05/2019</td>\n",
              "      <td>Kolkata</td>\n",
              "      <td>Banglore</td>\n",
              "      <td>CCU → IXR → BBI → BLR</td>\n",
              "      <td>05:50</td>\n",
              "      <td>13:15</td>\n",
              "      <td>7h 25m</td>\n",
              "      <td>2 stops</td>\n",
              "      <td>No info</td>\n",
              "      <td>7662</td>\n",
              "      <td>1</td>\n",
              "      <td>5</td>\n",
              "    </tr>\n",
              "    <tr>\n",
              "      <th>2</th>\n",
              "      <td>Jet Airways</td>\n",
              "      <td>9/06/2019</td>\n",
              "      <td>Delhi</td>\n",
              "      <td>Cochin</td>\n",
              "      <td>DEL → LKO → BOM → COK</td>\n",
              "      <td>09:25</td>\n",
              "      <td>04:25 10 Jun</td>\n",
              "      <td>19h</td>\n",
              "      <td>2 stops</td>\n",
              "      <td>No info</td>\n",
              "      <td>13882</td>\n",
              "      <td>9</td>\n",
              "      <td>6</td>\n",
              "    </tr>\n",
              "    <tr>\n",
              "      <th>3</th>\n",
              "      <td>IndiGo</td>\n",
              "      <td>12/05/2019</td>\n",
              "      <td>Kolkata</td>\n",
              "      <td>Banglore</td>\n",
              "      <td>CCU → NAG → BLR</td>\n",
              "      <td>18:05</td>\n",
              "      <td>23:30</td>\n",
              "      <td>5h 25m</td>\n",
              "      <td>1 stop</td>\n",
              "      <td>No info</td>\n",
              "      <td>6218</td>\n",
              "      <td>12</td>\n",
              "      <td>5</td>\n",
              "    </tr>\n",
              "    <tr>\n",
              "      <th>4</th>\n",
              "      <td>IndiGo</td>\n",
              "      <td>01/03/2019</td>\n",
              "      <td>Banglore</td>\n",
              "      <td>New Delhi</td>\n",
              "      <td>BLR → NAG → DEL</td>\n",
              "      <td>16:50</td>\n",
              "      <td>21:35</td>\n",
              "      <td>4h 45m</td>\n",
              "      <td>1 stop</td>\n",
              "      <td>No info</td>\n",
              "      <td>13302</td>\n",
              "      <td>1</td>\n",
              "      <td>3</td>\n",
              "    </tr>\n",
              "  </tbody>\n",
              "</table>\n",
              "</div>"
            ],
            "text/plain": [
              "       Airline Date_of_Journey    Source Destination                  Route  \\\n",
              "0       IndiGo      24/03/2019  Banglore   New Delhi              BLR → DEL   \n",
              "1    Air India       1/05/2019   Kolkata    Banglore  CCU → IXR → BBI → BLR   \n",
              "2  Jet Airways       9/06/2019     Delhi      Cochin  DEL → LKO → BOM → COK   \n",
              "3       IndiGo      12/05/2019   Kolkata    Banglore        CCU → NAG → BLR   \n",
              "4       IndiGo      01/03/2019  Banglore   New Delhi        BLR → NAG → DEL   \n",
              "\n",
              "  Dep_Time  Arrival_Time Duration Total_Stops Additional_Info  Price  \\\n",
              "0    22:20  01:10 22 Mar   2h 50m    non-stop         No info   3897   \n",
              "1    05:50         13:15   7h 25m     2 stops         No info   7662   \n",
              "2    09:25  04:25 10 Jun      19h     2 stops         No info  13882   \n",
              "3    18:05         23:30   5h 25m      1 stop         No info   6218   \n",
              "4    16:50         21:35   4h 45m      1 stop         No info  13302   \n",
              "\n",
              "   Journey_Day  Journey_Month  \n",
              "0           24              3  \n",
              "1            1              5  \n",
              "2            9              6  \n",
              "3           12              5  \n",
              "4            1              3  "
            ]
          },
          "metadata": {},
          "execution_count": 33
        }
      ]
    },
    {
      "cell_type": "markdown",
      "metadata": {
        "id": "pPbdJbdUKDIM"
      },
      "source": [
        " - Now, we have converted \"Date_of_Journey\" column into integer, so we can drop it."
      ]
    },
    {
      "cell_type": "code",
      "metadata": {
        "id": "D-OA9Da7J-Zm"
      },
      "source": [
        "train_data.drop(['Date_of_Journey'], axis=1, inplace=True)"
      ],
      "execution_count": 34,
      "outputs": []
    },
    {
      "cell_type": "code",
      "metadata": {
        "colab": {
          "base_uri": "https://localhost:8080/",
          "height": 204
        },
        "id": "-NxhbMExKW0_",
        "outputId": "2714a62e-5348-47be-d420-c622ce462b2d"
      },
      "source": [
        "train_data.head()"
      ],
      "execution_count": 35,
      "outputs": [
        {
          "output_type": "execute_result",
          "data": {
            "text/html": [
              "<div>\n",
              "<style scoped>\n",
              "    .dataframe tbody tr th:only-of-type {\n",
              "        vertical-align: middle;\n",
              "    }\n",
              "\n",
              "    .dataframe tbody tr th {\n",
              "        vertical-align: top;\n",
              "    }\n",
              "\n",
              "    .dataframe thead th {\n",
              "        text-align: right;\n",
              "    }\n",
              "</style>\n",
              "<table border=\"1\" class=\"dataframe\">\n",
              "  <thead>\n",
              "    <tr style=\"text-align: right;\">\n",
              "      <th></th>\n",
              "      <th>Airline</th>\n",
              "      <th>Source</th>\n",
              "      <th>Destination</th>\n",
              "      <th>Route</th>\n",
              "      <th>Dep_Time</th>\n",
              "      <th>Arrival_Time</th>\n",
              "      <th>Duration</th>\n",
              "      <th>Total_Stops</th>\n",
              "      <th>Additional_Info</th>\n",
              "      <th>Price</th>\n",
              "      <th>Journey_Day</th>\n",
              "      <th>Journey_Month</th>\n",
              "    </tr>\n",
              "  </thead>\n",
              "  <tbody>\n",
              "    <tr>\n",
              "      <th>0</th>\n",
              "      <td>IndiGo</td>\n",
              "      <td>Banglore</td>\n",
              "      <td>New Delhi</td>\n",
              "      <td>BLR → DEL</td>\n",
              "      <td>22:20</td>\n",
              "      <td>01:10 22 Mar</td>\n",
              "      <td>2h 50m</td>\n",
              "      <td>non-stop</td>\n",
              "      <td>No info</td>\n",
              "      <td>3897</td>\n",
              "      <td>24</td>\n",
              "      <td>3</td>\n",
              "    </tr>\n",
              "    <tr>\n",
              "      <th>1</th>\n",
              "      <td>Air India</td>\n",
              "      <td>Kolkata</td>\n",
              "      <td>Banglore</td>\n",
              "      <td>CCU → IXR → BBI → BLR</td>\n",
              "      <td>05:50</td>\n",
              "      <td>13:15</td>\n",
              "      <td>7h 25m</td>\n",
              "      <td>2 stops</td>\n",
              "      <td>No info</td>\n",
              "      <td>7662</td>\n",
              "      <td>1</td>\n",
              "      <td>5</td>\n",
              "    </tr>\n",
              "    <tr>\n",
              "      <th>2</th>\n",
              "      <td>Jet Airways</td>\n",
              "      <td>Delhi</td>\n",
              "      <td>Cochin</td>\n",
              "      <td>DEL → LKO → BOM → COK</td>\n",
              "      <td>09:25</td>\n",
              "      <td>04:25 10 Jun</td>\n",
              "      <td>19h</td>\n",
              "      <td>2 stops</td>\n",
              "      <td>No info</td>\n",
              "      <td>13882</td>\n",
              "      <td>9</td>\n",
              "      <td>6</td>\n",
              "    </tr>\n",
              "    <tr>\n",
              "      <th>3</th>\n",
              "      <td>IndiGo</td>\n",
              "      <td>Kolkata</td>\n",
              "      <td>Banglore</td>\n",
              "      <td>CCU → NAG → BLR</td>\n",
              "      <td>18:05</td>\n",
              "      <td>23:30</td>\n",
              "      <td>5h 25m</td>\n",
              "      <td>1 stop</td>\n",
              "      <td>No info</td>\n",
              "      <td>6218</td>\n",
              "      <td>12</td>\n",
              "      <td>5</td>\n",
              "    </tr>\n",
              "    <tr>\n",
              "      <th>4</th>\n",
              "      <td>IndiGo</td>\n",
              "      <td>Banglore</td>\n",
              "      <td>New Delhi</td>\n",
              "      <td>BLR → NAG → DEL</td>\n",
              "      <td>16:50</td>\n",
              "      <td>21:35</td>\n",
              "      <td>4h 45m</td>\n",
              "      <td>1 stop</td>\n",
              "      <td>No info</td>\n",
              "      <td>13302</td>\n",
              "      <td>1</td>\n",
              "      <td>3</td>\n",
              "    </tr>\n",
              "  </tbody>\n",
              "</table>\n",
              "</div>"
            ],
            "text/plain": [
              "       Airline    Source Destination                  Route Dep_Time  \\\n",
              "0       IndiGo  Banglore   New Delhi              BLR → DEL    22:20   \n",
              "1    Air India   Kolkata    Banglore  CCU → IXR → BBI → BLR    05:50   \n",
              "2  Jet Airways     Delhi      Cochin  DEL → LKO → BOM → COK    09:25   \n",
              "3       IndiGo   Kolkata    Banglore        CCU → NAG → BLR    18:05   \n",
              "4       IndiGo  Banglore   New Delhi        BLR → NAG → DEL    16:50   \n",
              "\n",
              "   Arrival_Time Duration Total_Stops Additional_Info  Price  Journey_Day  \\\n",
              "0  01:10 22 Mar   2h 50m    non-stop         No info   3897           24   \n",
              "1         13:15   7h 25m     2 stops         No info   7662            1   \n",
              "2  04:25 10 Jun      19h     2 stops         No info  13882            9   \n",
              "3         23:30   5h 25m      1 stop         No info   6218           12   \n",
              "4         21:35   4h 45m      1 stop         No info  13302            1   \n",
              "\n",
              "   Journey_Month  \n",
              "0              3  \n",
              "1              5  \n",
              "2              6  \n",
              "3              5  \n",
              "4              3  "
            ]
          },
          "metadata": {},
          "execution_count": 35
        }
      ]
    },
    {
      "cell_type": "markdown",
      "metadata": {
        "id": "dcZhLLwpKa5m"
      },
      "source": [
        " - Column has been dropped successfully."
      ]
    },
    {
      "cell_type": "markdown",
      "metadata": {
        "id": "ppGE_ChjNPuu"
      },
      "source": [
        "# **Dep_Time**"
      ]
    },
    {
      "cell_type": "markdown",
      "metadata": {
        "id": "jpZuulbBLeHD"
      },
      "source": [
        " - Departure time is when the plane leaves the gate.\n",
        " - So we can extract values from \"Dep_Time\" "
      ]
    },
    {
      "cell_type": "code",
      "metadata": {
        "id": "iZNRbYS5KZZD"
      },
      "source": [
        "# extract hours\n",
        "train_data['Dep_Hour'] = pd.to_datetime(train_data['Dep_Time']).dt.hour"
      ],
      "execution_count": 37,
      "outputs": []
    },
    {
      "cell_type": "code",
      "metadata": {
        "id": "bGMgTaTsMB2p"
      },
      "source": [
        "# extract minutes\n",
        "train_data['Dep_Min'] = pd.to_datetime(train_data['Dep_Time']).dt.minute"
      ],
      "execution_count": 38,
      "outputs": []
    },
    {
      "cell_type": "markdown",
      "metadata": {
        "id": "XTETFBlxMQCC"
      },
      "source": [
        "Hence we got the dep hour and time. Therefoe the column \"Dep_Time\" is of no use, so we can drop it. "
      ]
    },
    {
      "cell_type": "code",
      "metadata": {
        "id": "WnUB71kMML5K"
      },
      "source": [
        "train_data.drop(['Dep_Time'], axis=1, inplace=True)"
      ],
      "execution_count": 39,
      "outputs": []
    },
    {
      "cell_type": "code",
      "metadata": {
        "colab": {
          "base_uri": "https://localhost:8080/",
          "height": 238
        },
        "id": "X677MmP9MkBX",
        "outputId": "f474f6a2-d374-4ad1-ca9f-b511098ff8d4"
      },
      "source": [
        "train_data.head()"
      ],
      "execution_count": 40,
      "outputs": [
        {
          "output_type": "execute_result",
          "data": {
            "text/html": [
              "<div>\n",
              "<style scoped>\n",
              "    .dataframe tbody tr th:only-of-type {\n",
              "        vertical-align: middle;\n",
              "    }\n",
              "\n",
              "    .dataframe tbody tr th {\n",
              "        vertical-align: top;\n",
              "    }\n",
              "\n",
              "    .dataframe thead th {\n",
              "        text-align: right;\n",
              "    }\n",
              "</style>\n",
              "<table border=\"1\" class=\"dataframe\">\n",
              "  <thead>\n",
              "    <tr style=\"text-align: right;\">\n",
              "      <th></th>\n",
              "      <th>Airline</th>\n",
              "      <th>Source</th>\n",
              "      <th>Destination</th>\n",
              "      <th>Route</th>\n",
              "      <th>Arrival_Time</th>\n",
              "      <th>Duration</th>\n",
              "      <th>Total_Stops</th>\n",
              "      <th>Additional_Info</th>\n",
              "      <th>Price</th>\n",
              "      <th>Journey_Day</th>\n",
              "      <th>Journey_Month</th>\n",
              "      <th>Dep_Hour</th>\n",
              "      <th>Dep_Min</th>\n",
              "    </tr>\n",
              "  </thead>\n",
              "  <tbody>\n",
              "    <tr>\n",
              "      <th>0</th>\n",
              "      <td>IndiGo</td>\n",
              "      <td>Banglore</td>\n",
              "      <td>New Delhi</td>\n",
              "      <td>BLR → DEL</td>\n",
              "      <td>01:10 22 Mar</td>\n",
              "      <td>2h 50m</td>\n",
              "      <td>non-stop</td>\n",
              "      <td>No info</td>\n",
              "      <td>3897</td>\n",
              "      <td>24</td>\n",
              "      <td>3</td>\n",
              "      <td>22</td>\n",
              "      <td>20</td>\n",
              "    </tr>\n",
              "    <tr>\n",
              "      <th>1</th>\n",
              "      <td>Air India</td>\n",
              "      <td>Kolkata</td>\n",
              "      <td>Banglore</td>\n",
              "      <td>CCU → IXR → BBI → BLR</td>\n",
              "      <td>13:15</td>\n",
              "      <td>7h 25m</td>\n",
              "      <td>2 stops</td>\n",
              "      <td>No info</td>\n",
              "      <td>7662</td>\n",
              "      <td>1</td>\n",
              "      <td>5</td>\n",
              "      <td>5</td>\n",
              "      <td>50</td>\n",
              "    </tr>\n",
              "    <tr>\n",
              "      <th>2</th>\n",
              "      <td>Jet Airways</td>\n",
              "      <td>Delhi</td>\n",
              "      <td>Cochin</td>\n",
              "      <td>DEL → LKO → BOM → COK</td>\n",
              "      <td>04:25 10 Jun</td>\n",
              "      <td>19h</td>\n",
              "      <td>2 stops</td>\n",
              "      <td>No info</td>\n",
              "      <td>13882</td>\n",
              "      <td>9</td>\n",
              "      <td>6</td>\n",
              "      <td>9</td>\n",
              "      <td>25</td>\n",
              "    </tr>\n",
              "    <tr>\n",
              "      <th>3</th>\n",
              "      <td>IndiGo</td>\n",
              "      <td>Kolkata</td>\n",
              "      <td>Banglore</td>\n",
              "      <td>CCU → NAG → BLR</td>\n",
              "      <td>23:30</td>\n",
              "      <td>5h 25m</td>\n",
              "      <td>1 stop</td>\n",
              "      <td>No info</td>\n",
              "      <td>6218</td>\n",
              "      <td>12</td>\n",
              "      <td>5</td>\n",
              "      <td>18</td>\n",
              "      <td>5</td>\n",
              "    </tr>\n",
              "    <tr>\n",
              "      <th>4</th>\n",
              "      <td>IndiGo</td>\n",
              "      <td>Banglore</td>\n",
              "      <td>New Delhi</td>\n",
              "      <td>BLR → NAG → DEL</td>\n",
              "      <td>21:35</td>\n",
              "      <td>4h 45m</td>\n",
              "      <td>1 stop</td>\n",
              "      <td>No info</td>\n",
              "      <td>13302</td>\n",
              "      <td>1</td>\n",
              "      <td>3</td>\n",
              "      <td>16</td>\n",
              "      <td>50</td>\n",
              "    </tr>\n",
              "  </tbody>\n",
              "</table>\n",
              "</div>"
            ],
            "text/plain": [
              "       Airline    Source Destination                  Route  Arrival_Time  \\\n",
              "0       IndiGo  Banglore   New Delhi              BLR → DEL  01:10 22 Mar   \n",
              "1    Air India   Kolkata    Banglore  CCU → IXR → BBI → BLR         13:15   \n",
              "2  Jet Airways     Delhi      Cochin  DEL → LKO → BOM → COK  04:25 10 Jun   \n",
              "3       IndiGo   Kolkata    Banglore        CCU → NAG → BLR         23:30   \n",
              "4       IndiGo  Banglore   New Delhi        BLR → NAG → DEL         21:35   \n",
              "\n",
              "  Duration Total_Stops Additional_Info  Price  Journey_Day  Journey_Month  \\\n",
              "0   2h 50m    non-stop         No info   3897           24              3   \n",
              "1   7h 25m     2 stops         No info   7662            1              5   \n",
              "2      19h     2 stops         No info  13882            9              6   \n",
              "3   5h 25m      1 stop         No info   6218           12              5   \n",
              "4   4h 45m      1 stop         No info  13302            1              3   \n",
              "\n",
              "   Dep_Hour  Dep_Min  \n",
              "0        22       20  \n",
              "1         5       50  \n",
              "2         9       25  \n",
              "3        18        5  \n",
              "4        16       50  "
            ]
          },
          "metadata": {},
          "execution_count": 40
        }
      ]
    },
    {
      "cell_type": "markdown",
      "metadata": {
        "id": "XaWhBxukNUnZ"
      },
      "source": [
        " - Column has beedn dropped."
      ]
    },
    {
      "cell_type": "markdown",
      "metadata": {
        "id": "AA-UnnhfNX62"
      },
      "source": [
        "# **Arrival_Time**"
      ]
    },
    {
      "cell_type": "markdown",
      "metadata": {
        "id": "H4BiYiwcM6ry"
      },
      "source": [
        " - Arrival time is when the plane pulls up the gate.\n",
        " - So we can extract values from \"Arrival_Time\" "
      ]
    },
    {
      "cell_type": "code",
      "metadata": {
        "id": "LZrTOUErMnSm"
      },
      "source": [
        "# extract hour\n",
        "train_data['Arrival_Hour'] = pd.to_datetime(train_data['Arrival_Time']).dt.hour\n",
        "\n",
        "# extract min\n",
        "train_data['Arrival_Min'] = pd.to_datetime(train_data['Arrival_Time']).dt.minute"
      ],
      "execution_count": 41,
      "outputs": []
    },
    {
      "cell_type": "markdown",
      "metadata": {
        "id": "DNI_8S1xNvs7"
      },
      "source": [
        " - Hence we got the dep hour and time. Therefoe the column \"Arrival_Time\" is of no use, so we can drop it. "
      ]
    },
    {
      "cell_type": "code",
      "metadata": {
        "id": "acGMF791NyUO"
      },
      "source": [
        "train_data.drop(['Arrival_Time'], axis=1, inplace=True)"
      ],
      "execution_count": 42,
      "outputs": []
    },
    {
      "cell_type": "code",
      "metadata": {
        "colab": {
          "base_uri": "https://localhost:8080/",
          "height": 391
        },
        "id": "r2j9Z7BfN81p",
        "outputId": "e4534516-c3aa-470a-fd67-15a1fd9f0cd0"
      },
      "source": [
        "train_data.head()"
      ],
      "execution_count": 43,
      "outputs": [
        {
          "output_type": "execute_result",
          "data": {
            "text/html": [
              "<div>\n",
              "<style scoped>\n",
              "    .dataframe tbody tr th:only-of-type {\n",
              "        vertical-align: middle;\n",
              "    }\n",
              "\n",
              "    .dataframe tbody tr th {\n",
              "        vertical-align: top;\n",
              "    }\n",
              "\n",
              "    .dataframe thead th {\n",
              "        text-align: right;\n",
              "    }\n",
              "</style>\n",
              "<table border=\"1\" class=\"dataframe\">\n",
              "  <thead>\n",
              "    <tr style=\"text-align: right;\">\n",
              "      <th></th>\n",
              "      <th>Airline</th>\n",
              "      <th>Source</th>\n",
              "      <th>Destination</th>\n",
              "      <th>Route</th>\n",
              "      <th>Duration</th>\n",
              "      <th>Total_Stops</th>\n",
              "      <th>Additional_Info</th>\n",
              "      <th>Price</th>\n",
              "      <th>Journey_Day</th>\n",
              "      <th>Journey_Month</th>\n",
              "      <th>Dep_Hour</th>\n",
              "      <th>Dep_Min</th>\n",
              "      <th>Arrival_Hour</th>\n",
              "      <th>Arrival_Min</th>\n",
              "    </tr>\n",
              "  </thead>\n",
              "  <tbody>\n",
              "    <tr>\n",
              "      <th>0</th>\n",
              "      <td>IndiGo</td>\n",
              "      <td>Banglore</td>\n",
              "      <td>New Delhi</td>\n",
              "      <td>BLR → DEL</td>\n",
              "      <td>2h 50m</td>\n",
              "      <td>non-stop</td>\n",
              "      <td>No info</td>\n",
              "      <td>3897</td>\n",
              "      <td>24</td>\n",
              "      <td>3</td>\n",
              "      <td>22</td>\n",
              "      <td>20</td>\n",
              "      <td>1</td>\n",
              "      <td>10</td>\n",
              "    </tr>\n",
              "    <tr>\n",
              "      <th>1</th>\n",
              "      <td>Air India</td>\n",
              "      <td>Kolkata</td>\n",
              "      <td>Banglore</td>\n",
              "      <td>CCU → IXR → BBI → BLR</td>\n",
              "      <td>7h 25m</td>\n",
              "      <td>2 stops</td>\n",
              "      <td>No info</td>\n",
              "      <td>7662</td>\n",
              "      <td>1</td>\n",
              "      <td>5</td>\n",
              "      <td>5</td>\n",
              "      <td>50</td>\n",
              "      <td>13</td>\n",
              "      <td>15</td>\n",
              "    </tr>\n",
              "    <tr>\n",
              "      <th>2</th>\n",
              "      <td>Jet Airways</td>\n",
              "      <td>Delhi</td>\n",
              "      <td>Cochin</td>\n",
              "      <td>DEL → LKO → BOM → COK</td>\n",
              "      <td>19h</td>\n",
              "      <td>2 stops</td>\n",
              "      <td>No info</td>\n",
              "      <td>13882</td>\n",
              "      <td>9</td>\n",
              "      <td>6</td>\n",
              "      <td>9</td>\n",
              "      <td>25</td>\n",
              "      <td>4</td>\n",
              "      <td>25</td>\n",
              "    </tr>\n",
              "    <tr>\n",
              "      <th>3</th>\n",
              "      <td>IndiGo</td>\n",
              "      <td>Kolkata</td>\n",
              "      <td>Banglore</td>\n",
              "      <td>CCU → NAG → BLR</td>\n",
              "      <td>5h 25m</td>\n",
              "      <td>1 stop</td>\n",
              "      <td>No info</td>\n",
              "      <td>6218</td>\n",
              "      <td>12</td>\n",
              "      <td>5</td>\n",
              "      <td>18</td>\n",
              "      <td>5</td>\n",
              "      <td>23</td>\n",
              "      <td>30</td>\n",
              "    </tr>\n",
              "    <tr>\n",
              "      <th>4</th>\n",
              "      <td>IndiGo</td>\n",
              "      <td>Banglore</td>\n",
              "      <td>New Delhi</td>\n",
              "      <td>BLR → NAG → DEL</td>\n",
              "      <td>4h 45m</td>\n",
              "      <td>1 stop</td>\n",
              "      <td>No info</td>\n",
              "      <td>13302</td>\n",
              "      <td>1</td>\n",
              "      <td>3</td>\n",
              "      <td>16</td>\n",
              "      <td>50</td>\n",
              "      <td>21</td>\n",
              "      <td>35</td>\n",
              "    </tr>\n",
              "  </tbody>\n",
              "</table>\n",
              "</div>"
            ],
            "text/plain": [
              "       Airline    Source Destination                  Route Duration  \\\n",
              "0       IndiGo  Banglore   New Delhi              BLR → DEL   2h 50m   \n",
              "1    Air India   Kolkata    Banglore  CCU → IXR → BBI → BLR   7h 25m   \n",
              "2  Jet Airways     Delhi      Cochin  DEL → LKO → BOM → COK      19h   \n",
              "3       IndiGo   Kolkata    Banglore        CCU → NAG → BLR   5h 25m   \n",
              "4       IndiGo  Banglore   New Delhi        BLR → NAG → DEL   4h 45m   \n",
              "\n",
              "  Total_Stops Additional_Info  Price  Journey_Day  Journey_Month  Dep_Hour  \\\n",
              "0    non-stop         No info   3897           24              3        22   \n",
              "1     2 stops         No info   7662            1              5         5   \n",
              "2     2 stops         No info  13882            9              6         9   \n",
              "3      1 stop         No info   6218           12              5        18   \n",
              "4      1 stop         No info  13302            1              3        16   \n",
              "\n",
              "   Dep_Min  Arrival_Hour  Arrival_Min  \n",
              "0       20             1           10  \n",
              "1       50            13           15  \n",
              "2       25             4           25  \n",
              "3        5            23           30  \n",
              "4       50            21           35  "
            ]
          },
          "metadata": {},
          "execution_count": 43
        }
      ]
    },
    {
      "cell_type": "markdown",
      "metadata": {
        "id": "wE3ewQYsN41v"
      },
      "source": [
        " - Column has been dropped."
      ]
    },
    {
      "cell_type": "markdown",
      "metadata": {
        "id": "lnjvlqniOwRS"
      },
      "source": [
        "# **Duration**"
      ]
    },
    {
      "cell_type": "markdown",
      "metadata": {
        "id": "EznoW_pDO1zh"
      },
      "source": [
        " - Duration is the time taken by plane which is the difference between Departure Time and Arrival Time."
      ]
    },
    {
      "cell_type": "code",
      "metadata": {
        "id": "CbLjiqL_N3qw"
      },
      "source": [
        "# converting duration column into list.\n",
        "duration = list(train_data['Duration'])\n",
        "\n",
        "for i in range(len(duration)):\n",
        "  if len(duration[i].split()) !=2 : # check if the duration contains only hrs or min\n",
        "    if 'h' in duration[i]:\n",
        "      duration[i] = duration[i].strip() + ' 0m' # Adds 0 mins.\n",
        "    else :\n",
        "      duration[i] = '0h ' + duration[i]          # Adds 0 hr\n",
        "\n",
        "duration_hours = []\n",
        "duration_mins = []\n",
        "\n",
        "for i in range(len(duration)):\n",
        "  duration_hours.append(int(duration[i].split(sep = 'h')[0]))   # extract hours from duration\n",
        "  duration_mins.append(int(duration[i].split(sep = 'm')[0].split()[-1])) # extract min from duration"
      ],
      "execution_count": 47,
      "outputs": []
    },
    {
      "cell_type": "markdown",
      "metadata": {
        "id": "QJtwHbxLUdR9"
      },
      "source": [
        "Adding duration hrs and duration min list to train_data"
      ]
    },
    {
      "cell_type": "code",
      "metadata": {
        "id": "yGSCr6WmPeUT"
      },
      "source": [
        "train_data['Duration_hrs'] = duration_hours\n",
        "train_data['Duration_mins'] = duration_mins"
      ],
      "execution_count": 48,
      "outputs": []
    },
    {
      "cell_type": "markdown",
      "metadata": {
        "id": "lfueuaitVPhU"
      },
      "source": [
        " - Now we have converted the duration column into hours and minutes.\n",
        " - So we can drop column 'Duration'."
      ]
    },
    {
      "cell_type": "code",
      "metadata": {
        "id": "BdhclhJTh_3j"
      },
      "source": [
        "train_data.drop(['Duration'],axis=1, inplace=True)"
      ],
      "execution_count": 71,
      "outputs": []
    },
    {
      "cell_type": "code",
      "metadata": {
        "colab": {
          "base_uri": "https://localhost:8080/",
          "height": 258
        },
        "id": "I6UABUqxVOxv",
        "outputId": "10027d84-fbdd-4a6b-dd52-06ae3c35805a"
      },
      "source": [
        "train_data.head()"
      ],
      "execution_count": 72,
      "outputs": [
        {
          "output_type": "execute_result",
          "data": {
            "text/html": [
              "<div>\n",
              "<style scoped>\n",
              "    .dataframe tbody tr th:only-of-type {\n",
              "        vertical-align: middle;\n",
              "    }\n",
              "\n",
              "    .dataframe tbody tr th {\n",
              "        vertical-align: top;\n",
              "    }\n",
              "\n",
              "    .dataframe thead th {\n",
              "        text-align: right;\n",
              "    }\n",
              "</style>\n",
              "<table border=\"1\" class=\"dataframe\">\n",
              "  <thead>\n",
              "    <tr style=\"text-align: right;\">\n",
              "      <th></th>\n",
              "      <th>Total_Stops</th>\n",
              "      <th>Price</th>\n",
              "      <th>Journey_Day</th>\n",
              "      <th>Journey_Month</th>\n",
              "      <th>Dep_Hour</th>\n",
              "      <th>Dep_Min</th>\n",
              "      <th>Arrival_Hour</th>\n",
              "      <th>Arrival_Min</th>\n",
              "      <th>Duration_hrs</th>\n",
              "      <th>Duration_mins</th>\n",
              "      <th>Airline_Air India</th>\n",
              "      <th>Airline_GoAir</th>\n",
              "      <th>Airline_IndiGo</th>\n",
              "      <th>Airline_Jet Airways</th>\n",
              "      <th>Airline_Jet Airways Business</th>\n",
              "      <th>Airline_Multiple carriers</th>\n",
              "      <th>Airline_Multiple carriers Premium economy</th>\n",
              "      <th>Airline_SpiceJet</th>\n",
              "      <th>Airline_Trujet</th>\n",
              "      <th>Airline_Vistara</th>\n",
              "      <th>Airline_Vistara Premium economy</th>\n",
              "      <th>Source_Chennai</th>\n",
              "      <th>Source_Delhi</th>\n",
              "      <th>Source_Kolkata</th>\n",
              "      <th>Source_Mumbai</th>\n",
              "      <th>Destination_Cochin</th>\n",
              "      <th>Destination_Delhi</th>\n",
              "      <th>Destination_Hyderabad</th>\n",
              "      <th>Destination_Kolkata</th>\n",
              "      <th>Destination_New Delhi</th>\n",
              "    </tr>\n",
              "  </thead>\n",
              "  <tbody>\n",
              "    <tr>\n",
              "      <th>0</th>\n",
              "      <td>0</td>\n",
              "      <td>3897</td>\n",
              "      <td>24</td>\n",
              "      <td>3</td>\n",
              "      <td>22</td>\n",
              "      <td>20</td>\n",
              "      <td>1</td>\n",
              "      <td>10</td>\n",
              "      <td>2</td>\n",
              "      <td>50</td>\n",
              "      <td>0</td>\n",
              "      <td>0</td>\n",
              "      <td>1</td>\n",
              "      <td>0</td>\n",
              "      <td>0</td>\n",
              "      <td>0</td>\n",
              "      <td>0</td>\n",
              "      <td>0</td>\n",
              "      <td>0</td>\n",
              "      <td>0</td>\n",
              "      <td>0</td>\n",
              "      <td>0</td>\n",
              "      <td>0</td>\n",
              "      <td>0</td>\n",
              "      <td>0</td>\n",
              "      <td>0</td>\n",
              "      <td>0</td>\n",
              "      <td>0</td>\n",
              "      <td>0</td>\n",
              "      <td>1</td>\n",
              "    </tr>\n",
              "    <tr>\n",
              "      <th>1</th>\n",
              "      <td>2</td>\n",
              "      <td>7662</td>\n",
              "      <td>1</td>\n",
              "      <td>5</td>\n",
              "      <td>5</td>\n",
              "      <td>50</td>\n",
              "      <td>13</td>\n",
              "      <td>15</td>\n",
              "      <td>7</td>\n",
              "      <td>25</td>\n",
              "      <td>1</td>\n",
              "      <td>0</td>\n",
              "      <td>0</td>\n",
              "      <td>0</td>\n",
              "      <td>0</td>\n",
              "      <td>0</td>\n",
              "      <td>0</td>\n",
              "      <td>0</td>\n",
              "      <td>0</td>\n",
              "      <td>0</td>\n",
              "      <td>0</td>\n",
              "      <td>0</td>\n",
              "      <td>0</td>\n",
              "      <td>1</td>\n",
              "      <td>0</td>\n",
              "      <td>0</td>\n",
              "      <td>0</td>\n",
              "      <td>0</td>\n",
              "      <td>0</td>\n",
              "      <td>0</td>\n",
              "    </tr>\n",
              "    <tr>\n",
              "      <th>2</th>\n",
              "      <td>2</td>\n",
              "      <td>13882</td>\n",
              "      <td>9</td>\n",
              "      <td>6</td>\n",
              "      <td>9</td>\n",
              "      <td>25</td>\n",
              "      <td>4</td>\n",
              "      <td>25</td>\n",
              "      <td>19</td>\n",
              "      <td>0</td>\n",
              "      <td>0</td>\n",
              "      <td>0</td>\n",
              "      <td>0</td>\n",
              "      <td>1</td>\n",
              "      <td>0</td>\n",
              "      <td>0</td>\n",
              "      <td>0</td>\n",
              "      <td>0</td>\n",
              "      <td>0</td>\n",
              "      <td>0</td>\n",
              "      <td>0</td>\n",
              "      <td>0</td>\n",
              "      <td>1</td>\n",
              "      <td>0</td>\n",
              "      <td>0</td>\n",
              "      <td>1</td>\n",
              "      <td>0</td>\n",
              "      <td>0</td>\n",
              "      <td>0</td>\n",
              "      <td>0</td>\n",
              "    </tr>\n",
              "    <tr>\n",
              "      <th>3</th>\n",
              "      <td>1</td>\n",
              "      <td>6218</td>\n",
              "      <td>12</td>\n",
              "      <td>5</td>\n",
              "      <td>18</td>\n",
              "      <td>5</td>\n",
              "      <td>23</td>\n",
              "      <td>30</td>\n",
              "      <td>5</td>\n",
              "      <td>25</td>\n",
              "      <td>0</td>\n",
              "      <td>0</td>\n",
              "      <td>1</td>\n",
              "      <td>0</td>\n",
              "      <td>0</td>\n",
              "      <td>0</td>\n",
              "      <td>0</td>\n",
              "      <td>0</td>\n",
              "      <td>0</td>\n",
              "      <td>0</td>\n",
              "      <td>0</td>\n",
              "      <td>0</td>\n",
              "      <td>0</td>\n",
              "      <td>1</td>\n",
              "      <td>0</td>\n",
              "      <td>0</td>\n",
              "      <td>0</td>\n",
              "      <td>0</td>\n",
              "      <td>0</td>\n",
              "      <td>0</td>\n",
              "    </tr>\n",
              "    <tr>\n",
              "      <th>4</th>\n",
              "      <td>1</td>\n",
              "      <td>13302</td>\n",
              "      <td>1</td>\n",
              "      <td>3</td>\n",
              "      <td>16</td>\n",
              "      <td>50</td>\n",
              "      <td>21</td>\n",
              "      <td>35</td>\n",
              "      <td>4</td>\n",
              "      <td>45</td>\n",
              "      <td>0</td>\n",
              "      <td>0</td>\n",
              "      <td>1</td>\n",
              "      <td>0</td>\n",
              "      <td>0</td>\n",
              "      <td>0</td>\n",
              "      <td>0</td>\n",
              "      <td>0</td>\n",
              "      <td>0</td>\n",
              "      <td>0</td>\n",
              "      <td>0</td>\n",
              "      <td>0</td>\n",
              "      <td>0</td>\n",
              "      <td>0</td>\n",
              "      <td>0</td>\n",
              "      <td>0</td>\n",
              "      <td>0</td>\n",
              "      <td>0</td>\n",
              "      <td>0</td>\n",
              "      <td>1</td>\n",
              "    </tr>\n",
              "  </tbody>\n",
              "</table>\n",
              "</div>"
            ],
            "text/plain": [
              "   Total_Stops  Price  Journey_Day  Journey_Month  Dep_Hour  Dep_Min  \\\n",
              "0            0   3897           24              3        22       20   \n",
              "1            2   7662            1              5         5       50   \n",
              "2            2  13882            9              6         9       25   \n",
              "3            1   6218           12              5        18        5   \n",
              "4            1  13302            1              3        16       50   \n",
              "\n",
              "   Arrival_Hour  Arrival_Min  Duration_hrs  Duration_mins  Airline_Air India  \\\n",
              "0             1           10             2             50                  0   \n",
              "1            13           15             7             25                  1   \n",
              "2             4           25            19              0                  0   \n",
              "3            23           30             5             25                  0   \n",
              "4            21           35             4             45                  0   \n",
              "\n",
              "   Airline_GoAir  Airline_IndiGo  Airline_Jet Airways  \\\n",
              "0              0               1                    0   \n",
              "1              0               0                    0   \n",
              "2              0               0                    1   \n",
              "3              0               1                    0   \n",
              "4              0               1                    0   \n",
              "\n",
              "   Airline_Jet Airways Business  Airline_Multiple carriers  \\\n",
              "0                             0                          0   \n",
              "1                             0                          0   \n",
              "2                             0                          0   \n",
              "3                             0                          0   \n",
              "4                             0                          0   \n",
              "\n",
              "   Airline_Multiple carriers Premium economy  Airline_SpiceJet  \\\n",
              "0                                          0                 0   \n",
              "1                                          0                 0   \n",
              "2                                          0                 0   \n",
              "3                                          0                 0   \n",
              "4                                          0                 0   \n",
              "\n",
              "   Airline_Trujet  Airline_Vistara  Airline_Vistara Premium economy  \\\n",
              "0               0                0                                0   \n",
              "1               0                0                                0   \n",
              "2               0                0                                0   \n",
              "3               0                0                                0   \n",
              "4               0                0                                0   \n",
              "\n",
              "   Source_Chennai  Source_Delhi  Source_Kolkata  Source_Mumbai  \\\n",
              "0               0             0               0              0   \n",
              "1               0             0               1              0   \n",
              "2               0             1               0              0   \n",
              "3               0             0               1              0   \n",
              "4               0             0               0              0   \n",
              "\n",
              "   Destination_Cochin  Destination_Delhi  Destination_Hyderabad  \\\n",
              "0                   0                  0                      0   \n",
              "1                   0                  0                      0   \n",
              "2                   1                  0                      0   \n",
              "3                   0                  0                      0   \n",
              "4                   0                  0                      0   \n",
              "\n",
              "   Destination_Kolkata  Destination_New Delhi  \n",
              "0                    0                      1  \n",
              "1                    0                      0  \n",
              "2                    0                      0  \n",
              "3                    0                      0  \n",
              "4                    0                      1  "
            ]
          },
          "metadata": {},
          "execution_count": 72
        }
      ]
    },
    {
      "cell_type": "markdown",
      "metadata": {
        "id": "9DttUr-qV7E4"
      },
      "source": [
        " - Column has been dropped successfully."
      ]
    },
    {
      "cell_type": "markdown",
      "metadata": {
        "id": "f_32H-H7Wd8Y"
      },
      "source": [
        "# **Handling Categorical Variable**"
      ]
    },
    {
      "cell_type": "markdown",
      "metadata": {
        "id": "M4NoP2BVaoMz"
      },
      "source": [
        "# **Airline**"
      ]
    },
    {
      "cell_type": "code",
      "metadata": {
        "id": "G1yM8vr9V4tO"
      },
      "source": [
        "train_data['Airline'].value_counts()"
      ],
      "execution_count": null,
      "outputs": []
    },
    {
      "cell_type": "code",
      "metadata": {
        "colab": {
          "base_uri": "https://localhost:8080/",
          "height": 475
        },
        "id": "NsR4AiLpXbX2",
        "outputId": "31f890bd-5986-4bd4-8b1e-4de227b548ba"
      },
      "source": [
        "# plot airline vs price\n",
        "\n",
        "sns.catplot(x='Airline', y='Price', data=train_data.sort_values('Price', ascending=False), kind='boxen', height=6, aspect=3)\n",
        "plt.show()"
      ],
      "execution_count": 54,
      "outputs": [
        {
          "output_type": "display_data",
          "data": {
            "image/png": "[encoded data removed]",
            "text/plain": [
              "<Figure size 1296x432 with 1 Axes>"
            ]
          },
          "metadata": {
            "needs_background": "light"
          }
        }
      ]
    },
    {
      "cell_type": "markdown",
      "metadata": {
        "id": "9tVNxk2QafOO"
      },
      "source": [
        " - As Airline is the nominal categorical data, we'll perform OneHotEncoding"
      ]
    },
    {
      "cell_type": "markdown",
      "metadata": {
        "id": "TQtsohL8aswX"
      },
      "source": [
        "# **One Hot Encoding**"
      ]
    },
    {
      "cell_type": "code",
      "metadata": {
        "colab": {
          "base_uri": "https://localhost:8080/",
          "height": 258
        },
        "id": "kNrurZ_TZ-P1",
        "outputId": "6df0bac2-e379-4a8b-83ac-dd42e625c8b3"
      },
      "source": [
        "Airline = train_data[['Airline']]\n",
        "Airline = pd.get_dummies(Airline, drop_first=True)\n",
        "Airline.head()"
      ],
      "execution_count": 55,
      "outputs": [
        {
          "output_type": "execute_result",
          "data": {
            "text/html": [
              "<div>\n",
              "<style scoped>\n",
              "    .dataframe tbody tr th:only-of-type {\n",
              "        vertical-align: middle;\n",
              "    }\n",
              "\n",
              "    .dataframe tbody tr th {\n",
              "        vertical-align: top;\n",
              "    }\n",
              "\n",
              "    .dataframe thead th {\n",
              "        text-align: right;\n",
              "    }\n",
              "</style>\n",
              "<table border=\"1\" class=\"dataframe\">\n",
              "  <thead>\n",
              "    <tr style=\"text-align: right;\">\n",
              "      <th></th>\n",
              "      <th>Airline_Air India</th>\n",
              "      <th>Airline_GoAir</th>\n",
              "      <th>Airline_IndiGo</th>\n",
              "      <th>Airline_Jet Airways</th>\n",
              "      <th>Airline_Jet Airways Business</th>\n",
              "      <th>Airline_Multiple carriers</th>\n",
              "      <th>Airline_Multiple carriers Premium economy</th>\n",
              "      <th>Airline_SpiceJet</th>\n",
              "      <th>Airline_Trujet</th>\n",
              "      <th>Airline_Vistara</th>\n",
              "      <th>Airline_Vistara Premium economy</th>\n",
              "    </tr>\n",
              "  </thead>\n",
              "  <tbody>\n",
              "    <tr>\n",
              "      <th>0</th>\n",
              "      <td>0</td>\n",
              "      <td>0</td>\n",
              "      <td>1</td>\n",
              "      <td>0</td>\n",
              "      <td>0</td>\n",
              "      <td>0</td>\n",
              "      <td>0</td>\n",
              "      <td>0</td>\n",
              "      <td>0</td>\n",
              "      <td>0</td>\n",
              "      <td>0</td>\n",
              "    </tr>\n",
              "    <tr>\n",
              "      <th>1</th>\n",
              "      <td>1</td>\n",
              "      <td>0</td>\n",
              "      <td>0</td>\n",
              "      <td>0</td>\n",
              "      <td>0</td>\n",
              "      <td>0</td>\n",
              "      <td>0</td>\n",
              "      <td>0</td>\n",
              "      <td>0</td>\n",
              "      <td>0</td>\n",
              "      <td>0</td>\n",
              "    </tr>\n",
              "    <tr>\n",
              "      <th>2</th>\n",
              "      <td>0</td>\n",
              "      <td>0</td>\n",
              "      <td>0</td>\n",
              "      <td>1</td>\n",
              "      <td>0</td>\n",
              "      <td>0</td>\n",
              "      <td>0</td>\n",
              "      <td>0</td>\n",
              "      <td>0</td>\n",
              "      <td>0</td>\n",
              "      <td>0</td>\n",
              "    </tr>\n",
              "    <tr>\n",
              "      <th>3</th>\n",
              "      <td>0</td>\n",
              "      <td>0</td>\n",
              "      <td>1</td>\n",
              "      <td>0</td>\n",
              "      <td>0</td>\n",
              "      <td>0</td>\n",
              "      <td>0</td>\n",
              "      <td>0</td>\n",
              "      <td>0</td>\n",
              "      <td>0</td>\n",
              "      <td>0</td>\n",
              "    </tr>\n",
              "    <tr>\n",
              "      <th>4</th>\n",
              "      <td>0</td>\n",
              "      <td>0</td>\n",
              "      <td>1</td>\n",
              "      <td>0</td>\n",
              "      <td>0</td>\n",
              "      <td>0</td>\n",
              "      <td>0</td>\n",
              "      <td>0</td>\n",
              "      <td>0</td>\n",
              "      <td>0</td>\n",
              "      <td>0</td>\n",
              "    </tr>\n",
              "  </tbody>\n",
              "</table>\n",
              "</div>"
            ],
            "text/plain": [
              "   Airline_Air India  Airline_GoAir  Airline_IndiGo  Airline_Jet Airways  \\\n",
              "0                  0              0               1                    0   \n",
              "1                  1              0               0                    0   \n",
              "2                  0              0               0                    1   \n",
              "3                  0              0               1                    0   \n",
              "4                  0              0               1                    0   \n",
              "\n",
              "   Airline_Jet Airways Business  Airline_Multiple carriers  \\\n",
              "0                             0                          0   \n",
              "1                             0                          0   \n",
              "2                             0                          0   \n",
              "3                             0                          0   \n",
              "4                             0                          0   \n",
              "\n",
              "   Airline_Multiple carriers Premium economy  Airline_SpiceJet  \\\n",
              "0                                          0                 0   \n",
              "1                                          0                 0   \n",
              "2                                          0                 0   \n",
              "3                                          0                 0   \n",
              "4                                          0                 0   \n",
              "\n",
              "   Airline_Trujet  Airline_Vistara  Airline_Vistara Premium economy  \n",
              "0               0                0                                0  \n",
              "1               0                0                                0  \n",
              "2               0                0                                0  \n",
              "3               0                0                                0  \n",
              "4               0                0                                0  "
            ]
          },
          "metadata": {},
          "execution_count": 55
        }
      ]
    },
    {
      "cell_type": "markdown",
      "metadata": {
        "id": "JSqa8klJbGMn"
      },
      "source": [
        " - Column has been converted."
      ]
    },
    {
      "cell_type": "markdown",
      "metadata": {
        "id": "tqVdSiI6bMV0"
      },
      "source": [
        "# **Source**"
      ]
    },
    {
      "cell_type": "code",
      "metadata": {
        "colab": {
          "base_uri": "https://localhost:8080/",
          "height": 311
        },
        "id": "lDp8CAyabDXf",
        "outputId": "c1f8d3a9-c672-477c-9ea8-a4ee43e1edfa"
      },
      "source": [
        "# Source vs Price\n",
        "\n",
        "sns.catplot(x='Source', y='Price', data=train_data.sort_values('Price', ascending=False), kind='boxen', height=4, aspect=3)\n",
        "plt.show()"
      ],
      "execution_count": 57,
      "outputs": [
        {
          "output_type": "display_data",
          "data": {
            "image/png": "[encoded data removed]",
            "text/plain": [
              "<Figure size 864x288 with 1 Axes>"
            ]
          },
          "metadata": {
            "needs_background": "light"
          }
        }
      ]
    },
    {
      "cell_type": "markdown",
      "metadata": {
        "id": "77Zft29zbi_C"
      },
      "source": [
        "- As Source is the nominal categorical data, we'll perform OneHotEncoding"
      ]
    },
    {
      "cell_type": "code",
      "metadata": {
        "colab": {
          "base_uri": "https://localhost:8080/",
          "height": 204
        },
        "id": "VHcEsJ-RbW2a",
        "outputId": "3d9e6d4b-7693-46a9-cc95-233266603993"
      },
      "source": [
        "Source = train_data[['Source']]\n",
        "Source = pd.get_dummies(Source, drop_first=True)\n",
        "Source.head()"
      ],
      "execution_count": 58,
      "outputs": [
        {
          "output_type": "execute_result",
          "data": {
            "text/html": [
              "<div>\n",
              "<style scoped>\n",
              "    .dataframe tbody tr th:only-of-type {\n",
              "        vertical-align: middle;\n",
              "    }\n",
              "\n",
              "    .dataframe tbody tr th {\n",
              "        vertical-align: top;\n",
              "    }\n",
              "\n",
              "    .dataframe thead th {\n",
              "        text-align: right;\n",
              "    }\n",
              "</style>\n",
              "<table border=\"1\" class=\"dataframe\">\n",
              "  <thead>\n",
              "    <tr style=\"text-align: right;\">\n",
              "      <th></th>\n",
              "      <th>Source_Chennai</th>\n",
              "      <th>Source_Delhi</th>\n",
              "      <th>Source_Kolkata</th>\n",
              "      <th>Source_Mumbai</th>\n",
              "    </tr>\n",
              "  </thead>\n",
              "  <tbody>\n",
              "    <tr>\n",
              "      <th>0</th>\n",
              "      <td>0</td>\n",
              "      <td>0</td>\n",
              "      <td>0</td>\n",
              "      <td>0</td>\n",
              "    </tr>\n",
              "    <tr>\n",
              "      <th>1</th>\n",
              "      <td>0</td>\n",
              "      <td>0</td>\n",
              "      <td>1</td>\n",
              "      <td>0</td>\n",
              "    </tr>\n",
              "    <tr>\n",
              "      <th>2</th>\n",
              "      <td>0</td>\n",
              "      <td>1</td>\n",
              "      <td>0</td>\n",
              "      <td>0</td>\n",
              "    </tr>\n",
              "    <tr>\n",
              "      <th>3</th>\n",
              "      <td>0</td>\n",
              "      <td>0</td>\n",
              "      <td>1</td>\n",
              "      <td>0</td>\n",
              "    </tr>\n",
              "    <tr>\n",
              "      <th>4</th>\n",
              "      <td>0</td>\n",
              "      <td>0</td>\n",
              "      <td>0</td>\n",
              "      <td>0</td>\n",
              "    </tr>\n",
              "  </tbody>\n",
              "</table>\n",
              "</div>"
            ],
            "text/plain": [
              "   Source_Chennai  Source_Delhi  Source_Kolkata  Source_Mumbai\n",
              "0               0             0               0              0\n",
              "1               0             0               1              0\n",
              "2               0             1               0              0\n",
              "3               0             0               1              0\n",
              "4               0             0               0              0"
            ]
          },
          "metadata": {},
          "execution_count": 58
        }
      ]
    },
    {
      "cell_type": "markdown",
      "metadata": {
        "id": "0dMCDaikbsAJ"
      },
      "source": [
        " - Column has been converted successfully."
      ]
    },
    {
      "cell_type": "markdown",
      "metadata": {
        "id": "xVBWImpIbziN"
      },
      "source": [
        "# **Destination**"
      ]
    },
    {
      "cell_type": "code",
      "metadata": {
        "colab": {
          "base_uri": "https://localhost:8080/"
        },
        "id": "QYcTpqvfbq0i",
        "outputId": "508bb048-63ea-425c-ad75-8f05d8a3e70f"
      },
      "source": [
        "train_data['Destination'].value_counts()"
      ],
      "execution_count": 59,
      "outputs": [
        {
          "output_type": "execute_result",
          "data": {
            "text/plain": [
              "Cochin       4536\n",
              "Banglore     2871\n",
              "Delhi        1265\n",
              "New Delhi     932\n",
              "Hyderabad     697\n",
              "Kolkata       381\n",
              "Name: Destination, dtype: int64"
            ]
          },
          "metadata": {},
          "execution_count": 59
        }
      ]
    },
    {
      "cell_type": "markdown",
      "metadata": {
        "id": "_-D53da1b_1h"
      },
      "source": [
        " - As Source is the nominal categorical data, we'll perform OneHotEncoding"
      ]
    },
    {
      "cell_type": "code",
      "metadata": {
        "colab": {
          "base_uri": "https://localhost:8080/",
          "height": 204
        },
        "id": "la5uQWiRb6tV",
        "outputId": "dfa7d589-7323-4108-c60a-4c98b79aeb0c"
      },
      "source": [
        "Destination = train_data[['Destination']]\n",
        "Destination = pd.get_dummies(Destination, drop_first=True)\n",
        "Destination.head()"
      ],
      "execution_count": 60,
      "outputs": [
        {
          "output_type": "execute_result",
          "data": {
            "text/html": [
              "<div>\n",
              "<style scoped>\n",
              "    .dataframe tbody tr th:only-of-type {\n",
              "        vertical-align: middle;\n",
              "    }\n",
              "\n",
              "    .dataframe tbody tr th {\n",
              "        vertical-align: top;\n",
              "    }\n",
              "\n",
              "    .dataframe thead th {\n",
              "        text-align: right;\n",
              "    }\n",
              "</style>\n",
              "<table border=\"1\" class=\"dataframe\">\n",
              "  <thead>\n",
              "    <tr style=\"text-align: right;\">\n",
              "      <th></th>\n",
              "      <th>Destination_Cochin</th>\n",
              "      <th>Destination_Delhi</th>\n",
              "      <th>Destination_Hyderabad</th>\n",
              "      <th>Destination_Kolkata</th>\n",
              "      <th>Destination_New Delhi</th>\n",
              "    </tr>\n",
              "  </thead>\n",
              "  <tbody>\n",
              "    <tr>\n",
              "      <th>0</th>\n",
              "      <td>0</td>\n",
              "      <td>0</td>\n",
              "      <td>0</td>\n",
              "      <td>0</td>\n",
              "      <td>1</td>\n",
              "    </tr>\n",
              "    <tr>\n",
              "      <th>1</th>\n",
              "      <td>0</td>\n",
              "      <td>0</td>\n",
              "      <td>0</td>\n",
              "      <td>0</td>\n",
              "      <td>0</td>\n",
              "    </tr>\n",
              "    <tr>\n",
              "      <th>2</th>\n",
              "      <td>1</td>\n",
              "      <td>0</td>\n",
              "      <td>0</td>\n",
              "      <td>0</td>\n",
              "      <td>0</td>\n",
              "    </tr>\n",
              "    <tr>\n",
              "      <th>3</th>\n",
              "      <td>0</td>\n",
              "      <td>0</td>\n",
              "      <td>0</td>\n",
              "      <td>0</td>\n",
              "      <td>0</td>\n",
              "    </tr>\n",
              "    <tr>\n",
              "      <th>4</th>\n",
              "      <td>0</td>\n",
              "      <td>0</td>\n",
              "      <td>0</td>\n",
              "      <td>0</td>\n",
              "      <td>1</td>\n",
              "    </tr>\n",
              "  </tbody>\n",
              "</table>\n",
              "</div>"
            ],
            "text/plain": [
              "   Destination_Cochin  Destination_Delhi  Destination_Hyderabad  \\\n",
              "0                   0                  0                      0   \n",
              "1                   0                  0                      0   \n",
              "2                   1                  0                      0   \n",
              "3                   0                  0                      0   \n",
              "4                   0                  0                      0   \n",
              "\n",
              "   Destination_Kolkata  Destination_New Delhi  \n",
              "0                    0                      1  \n",
              "1                    0                      0  \n",
              "2                    0                      0  \n",
              "3                    0                      0  \n",
              "4                    0                      1  "
            ]
          },
          "metadata": {},
          "execution_count": 60
        }
      ]
    },
    {
      "cell_type": "markdown",
      "metadata": {
        "id": "ijQcJCcucPmi"
      },
      "source": [
        " - Column has been converted successfully."
      ]
    },
    {
      "cell_type": "markdown",
      "metadata": {
        "id": "0z8sKjq1cU4K"
      },
      "source": [
        "# **Route**"
      ]
    },
    {
      "cell_type": "code",
      "metadata": {
        "colab": {
          "base_uri": "https://localhost:8080/"
        },
        "id": "cthct0olcRHj",
        "outputId": "43d979d3-d90a-4680-a3ec-613bb97018c3"
      },
      "source": [
        "train_data['Route']"
      ],
      "execution_count": 61,
      "outputs": [
        {
          "output_type": "execute_result",
          "data": {
            "text/plain": [
              "0                    BLR → DEL\n",
              "1        CCU → IXR → BBI → BLR\n",
              "2        DEL → LKO → BOM → COK\n",
              "3              CCU → NAG → BLR\n",
              "4              BLR → NAG → DEL\n",
              "                 ...          \n",
              "10678                CCU → BLR\n",
              "10679                CCU → BLR\n",
              "10680                BLR → DEL\n",
              "10681                BLR → DEL\n",
              "10682    DEL → GOI → BOM → COK\n",
              "Name: Route, Length: 10682, dtype: object"
            ]
          },
          "metadata": {},
          "execution_count": 61
        }
      ]
    },
    {
      "cell_type": "markdown",
      "metadata": {
        "id": "mNEOJ6NRci1u"
      },
      "source": [
        " - \"Route\" is related to \"Total_Stops\" column.\n",
        " - \"Additional_Info\" contains almost 80% of No Info data, better to drop it."
      ]
    },
    {
      "cell_type": "code",
      "metadata": {
        "id": "e7uzRewCcYpP"
      },
      "source": [
        "train_data.drop(['Route', 'Additional_Info'], axis=1, inplace=True)"
      ],
      "execution_count": 62,
      "outputs": []
    },
    {
      "cell_type": "code",
      "metadata": {
        "colab": {
          "base_uri": "https://localhost:8080/",
          "height": 241
        },
        "id": "IgVTX9yVe-oi",
        "outputId": "99115641-458e-4690-c55d-d7b804c0fcf9"
      },
      "source": [
        "train_data.head()"
      ],
      "execution_count": 63,
      "outputs": [
        {
          "output_type": "execute_result",
          "data": {
            "text/html": [
              "<div>\n",
              "<style scoped>\n",
              "    .dataframe tbody tr th:only-of-type {\n",
              "        vertical-align: middle;\n",
              "    }\n",
              "\n",
              "    .dataframe tbody tr th {\n",
              "        vertical-align: top;\n",
              "    }\n",
              "\n",
              "    .dataframe thead th {\n",
              "        text-align: right;\n",
              "    }\n",
              "</style>\n",
              "<table border=\"1\" class=\"dataframe\">\n",
              "  <thead>\n",
              "    <tr style=\"text-align: right;\">\n",
              "      <th></th>\n",
              "      <th>Airline</th>\n",
              "      <th>Source</th>\n",
              "      <th>Destination</th>\n",
              "      <th>Duration</th>\n",
              "      <th>Total_Stops</th>\n",
              "      <th>Price</th>\n",
              "      <th>Journey_Day</th>\n",
              "      <th>Journey_Month</th>\n",
              "      <th>Dep_Hour</th>\n",
              "      <th>Dep_Min</th>\n",
              "      <th>Arrival_Hour</th>\n",
              "      <th>Arrival_Min</th>\n",
              "      <th>Duration_hrs</th>\n",
              "      <th>Duration_mins</th>\n",
              "    </tr>\n",
              "  </thead>\n",
              "  <tbody>\n",
              "    <tr>\n",
              "      <th>0</th>\n",
              "      <td>IndiGo</td>\n",
              "      <td>Banglore</td>\n",
              "      <td>New Delhi</td>\n",
              "      <td>2h 50m</td>\n",
              "      <td>non-stop</td>\n",
              "      <td>3897</td>\n",
              "      <td>24</td>\n",
              "      <td>3</td>\n",
              "      <td>22</td>\n",
              "      <td>20</td>\n",
              "      <td>1</td>\n",
              "      <td>10</td>\n",
              "      <td>2</td>\n",
              "      <td>50</td>\n",
              "    </tr>\n",
              "    <tr>\n",
              "      <th>1</th>\n",
              "      <td>Air India</td>\n",
              "      <td>Kolkata</td>\n",
              "      <td>Banglore</td>\n",
              "      <td>7h 25m</td>\n",
              "      <td>2 stops</td>\n",
              "      <td>7662</td>\n",
              "      <td>1</td>\n",
              "      <td>5</td>\n",
              "      <td>5</td>\n",
              "      <td>50</td>\n",
              "      <td>13</td>\n",
              "      <td>15</td>\n",
              "      <td>7</td>\n",
              "      <td>25</td>\n",
              "    </tr>\n",
              "    <tr>\n",
              "      <th>2</th>\n",
              "      <td>Jet Airways</td>\n",
              "      <td>Delhi</td>\n",
              "      <td>Cochin</td>\n",
              "      <td>19h</td>\n",
              "      <td>2 stops</td>\n",
              "      <td>13882</td>\n",
              "      <td>9</td>\n",
              "      <td>6</td>\n",
              "      <td>9</td>\n",
              "      <td>25</td>\n",
              "      <td>4</td>\n",
              "      <td>25</td>\n",
              "      <td>19</td>\n",
              "      <td>0</td>\n",
              "    </tr>\n",
              "    <tr>\n",
              "      <th>3</th>\n",
              "      <td>IndiGo</td>\n",
              "      <td>Kolkata</td>\n",
              "      <td>Banglore</td>\n",
              "      <td>5h 25m</td>\n",
              "      <td>1 stop</td>\n",
              "      <td>6218</td>\n",
              "      <td>12</td>\n",
              "      <td>5</td>\n",
              "      <td>18</td>\n",
              "      <td>5</td>\n",
              "      <td>23</td>\n",
              "      <td>30</td>\n",
              "      <td>5</td>\n",
              "      <td>25</td>\n",
              "    </tr>\n",
              "    <tr>\n",
              "      <th>4</th>\n",
              "      <td>IndiGo</td>\n",
              "      <td>Banglore</td>\n",
              "      <td>New Delhi</td>\n",
              "      <td>4h 45m</td>\n",
              "      <td>1 stop</td>\n",
              "      <td>13302</td>\n",
              "      <td>1</td>\n",
              "      <td>3</td>\n",
              "      <td>16</td>\n",
              "      <td>50</td>\n",
              "      <td>21</td>\n",
              "      <td>35</td>\n",
              "      <td>4</td>\n",
              "      <td>45</td>\n",
              "    </tr>\n",
              "  </tbody>\n",
              "</table>\n",
              "</div>"
            ],
            "text/plain": [
              "       Airline    Source Destination Duration Total_Stops  Price  Journey_Day  \\\n",
              "0       IndiGo  Banglore   New Delhi   2h 50m    non-stop   3897           24   \n",
              "1    Air India   Kolkata    Banglore   7h 25m     2 stops   7662            1   \n",
              "2  Jet Airways     Delhi      Cochin      19h     2 stops  13882            9   \n",
              "3       IndiGo   Kolkata    Banglore   5h 25m      1 stop   6218           12   \n",
              "4       IndiGo  Banglore   New Delhi   4h 45m      1 stop  13302            1   \n",
              "\n",
              "   Journey_Month  Dep_Hour  Dep_Min  Arrival_Hour  Arrival_Min  Duration_hrs  \\\n",
              "0              3        22       20             1           10             2   \n",
              "1              5         5       50            13           15             7   \n",
              "2              6         9       25             4           25            19   \n",
              "3              5        18        5            23           30             5   \n",
              "4              3        16       50            21           35             4   \n",
              "\n",
              "   Duration_mins  \n",
              "0             50  \n",
              "1             25  \n",
              "2              0  \n",
              "3             25  \n",
              "4             45  "
            ]
          },
          "metadata": {},
          "execution_count": 63
        }
      ]
    },
    {
      "cell_type": "markdown",
      "metadata": {
        "id": "jIPi0IudfEPS"
      },
      "source": [
        " - Both the colummns have been dropped successfully."
      ]
    },
    {
      "cell_type": "markdown",
      "metadata": {
        "id": "JA3g3gZrfOEt"
      },
      "source": [
        "# **Total_Stops**"
      ]
    },
    {
      "cell_type": "code",
      "metadata": {
        "colab": {
          "base_uri": "https://localhost:8080/"
        },
        "id": "opQNGssqfBt4",
        "outputId": "445d8653-9df4-4fe8-cd7a-49eb2cb9f705"
      },
      "source": [
        "train_data['Total_Stops'].value_counts()"
      ],
      "execution_count": 64,
      "outputs": [
        {
          "output_type": "execute_result",
          "data": {
            "text/plain": [
              "1 stop      5625\n",
              "non-stop    3491\n",
              "2 stops     1520\n",
              "3 stops       45\n",
              "4 stops        1\n",
              "Name: Total_Stops, dtype: int64"
            ]
          },
          "metadata": {},
          "execution_count": 64
        }
      ]
    },
    {
      "cell_type": "markdown",
      "metadata": {
        "id": "VgN0jOlTfdb8"
      },
      "source": [
        " - \"Total_Stops\" column is the ordinal categorical type, so we'll perform LabelEncoder.\n",
        " - Here, values are assigned with corresponding keys."
      ]
    },
    {
      "cell_type": "code",
      "metadata": {
        "id": "5Xm13pXAfT0M"
      },
      "source": [
        "train_data.replace({'non-stop':0, '1 stop':1, '2 stops':2, '3 stops':3, '4 stops':4}, inplace=True)"
      ],
      "execution_count": 65,
      "outputs": []
    },
    {
      "cell_type": "code",
      "metadata": {
        "colab": {
          "base_uri": "https://localhost:8080/",
          "height": 241
        },
        "id": "H_FbCTjAgDH-",
        "outputId": "fbff0d4c-3eb8-4455-c476-67e4c03720bf"
      },
      "source": [
        "train_data.head()"
      ],
      "execution_count": 66,
      "outputs": [
        {
          "output_type": "execute_result",
          "data": {
            "text/html": [
              "<div>\n",
              "<style scoped>\n",
              "    .dataframe tbody tr th:only-of-type {\n",
              "        vertical-align: middle;\n",
              "    }\n",
              "\n",
              "    .dataframe tbody tr th {\n",
              "        vertical-align: top;\n",
              "    }\n",
              "\n",
              "    .dataframe thead th {\n",
              "        text-align: right;\n",
              "    }\n",
              "</style>\n",
              "<table border=\"1\" class=\"dataframe\">\n",
              "  <thead>\n",
              "    <tr style=\"text-align: right;\">\n",
              "      <th></th>\n",
              "      <th>Airline</th>\n",
              "      <th>Source</th>\n",
              "      <th>Destination</th>\n",
              "      <th>Duration</th>\n",
              "      <th>Total_Stops</th>\n",
              "      <th>Price</th>\n",
              "      <th>Journey_Day</th>\n",
              "      <th>Journey_Month</th>\n",
              "      <th>Dep_Hour</th>\n",
              "      <th>Dep_Min</th>\n",
              "      <th>Arrival_Hour</th>\n",
              "      <th>Arrival_Min</th>\n",
              "      <th>Duration_hrs</th>\n",
              "      <th>Duration_mins</th>\n",
              "    </tr>\n",
              "  </thead>\n",
              "  <tbody>\n",
              "    <tr>\n",
              "      <th>0</th>\n",
              "      <td>IndiGo</td>\n",
              "      <td>Banglore</td>\n",
              "      <td>New Delhi</td>\n",
              "      <td>2h 50m</td>\n",
              "      <td>0</td>\n",
              "      <td>3897</td>\n",
              "      <td>24</td>\n",
              "      <td>3</td>\n",
              "      <td>22</td>\n",
              "      <td>20</td>\n",
              "      <td>1</td>\n",
              "      <td>10</td>\n",
              "      <td>2</td>\n",
              "      <td>50</td>\n",
              "    </tr>\n",
              "    <tr>\n",
              "      <th>1</th>\n",
              "      <td>Air India</td>\n",
              "      <td>Kolkata</td>\n",
              "      <td>Banglore</td>\n",
              "      <td>7h 25m</td>\n",
              "      <td>2</td>\n",
              "      <td>7662</td>\n",
              "      <td>1</td>\n",
              "      <td>5</td>\n",
              "      <td>5</td>\n",
              "      <td>50</td>\n",
              "      <td>13</td>\n",
              "      <td>15</td>\n",
              "      <td>7</td>\n",
              "      <td>25</td>\n",
              "    </tr>\n",
              "    <tr>\n",
              "      <th>2</th>\n",
              "      <td>Jet Airways</td>\n",
              "      <td>Delhi</td>\n",
              "      <td>Cochin</td>\n",
              "      <td>19h</td>\n",
              "      <td>2</td>\n",
              "      <td>13882</td>\n",
              "      <td>9</td>\n",
              "      <td>6</td>\n",
              "      <td>9</td>\n",
              "      <td>25</td>\n",
              "      <td>4</td>\n",
              "      <td>25</td>\n",
              "      <td>19</td>\n",
              "      <td>0</td>\n",
              "    </tr>\n",
              "    <tr>\n",
              "      <th>3</th>\n",
              "      <td>IndiGo</td>\n",
              "      <td>Kolkata</td>\n",
              "      <td>Banglore</td>\n",
              "      <td>5h 25m</td>\n",
              "      <td>1</td>\n",
              "      <td>6218</td>\n",
              "      <td>12</td>\n",
              "      <td>5</td>\n",
              "      <td>18</td>\n",
              "      <td>5</td>\n",
              "      <td>23</td>\n",
              "      <td>30</td>\n",
              "      <td>5</td>\n",
              "      <td>25</td>\n",
              "    </tr>\n",
              "    <tr>\n",
              "      <th>4</th>\n",
              "      <td>IndiGo</td>\n",
              "      <td>Banglore</td>\n",
              "      <td>New Delhi</td>\n",
              "      <td>4h 45m</td>\n",
              "      <td>1</td>\n",
              "      <td>13302</td>\n",
              "      <td>1</td>\n",
              "      <td>3</td>\n",
              "      <td>16</td>\n",
              "      <td>50</td>\n",
              "      <td>21</td>\n",
              "      <td>35</td>\n",
              "      <td>4</td>\n",
              "      <td>45</td>\n",
              "    </tr>\n",
              "  </tbody>\n",
              "</table>\n",
              "</div>"
            ],
            "text/plain": [
              "       Airline    Source Destination Duration  Total_Stops  Price  \\\n",
              "0       IndiGo  Banglore   New Delhi   2h 50m            0   3897   \n",
              "1    Air India   Kolkata    Banglore   7h 25m            2   7662   \n",
              "2  Jet Airways     Delhi      Cochin      19h            2  13882   \n",
              "3       IndiGo   Kolkata    Banglore   5h 25m            1   6218   \n",
              "4       IndiGo  Banglore   New Delhi   4h 45m            1  13302   \n",
              "\n",
              "   Journey_Day  Journey_Month  Dep_Hour  Dep_Min  Arrival_Hour  Arrival_Min  \\\n",
              "0           24              3        22       20             1           10   \n",
              "1            1              5         5       50            13           15   \n",
              "2            9              6         9       25             4           25   \n",
              "3           12              5        18        5            23           30   \n",
              "4            1              3        16       50            21           35   \n",
              "\n",
              "   Duration_hrs  Duration_mins  \n",
              "0             2             50  \n",
              "1             7             25  \n",
              "2            19              0  \n",
              "3             5             25  \n",
              "4             4             45  "
            ]
          },
          "metadata": {},
          "execution_count": 66
        }
      ]
    },
    {
      "cell_type": "markdown",
      "metadata": {
        "id": "Ot7W4rdfgH3R"
      },
      "source": [
        " - \"Total_Stops\" has been converted.\n",
        " - Concatenate DataFrame = train_data + Airline + Source + Destination"
      ]
    },
    {
      "cell_type": "code",
      "metadata": {
        "id": "XB9kuXm9gGSU"
      },
      "source": [
        "train_data = pd.concat([train_data, Airline, Source, Destination],axis=1)"
      ],
      "execution_count": 67,
      "outputs": []
    },
    {
      "cell_type": "code",
      "metadata": {
        "colab": {
          "base_uri": "https://localhost:8080/",
          "height": 275
        },
        "id": "E4CyGh_ShDQP",
        "outputId": "3e9e770d-8bbb-44e6-ae9d-929b0f2edd23"
      },
      "source": [
        "train_data.head()"
      ],
      "execution_count": 68,
      "outputs": [
        {
          "output_type": "execute_result",
          "data": {
            "text/html": [
              "<div>\n",
              "<style scoped>\n",
              "    .dataframe tbody tr th:only-of-type {\n",
              "        vertical-align: middle;\n",
              "    }\n",
              "\n",
              "    .dataframe tbody tr th {\n",
              "        vertical-align: top;\n",
              "    }\n",
              "\n",
              "    .dataframe thead th {\n",
              "        text-align: right;\n",
              "    }\n",
              "</style>\n",
              "<table border=\"1\" class=\"dataframe\">\n",
              "  <thead>\n",
              "    <tr style=\"text-align: right;\">\n",
              "      <th></th>\n",
              "      <th>Airline</th>\n",
              "      <th>Source</th>\n",
              "      <th>Destination</th>\n",
              "      <th>Duration</th>\n",
              "      <th>Total_Stops</th>\n",
              "      <th>Price</th>\n",
              "      <th>Journey_Day</th>\n",
              "      <th>Journey_Month</th>\n",
              "      <th>Dep_Hour</th>\n",
              "      <th>Dep_Min</th>\n",
              "      <th>Arrival_Hour</th>\n",
              "      <th>Arrival_Min</th>\n",
              "      <th>Duration_hrs</th>\n",
              "      <th>Duration_mins</th>\n",
              "      <th>Airline_Air India</th>\n",
              "      <th>Airline_GoAir</th>\n",
              "      <th>Airline_IndiGo</th>\n",
              "      <th>Airline_Jet Airways</th>\n",
              "      <th>Airline_Jet Airways Business</th>\n",
              "      <th>Airline_Multiple carriers</th>\n",
              "      <th>Airline_Multiple carriers Premium economy</th>\n",
              "      <th>Airline_SpiceJet</th>\n",
              "      <th>Airline_Trujet</th>\n",
              "      <th>Airline_Vistara</th>\n",
              "      <th>Airline_Vistara Premium economy</th>\n",
              "      <th>Source_Chennai</th>\n",
              "      <th>Source_Delhi</th>\n",
              "      <th>Source_Kolkata</th>\n",
              "      <th>Source_Mumbai</th>\n",
              "      <th>Destination_Cochin</th>\n",
              "      <th>Destination_Delhi</th>\n",
              "      <th>Destination_Hyderabad</th>\n",
              "      <th>Destination_Kolkata</th>\n",
              "      <th>Destination_New Delhi</th>\n",
              "    </tr>\n",
              "  </thead>\n",
              "  <tbody>\n",
              "    <tr>\n",
              "      <th>0</th>\n",
              "      <td>IndiGo</td>\n",
              "      <td>Banglore</td>\n",
              "      <td>New Delhi</td>\n",
              "      <td>2h 50m</td>\n",
              "      <td>0</td>\n",
              "      <td>3897</td>\n",
              "      <td>24</td>\n",
              "      <td>3</td>\n",
              "      <td>22</td>\n",
              "      <td>20</td>\n",
              "      <td>1</td>\n",
              "      <td>10</td>\n",
              "      <td>2</td>\n",
              "      <td>50</td>\n",
              "      <td>0</td>\n",
              "      <td>0</td>\n",
              "      <td>1</td>\n",
              "      <td>0</td>\n",
              "      <td>0</td>\n",
              "      <td>0</td>\n",
              "      <td>0</td>\n",
              "      <td>0</td>\n",
              "      <td>0</td>\n",
              "      <td>0</td>\n",
              "      <td>0</td>\n",
              "      <td>0</td>\n",
              "      <td>0</td>\n",
              "      <td>0</td>\n",
              "      <td>0</td>\n",
              "      <td>0</td>\n",
              "      <td>0</td>\n",
              "      <td>0</td>\n",
              "      <td>0</td>\n",
              "      <td>1</td>\n",
              "    </tr>\n",
              "    <tr>\n",
              "      <th>1</th>\n",
              "      <td>Air India</td>\n",
              "      <td>Kolkata</td>\n",
              "      <td>Banglore</td>\n",
              "      <td>7h 25m</td>\n",
              "      <td>2</td>\n",
              "      <td>7662</td>\n",
              "      <td>1</td>\n",
              "      <td>5</td>\n",
              "      <td>5</td>\n",
              "      <td>50</td>\n",
              "      <td>13</td>\n",
              "      <td>15</td>\n",
              "      <td>7</td>\n",
              "      <td>25</td>\n",
              "      <td>1</td>\n",
              "      <td>0</td>\n",
              "      <td>0</td>\n",
              "      <td>0</td>\n",
              "      <td>0</td>\n",
              "      <td>0</td>\n",
              "      <td>0</td>\n",
              "      <td>0</td>\n",
              "      <td>0</td>\n",
              "      <td>0</td>\n",
              "      <td>0</td>\n",
              "      <td>0</td>\n",
              "      <td>0</td>\n",
              "      <td>1</td>\n",
              "      <td>0</td>\n",
              "      <td>0</td>\n",
              "      <td>0</td>\n",
              "      <td>0</td>\n",
              "      <td>0</td>\n",
              "      <td>0</td>\n",
              "    </tr>\n",
              "    <tr>\n",
              "      <th>2</th>\n",
              "      <td>Jet Airways</td>\n",
              "      <td>Delhi</td>\n",
              "      <td>Cochin</td>\n",
              "      <td>19h</td>\n",
              "      <td>2</td>\n",
              "      <td>13882</td>\n",
              "      <td>9</td>\n",
              "      <td>6</td>\n",
              "      <td>9</td>\n",
              "      <td>25</td>\n",
              "      <td>4</td>\n",
              "      <td>25</td>\n",
              "      <td>19</td>\n",
              "      <td>0</td>\n",
              "      <td>0</td>\n",
              "      <td>0</td>\n",
              "      <td>0</td>\n",
              "      <td>1</td>\n",
              "      <td>0</td>\n",
              "      <td>0</td>\n",
              "      <td>0</td>\n",
              "      <td>0</td>\n",
              "      <td>0</td>\n",
              "      <td>0</td>\n",
              "      <td>0</td>\n",
              "      <td>0</td>\n",
              "      <td>1</td>\n",
              "      <td>0</td>\n",
              "      <td>0</td>\n",
              "      <td>1</td>\n",
              "      <td>0</td>\n",
              "      <td>0</td>\n",
              "      <td>0</td>\n",
              "      <td>0</td>\n",
              "    </tr>\n",
              "    <tr>\n",
              "      <th>3</th>\n",
              "      <td>IndiGo</td>\n",
              "      <td>Kolkata</td>\n",
              "      <td>Banglore</td>\n",
              "      <td>5h 25m</td>\n",
              "      <td>1</td>\n",
              "      <td>6218</td>\n",
              "      <td>12</td>\n",
              "      <td>5</td>\n",
              "      <td>18</td>\n",
              "      <td>5</td>\n",
              "      <td>23</td>\n",
              "      <td>30</td>\n",
              "      <td>5</td>\n",
              "      <td>25</td>\n",
              "      <td>0</td>\n",
              "      <td>0</td>\n",
              "      <td>1</td>\n",
              "      <td>0</td>\n",
              "      <td>0</td>\n",
              "      <td>0</td>\n",
              "      <td>0</td>\n",
              "      <td>0</td>\n",
              "      <td>0</td>\n",
              "      <td>0</td>\n",
              "      <td>0</td>\n",
              "      <td>0</td>\n",
              "      <td>0</td>\n",
              "      <td>1</td>\n",
              "      <td>0</td>\n",
              "      <td>0</td>\n",
              "      <td>0</td>\n",
              "      <td>0</td>\n",
              "      <td>0</td>\n",
              "      <td>0</td>\n",
              "    </tr>\n",
              "    <tr>\n",
              "      <th>4</th>\n",
              "      <td>IndiGo</td>\n",
              "      <td>Banglore</td>\n",
              "      <td>New Delhi</td>\n",
              "      <td>4h 45m</td>\n",
              "      <td>1</td>\n",
              "      <td>13302</td>\n",
              "      <td>1</td>\n",
              "      <td>3</td>\n",
              "      <td>16</td>\n",
              "      <td>50</td>\n",
              "      <td>21</td>\n",
              "      <td>35</td>\n",
              "      <td>4</td>\n",
              "      <td>45</td>\n",
              "      <td>0</td>\n",
              "      <td>0</td>\n",
              "      <td>1</td>\n",
              "      <td>0</td>\n",
              "      <td>0</td>\n",
              "      <td>0</td>\n",
              "      <td>0</td>\n",
              "      <td>0</td>\n",
              "      <td>0</td>\n",
              "      <td>0</td>\n",
              "      <td>0</td>\n",
              "      <td>0</td>\n",
              "      <td>0</td>\n",
              "      <td>0</td>\n",
              "      <td>0</td>\n",
              "      <td>0</td>\n",
              "      <td>0</td>\n",
              "      <td>0</td>\n",
              "      <td>0</td>\n",
              "      <td>1</td>\n",
              "    </tr>\n",
              "  </tbody>\n",
              "</table>\n",
              "</div>"
            ],
            "text/plain": [
              "       Airline    Source Destination Duration  Total_Stops  Price  \\\n",
              "0       IndiGo  Banglore   New Delhi   2h 50m            0   3897   \n",
              "1    Air India   Kolkata    Banglore   7h 25m            2   7662   \n",
              "2  Jet Airways     Delhi      Cochin      19h            2  13882   \n",
              "3       IndiGo   Kolkata    Banglore   5h 25m            1   6218   \n",
              "4       IndiGo  Banglore   New Delhi   4h 45m            1  13302   \n",
              "\n",
              "   Journey_Day  Journey_Month  Dep_Hour  Dep_Min  Arrival_Hour  Arrival_Min  \\\n",
              "0           24              3        22       20             1           10   \n",
              "1            1              5         5       50            13           15   \n",
              "2            9              6         9       25             4           25   \n",
              "3           12              5        18        5            23           30   \n",
              "4            1              3        16       50            21           35   \n",
              "\n",
              "   Duration_hrs  Duration_mins  Airline_Air India  Airline_GoAir  \\\n",
              "0             2             50                  0              0   \n",
              "1             7             25                  1              0   \n",
              "2            19              0                  0              0   \n",
              "3             5             25                  0              0   \n",
              "4             4             45                  0              0   \n",
              "\n",
              "   Airline_IndiGo  Airline_Jet Airways  Airline_Jet Airways Business  \\\n",
              "0               1                    0                             0   \n",
              "1               0                    0                             0   \n",
              "2               0                    1                             0   \n",
              "3               1                    0                             0   \n",
              "4               1                    0                             0   \n",
              "\n",
              "   Airline_Multiple carriers  Airline_Multiple carriers Premium economy  \\\n",
              "0                          0                                          0   \n",
              "1                          0                                          0   \n",
              "2                          0                                          0   \n",
              "3                          0                                          0   \n",
              "4                          0                                          0   \n",
              "\n",
              "   Airline_SpiceJet  Airline_Trujet  Airline_Vistara  \\\n",
              "0                 0               0                0   \n",
              "1                 0               0                0   \n",
              "2                 0               0                0   \n",
              "3                 0               0                0   \n",
              "4                 0               0                0   \n",
              "\n",
              "   Airline_Vistara Premium economy  Source_Chennai  Source_Delhi  \\\n",
              "0                                0               0             0   \n",
              "1                                0               0             0   \n",
              "2                                0               0             1   \n",
              "3                                0               0             0   \n",
              "4                                0               0             0   \n",
              "\n",
              "   Source_Kolkata  Source_Mumbai  Destination_Cochin  Destination_Delhi  \\\n",
              "0               0              0                   0                  0   \n",
              "1               1              0                   0                  0   \n",
              "2               0              0                   1                  0   \n",
              "3               1              0                   0                  0   \n",
              "4               0              0                   0                  0   \n",
              "\n",
              "   Destination_Hyderabad  Destination_Kolkata  Destination_New Delhi  \n",
              "0                      0                    0                      1  \n",
              "1                      0                    0                      0  \n",
              "2                      0                    0                      0  \n",
              "3                      0                    0                      0  \n",
              "4                      0                    0                      1  "
            ]
          },
          "metadata": {},
          "execution_count": 68
        }
      ]
    },
    {
      "cell_type": "markdown",
      "metadata": {
        "id": "zaS5kZX9hKeD"
      },
      "source": [
        " - Columns added successfully.\n",
        " - Therefore, its better to drop Airline, Source, Destination."
      ]
    },
    {
      "cell_type": "code",
      "metadata": {
        "id": "c2rx-M95hGLg"
      },
      "source": [
        "# drop column\n",
        "\n",
        "train_data.drop(['Airline', 'Source', 'Destination'], axis=1, inplace=True)"
      ],
      "execution_count": 69,
      "outputs": []
    },
    {
      "cell_type": "code",
      "metadata": {
        "colab": {
          "base_uri": "https://localhost:8080/",
          "height": 258
        },
        "id": "zOku3_uvhj5F",
        "outputId": "90782fe2-ce06-44b2-eb21-331598ea57e9"
      },
      "source": [
        "train_data.head()"
      ],
      "execution_count": 74,
      "outputs": [
        {
          "output_type": "execute_result",
          "data": {
            "text/html": [
              "<div>\n",
              "<style scoped>\n",
              "    .dataframe tbody tr th:only-of-type {\n",
              "        vertical-align: middle;\n",
              "    }\n",
              "\n",
              "    .dataframe tbody tr th {\n",
              "        vertical-align: top;\n",
              "    }\n",
              "\n",
              "    .dataframe thead th {\n",
              "        text-align: right;\n",
              "    }\n",
              "</style>\n",
              "<table border=\"1\" class=\"dataframe\">\n",
              "  <thead>\n",
              "    <tr style=\"text-align: right;\">\n",
              "      <th></th>\n",
              "      <th>Total_Stops</th>\n",
              "      <th>Price</th>\n",
              "      <th>Journey_Day</th>\n",
              "      <th>Journey_Month</th>\n",
              "      <th>Dep_Hour</th>\n",
              "      <th>Dep_Min</th>\n",
              "      <th>Arrival_Hour</th>\n",
              "      <th>Arrival_Min</th>\n",
              "      <th>Duration_hrs</th>\n",
              "      <th>Duration_mins</th>\n",
              "      <th>Airline_Air India</th>\n",
              "      <th>Airline_GoAir</th>\n",
              "      <th>Airline_IndiGo</th>\n",
              "      <th>Airline_Jet Airways</th>\n",
              "      <th>Airline_Jet Airways Business</th>\n",
              "      <th>Airline_Multiple carriers</th>\n",
              "      <th>Airline_Multiple carriers Premium economy</th>\n",
              "      <th>Airline_SpiceJet</th>\n",
              "      <th>Airline_Trujet</th>\n",
              "      <th>Airline_Vistara</th>\n",
              "      <th>Airline_Vistara Premium economy</th>\n",
              "      <th>Source_Chennai</th>\n",
              "      <th>Source_Delhi</th>\n",
              "      <th>Source_Kolkata</th>\n",
              "      <th>Source_Mumbai</th>\n",
              "      <th>Destination_Cochin</th>\n",
              "      <th>Destination_Delhi</th>\n",
              "      <th>Destination_Hyderabad</th>\n",
              "      <th>Destination_Kolkata</th>\n",
              "      <th>Destination_New Delhi</th>\n",
              "    </tr>\n",
              "  </thead>\n",
              "  <tbody>\n",
              "    <tr>\n",
              "      <th>0</th>\n",
              "      <td>0</td>\n",
              "      <td>3897</td>\n",
              "      <td>24</td>\n",
              "      <td>3</td>\n",
              "      <td>22</td>\n",
              "      <td>20</td>\n",
              "      <td>1</td>\n",
              "      <td>10</td>\n",
              "      <td>2</td>\n",
              "      <td>50</td>\n",
              "      <td>0</td>\n",
              "      <td>0</td>\n",
              "      <td>1</td>\n",
              "      <td>0</td>\n",
              "      <td>0</td>\n",
              "      <td>0</td>\n",
              "      <td>0</td>\n",
              "      <td>0</td>\n",
              "      <td>0</td>\n",
              "      <td>0</td>\n",
              "      <td>0</td>\n",
              "      <td>0</td>\n",
              "      <td>0</td>\n",
              "      <td>0</td>\n",
              "      <td>0</td>\n",
              "      <td>0</td>\n",
              "      <td>0</td>\n",
              "      <td>0</td>\n",
              "      <td>0</td>\n",
              "      <td>1</td>\n",
              "    </tr>\n",
              "    <tr>\n",
              "      <th>1</th>\n",
              "      <td>2</td>\n",
              "      <td>7662</td>\n",
              "      <td>1</td>\n",
              "      <td>5</td>\n",
              "      <td>5</td>\n",
              "      <td>50</td>\n",
              "      <td>13</td>\n",
              "      <td>15</td>\n",
              "      <td>7</td>\n",
              "      <td>25</td>\n",
              "      <td>1</td>\n",
              "      <td>0</td>\n",
              "      <td>0</td>\n",
              "      <td>0</td>\n",
              "      <td>0</td>\n",
              "      <td>0</td>\n",
              "      <td>0</td>\n",
              "      <td>0</td>\n",
              "      <td>0</td>\n",
              "      <td>0</td>\n",
              "      <td>0</td>\n",
              "      <td>0</td>\n",
              "      <td>0</td>\n",
              "      <td>1</td>\n",
              "      <td>0</td>\n",
              "      <td>0</td>\n",
              "      <td>0</td>\n",
              "      <td>0</td>\n",
              "      <td>0</td>\n",
              "      <td>0</td>\n",
              "    </tr>\n",
              "    <tr>\n",
              "      <th>2</th>\n",
              "      <td>2</td>\n",
              "      <td>13882</td>\n",
              "      <td>9</td>\n",
              "      <td>6</td>\n",
              "      <td>9</td>\n",
              "      <td>25</td>\n",
              "      <td>4</td>\n",
              "      <td>25</td>\n",
              "      <td>19</td>\n",
              "      <td>0</td>\n",
              "      <td>0</td>\n",
              "      <td>0</td>\n",
              "      <td>0</td>\n",
              "      <td>1</td>\n",
              "      <td>0</td>\n",
              "      <td>0</td>\n",
              "      <td>0</td>\n",
              "      <td>0</td>\n",
              "      <td>0</td>\n",
              "      <td>0</td>\n",
              "      <td>0</td>\n",
              "      <td>0</td>\n",
              "      <td>1</td>\n",
              "      <td>0</td>\n",
              "      <td>0</td>\n",
              "      <td>1</td>\n",
              "      <td>0</td>\n",
              "      <td>0</td>\n",
              "      <td>0</td>\n",
              "      <td>0</td>\n",
              "    </tr>\n",
              "    <tr>\n",
              "      <th>3</th>\n",
              "      <td>1</td>\n",
              "      <td>6218</td>\n",
              "      <td>12</td>\n",
              "      <td>5</td>\n",
              "      <td>18</td>\n",
              "      <td>5</td>\n",
              "      <td>23</td>\n",
              "      <td>30</td>\n",
              "      <td>5</td>\n",
              "      <td>25</td>\n",
              "      <td>0</td>\n",
              "      <td>0</td>\n",
              "      <td>1</td>\n",
              "      <td>0</td>\n",
              "      <td>0</td>\n",
              "      <td>0</td>\n",
              "      <td>0</td>\n",
              "      <td>0</td>\n",
              "      <td>0</td>\n",
              "      <td>0</td>\n",
              "      <td>0</td>\n",
              "      <td>0</td>\n",
              "      <td>0</td>\n",
              "      <td>1</td>\n",
              "      <td>0</td>\n",
              "      <td>0</td>\n",
              "      <td>0</td>\n",
              "      <td>0</td>\n",
              "      <td>0</td>\n",
              "      <td>0</td>\n",
              "    </tr>\n",
              "    <tr>\n",
              "      <th>4</th>\n",
              "      <td>1</td>\n",
              "      <td>13302</td>\n",
              "      <td>1</td>\n",
              "      <td>3</td>\n",
              "      <td>16</td>\n",
              "      <td>50</td>\n",
              "      <td>21</td>\n",
              "      <td>35</td>\n",
              "      <td>4</td>\n",
              "      <td>45</td>\n",
              "      <td>0</td>\n",
              "      <td>0</td>\n",
              "      <td>1</td>\n",
              "      <td>0</td>\n",
              "      <td>0</td>\n",
              "      <td>0</td>\n",
              "      <td>0</td>\n",
              "      <td>0</td>\n",
              "      <td>0</td>\n",
              "      <td>0</td>\n",
              "      <td>0</td>\n",
              "      <td>0</td>\n",
              "      <td>0</td>\n",
              "      <td>0</td>\n",
              "      <td>0</td>\n",
              "      <td>0</td>\n",
              "      <td>0</td>\n",
              "      <td>0</td>\n",
              "      <td>0</td>\n",
              "      <td>1</td>\n",
              "    </tr>\n",
              "  </tbody>\n",
              "</table>\n",
              "</div>"
            ],
            "text/plain": [
              "   Total_Stops  Price  Journey_Day  Journey_Month  Dep_Hour  Dep_Min  \\\n",
              "0            0   3897           24              3        22       20   \n",
              "1            2   7662            1              5         5       50   \n",
              "2            2  13882            9              6         9       25   \n",
              "3            1   6218           12              5        18        5   \n",
              "4            1  13302            1              3        16       50   \n",
              "\n",
              "   Arrival_Hour  Arrival_Min  Duration_hrs  Duration_mins  Airline_Air India  \\\n",
              "0             1           10             2             50                  0   \n",
              "1            13           15             7             25                  1   \n",
              "2             4           25            19              0                  0   \n",
              "3            23           30             5             25                  0   \n",
              "4            21           35             4             45                  0   \n",
              "\n",
              "   Airline_GoAir  Airline_IndiGo  Airline_Jet Airways  \\\n",
              "0              0               1                    0   \n",
              "1              0               0                    0   \n",
              "2              0               0                    1   \n",
              "3              0               1                    0   \n",
              "4              0               1                    0   \n",
              "\n",
              "   Airline_Jet Airways Business  Airline_Multiple carriers  \\\n",
              "0                             0                          0   \n",
              "1                             0                          0   \n",
              "2                             0                          0   \n",
              "3                             0                          0   \n",
              "4                             0                          0   \n",
              "\n",
              "   Airline_Multiple carriers Premium economy  Airline_SpiceJet  \\\n",
              "0                                          0                 0   \n",
              "1                                          0                 0   \n",
              "2                                          0                 0   \n",
              "3                                          0                 0   \n",
              "4                                          0                 0   \n",
              "\n",
              "   Airline_Trujet  Airline_Vistara  Airline_Vistara Premium economy  \\\n",
              "0               0                0                                0   \n",
              "1               0                0                                0   \n",
              "2               0                0                                0   \n",
              "3               0                0                                0   \n",
              "4               0                0                                0   \n",
              "\n",
              "   Source_Chennai  Source_Delhi  Source_Kolkata  Source_Mumbai  \\\n",
              "0               0             0               0              0   \n",
              "1               0             0               1              0   \n",
              "2               0             1               0              0   \n",
              "3               0             0               1              0   \n",
              "4               0             0               0              0   \n",
              "\n",
              "   Destination_Cochin  Destination_Delhi  Destination_Hyderabad  \\\n",
              "0                   0                  0                      0   \n",
              "1                   0                  0                      0   \n",
              "2                   1                  0                      0   \n",
              "3                   0                  0                      0   \n",
              "4                   0                  0                      0   \n",
              "\n",
              "   Destination_Kolkata  Destination_New Delhi  \n",
              "0                    0                      1  \n",
              "1                    0                      0  \n",
              "2                    0                      0  \n",
              "3                    0                      0  \n",
              "4                    0                      1  "
            ]
          },
          "metadata": {},
          "execution_count": 74
        }
      ]
    },
    {
      "cell_type": "markdown",
      "metadata": {
        "id": "RtK2uAwHhovR"
      },
      "source": [
        " - Columns have been dropped successfully.\n",
        " - We've a proper train_data to feed a model."
      ]
    },
    {
      "cell_type": "code",
      "metadata": {
        "colab": {
          "base_uri": "https://localhost:8080/"
        },
        "id": "U8Dcsb43hmI4",
        "outputId": "58c1da91-71ad-43aa-d394-89d777e36a4c"
      },
      "source": [
        "# check shape of train_data\n",
        "train_data.shape"
      ],
      "execution_count": 75,
      "outputs": [
        {
          "output_type": "execute_result",
          "data": {
            "text/plain": [
              "(10682, 30)"
            ]
          },
          "metadata": {},
          "execution_count": 75
        }
      ]
    },
    {
      "cell_type": "markdown",
      "metadata": {
        "id": "HgV6C9Djiyzj"
      },
      "source": [
        "## **Test Data**"
      ]
    },
    {
      "cell_type": "code",
      "metadata": {
        "id": "3rcp1Jtmiqxm"
      },
      "source": [
        "test_data = pd.read_excel('/content/sample_data/Test_set.xlsx')"
      ],
      "execution_count": 76,
      "outputs": []
    },
    {
      "cell_type": "code",
      "metadata": {
        "colab": {
          "base_uri": "https://localhost:8080/",
          "height": 204
        },
        "id": "smqQcGLEjCDq",
        "outputId": "52a3a8c8-977f-4d94-f386-d0e46723f452"
      },
      "source": [
        "test_data.head()"
      ],
      "execution_count": 77,
      "outputs": [
        {
          "output_type": "execute_result",
          "data": {
            "text/html": [
              "<div>\n",
              "<style scoped>\n",
              "    .dataframe tbody tr th:only-of-type {\n",
              "        vertical-align: middle;\n",
              "    }\n",
              "\n",
              "    .dataframe tbody tr th {\n",
              "        vertical-align: top;\n",
              "    }\n",
              "\n",
              "    .dataframe thead th {\n",
              "        text-align: right;\n",
              "    }\n",
              "</style>\n",
              "<table border=\"1\" class=\"dataframe\">\n",
              "  <thead>\n",
              "    <tr style=\"text-align: right;\">\n",
              "      <th></th>\n",
              "      <th>Airline</th>\n",
              "      <th>Date_of_Journey</th>\n",
              "      <th>Source</th>\n",
              "      <th>Destination</th>\n",
              "      <th>Route</th>\n",
              "      <th>Dep_Time</th>\n",
              "      <th>Arrival_Time</th>\n",
              "      <th>Duration</th>\n",
              "      <th>Total_Stops</th>\n",
              "      <th>Additional_Info</th>\n",
              "    </tr>\n",
              "  </thead>\n",
              "  <tbody>\n",
              "    <tr>\n",
              "      <th>0</th>\n",
              "      <td>Jet Airways</td>\n",
              "      <td>6/06/2019</td>\n",
              "      <td>Delhi</td>\n",
              "      <td>Cochin</td>\n",
              "      <td>DEL → BOM → COK</td>\n",
              "      <td>17:30</td>\n",
              "      <td>04:25 07 Jun</td>\n",
              "      <td>10h 55m</td>\n",
              "      <td>1 stop</td>\n",
              "      <td>No info</td>\n",
              "    </tr>\n",
              "    <tr>\n",
              "      <th>1</th>\n",
              "      <td>IndiGo</td>\n",
              "      <td>12/05/2019</td>\n",
              "      <td>Kolkata</td>\n",
              "      <td>Banglore</td>\n",
              "      <td>CCU → MAA → BLR</td>\n",
              "      <td>06:20</td>\n",
              "      <td>10:20</td>\n",
              "      <td>4h</td>\n",
              "      <td>1 stop</td>\n",
              "      <td>No info</td>\n",
              "    </tr>\n",
              "    <tr>\n",
              "      <th>2</th>\n",
              "      <td>Jet Airways</td>\n",
              "      <td>21/05/2019</td>\n",
              "      <td>Delhi</td>\n",
              "      <td>Cochin</td>\n",
              "      <td>DEL → BOM → COK</td>\n",
              "      <td>19:15</td>\n",
              "      <td>19:00 22 May</td>\n",
              "      <td>23h 45m</td>\n",
              "      <td>1 stop</td>\n",
              "      <td>In-flight meal not included</td>\n",
              "    </tr>\n",
              "    <tr>\n",
              "      <th>3</th>\n",
              "      <td>Multiple carriers</td>\n",
              "      <td>21/05/2019</td>\n",
              "      <td>Delhi</td>\n",
              "      <td>Cochin</td>\n",
              "      <td>DEL → BOM → COK</td>\n",
              "      <td>08:00</td>\n",
              "      <td>21:00</td>\n",
              "      <td>13h</td>\n",
              "      <td>1 stop</td>\n",
              "      <td>No info</td>\n",
              "    </tr>\n",
              "    <tr>\n",
              "      <th>4</th>\n",
              "      <td>Air Asia</td>\n",
              "      <td>24/06/2019</td>\n",
              "      <td>Banglore</td>\n",
              "      <td>Delhi</td>\n",
              "      <td>BLR → DEL</td>\n",
              "      <td>23:55</td>\n",
              "      <td>02:45 25 Jun</td>\n",
              "      <td>2h 50m</td>\n",
              "      <td>non-stop</td>\n",
              "      <td>No info</td>\n",
              "    </tr>\n",
              "  </tbody>\n",
              "</table>\n",
              "</div>"
            ],
            "text/plain": [
              "             Airline Date_of_Journey    Source Destination            Route  \\\n",
              "0        Jet Airways       6/06/2019     Delhi      Cochin  DEL → BOM → COK   \n",
              "1             IndiGo      12/05/2019   Kolkata    Banglore  CCU → MAA → BLR   \n",
              "2        Jet Airways      21/05/2019     Delhi      Cochin  DEL → BOM → COK   \n",
              "3  Multiple carriers      21/05/2019     Delhi      Cochin  DEL → BOM → COK   \n",
              "4           Air Asia      24/06/2019  Banglore       Delhi        BLR → DEL   \n",
              "\n",
              "  Dep_Time  Arrival_Time Duration Total_Stops              Additional_Info  \n",
              "0    17:30  04:25 07 Jun  10h 55m      1 stop                      No info  \n",
              "1    06:20         10:20       4h      1 stop                      No info  \n",
              "2    19:15  19:00 22 May  23h 45m      1 stop  In-flight meal not included  \n",
              "3    08:00         21:00      13h      1 stop                      No info  \n",
              "4    23:55  02:45 25 Jun   2h 50m    non-stop                      No info  "
            ]
          },
          "metadata": {},
          "execution_count": 77
        }
      ]
    },
    {
      "cell_type": "code",
      "metadata": {
        "colab": {
          "base_uri": "https://localhost:8080/"
        },
        "id": "T-T0w8VQjFvQ",
        "outputId": "f4f92f12-8667-421a-8244-cdaf64334192"
      },
      "source": [
        "test_data.shape"
      ],
      "execution_count": 78,
      "outputs": [
        {
          "output_type": "execute_result",
          "data": {
            "text/plain": [
              "(2671, 10)"
            ]
          },
          "metadata": {},
          "execution_count": 78
        }
      ]
    },
    {
      "cell_type": "markdown",
      "metadata": {
        "id": "2hdKAVxMjXbY"
      },
      "source": [
        "# **Preprocessing on Test Data**"
      ]
    },
    {
      "cell_type": "code",
      "metadata": {
        "colab": {
          "base_uri": "https://localhost:8080/"
        },
        "id": "BvB9jJI-jJ23",
        "outputId": "99e2c03c-6ff6-46a8-ae4a-b2b65f64eaf2"
      },
      "source": [
        "test_data.info()"
      ],
      "execution_count": 79,
      "outputs": [
        {
          "output_type": "stream",
          "text": [
            "<class 'pandas.core.frame.DataFrame'>\n",
            "RangeIndex: 2671 entries, 0 to 2670\n",
            "Data columns (total 10 columns):\n",
            " #   Column           Non-Null Count  Dtype \n",
            "---  ------           --------------  ----- \n",
            " 0   Airline          2671 non-null   object\n",
            " 1   Date_of_Journey  2671 non-null   object\n",
            " 2   Source           2671 non-null   object\n",
            " 3   Destination      2671 non-null   object\n",
            " 4   Route            2671 non-null   object\n",
            " 5   Dep_Time         2671 non-null   object\n",
            " 6   Arrival_Time     2671 non-null   object\n",
            " 7   Duration         2671 non-null   object\n",
            " 8   Total_Stops      2671 non-null   object\n",
            " 9   Additional_Info  2671 non-null   object\n",
            "dtypes: object(10)\n",
            "memory usage: 208.8+ KB\n"
          ],
          "name": "stdout"
        }
      ]
    },
    {
      "cell_type": "markdown",
      "metadata": {
        "id": "KOTxInygjhym"
      },
      "source": [
        " - We have all columns are object type in test data."
      ]
    },
    {
      "cell_type": "code",
      "metadata": {
        "colab": {
          "base_uri": "https://localhost:8080/"
        },
        "id": "xfFl80CYjgf4",
        "outputId": "678e644c-9274-4659-e6ec-f9707dab4f31"
      },
      "source": [
        "# check null\n",
        "test_data.isnull().sum()"
      ],
      "execution_count": 81,
      "outputs": [
        {
          "output_type": "execute_result",
          "data": {
            "text/plain": [
              "Airline            0\n",
              "Date_of_Journey    0\n",
              "Source             0\n",
              "Destination        0\n",
              "Route              0\n",
              "Dep_Time           0\n",
              "Arrival_Time       0\n",
              "Duration           0\n",
              "Total_Stops        0\n",
              "Additional_Info    0\n",
              "dtype: int64"
            ]
          },
          "metadata": {},
          "execution_count": 81
        }
      ]
    },
    {
      "cell_type": "markdown",
      "metadata": {
        "id": "ngfUPowAj35z"
      },
      "source": [
        " - Our test data don't have any null values ."
      ]
    },
    {
      "cell_type": "markdown",
      "metadata": {
        "id": "yHhA_Qk_kAed"
      },
      "source": [
        "## **Date_of_Journey**"
      ]
    },
    {
      "cell_type": "code",
      "metadata": {
        "id": "pgU8brkij1K8"
      },
      "source": [
        "# convert into interger\n",
        "\n",
        "test_data['Journey_Day'] = pd.to_datetime(test_data.Date_of_Journey, format='%d/%m/%Y').dt.day\n",
        "\n",
        "test_data['Journey_Month'] = pd.to_datetime(test_data['Date_of_Journey'], format='%d/%m/%Y').dt.month\n",
        "\n",
        "test_data.drop(['Date_of_Journey'], axis=1, inplace=True)"
      ],
      "execution_count": 82,
      "outputs": []
    },
    {
      "cell_type": "code",
      "metadata": {
        "colab": {
          "base_uri": "https://localhost:8080/"
        },
        "id": "qahXwJsxkmS6",
        "outputId": "c8cb9600-92a5-4f05-8dc4-674c32a797bc"
      },
      "source": [
        "test_data['Journey_Day']"
      ],
      "execution_count": 84,
      "outputs": [
        {
          "output_type": "execute_result",
          "data": {
            "text/plain": [
              "0        6\n",
              "1       12\n",
              "2       21\n",
              "3       21\n",
              "4       24\n",
              "        ..\n",
              "2666     6\n",
              "2667    27\n",
              "2668     6\n",
              "2669     6\n",
              "2670    15\n",
              "Name: Journey_Day, Length: 2671, dtype: int64"
            ]
          },
          "metadata": {},
          "execution_count": 84
        }
      ]
    },
    {
      "cell_type": "code",
      "metadata": {
        "colab": {
          "base_uri": "https://localhost:8080/"
        },
        "id": "l-a4PIVTko-y",
        "outputId": "a11d0e64-17c4-4417-f81d-ae77ffffad5b"
      },
      "source": [
        "test_data['Journey_Month']"
      ],
      "execution_count": 85,
      "outputs": [
        {
          "output_type": "execute_result",
          "data": {
            "text/plain": [
              "0       6\n",
              "1       5\n",
              "2       5\n",
              "3       5\n",
              "4       6\n",
              "       ..\n",
              "2666    6\n",
              "2667    3\n",
              "2668    3\n",
              "2669    3\n",
              "2670    6\n",
              "Name: Journey_Month, Length: 2671, dtype: int64"
            ]
          },
          "metadata": {},
          "execution_count": 85
        }
      ]
    },
    {
      "cell_type": "code",
      "metadata": {
        "colab": {
          "base_uri": "https://localhost:8080/",
          "height": 204
        },
        "id": "S2SlneVAkgG1",
        "outputId": "fc945f2c-2cd2-42a2-e0eb-352712d7a0b3"
      },
      "source": [
        "test_data.head()"
      ],
      "execution_count": 83,
      "outputs": [
        {
          "output_type": "execute_result",
          "data": {
            "text/html": [
              "<div>\n",
              "<style scoped>\n",
              "    .dataframe tbody tr th:only-of-type {\n",
              "        vertical-align: middle;\n",
              "    }\n",
              "\n",
              "    .dataframe tbody tr th {\n",
              "        vertical-align: top;\n",
              "    }\n",
              "\n",
              "    .dataframe thead th {\n",
              "        text-align: right;\n",
              "    }\n",
              "</style>\n",
              "<table border=\"1\" class=\"dataframe\">\n",
              "  <thead>\n",
              "    <tr style=\"text-align: right;\">\n",
              "      <th></th>\n",
              "      <th>Airline</th>\n",
              "      <th>Source</th>\n",
              "      <th>Destination</th>\n",
              "      <th>Route</th>\n",
              "      <th>Dep_Time</th>\n",
              "      <th>Arrival_Time</th>\n",
              "      <th>Duration</th>\n",
              "      <th>Total_Stops</th>\n",
              "      <th>Additional_Info</th>\n",
              "      <th>Journey_Day</th>\n",
              "      <th>Journey_Month</th>\n",
              "    </tr>\n",
              "  </thead>\n",
              "  <tbody>\n",
              "    <tr>\n",
              "      <th>0</th>\n",
              "      <td>Jet Airways</td>\n",
              "      <td>Delhi</td>\n",
              "      <td>Cochin</td>\n",
              "      <td>DEL → BOM → COK</td>\n",
              "      <td>17:30</td>\n",
              "      <td>04:25 07 Jun</td>\n",
              "      <td>10h 55m</td>\n",
              "      <td>1 stop</td>\n",
              "      <td>No info</td>\n",
              "      <td>6</td>\n",
              "      <td>6</td>\n",
              "    </tr>\n",
              "    <tr>\n",
              "      <th>1</th>\n",
              "      <td>IndiGo</td>\n",
              "      <td>Kolkata</td>\n",
              "      <td>Banglore</td>\n",
              "      <td>CCU → MAA → BLR</td>\n",
              "      <td>06:20</td>\n",
              "      <td>10:20</td>\n",
              "      <td>4h</td>\n",
              "      <td>1 stop</td>\n",
              "      <td>No info</td>\n",
              "      <td>12</td>\n",
              "      <td>5</td>\n",
              "    </tr>\n",
              "    <tr>\n",
              "      <th>2</th>\n",
              "      <td>Jet Airways</td>\n",
              "      <td>Delhi</td>\n",
              "      <td>Cochin</td>\n",
              "      <td>DEL → BOM → COK</td>\n",
              "      <td>19:15</td>\n",
              "      <td>19:00 22 May</td>\n",
              "      <td>23h 45m</td>\n",
              "      <td>1 stop</td>\n",
              "      <td>In-flight meal not included</td>\n",
              "      <td>21</td>\n",
              "      <td>5</td>\n",
              "    </tr>\n",
              "    <tr>\n",
              "      <th>3</th>\n",
              "      <td>Multiple carriers</td>\n",
              "      <td>Delhi</td>\n",
              "      <td>Cochin</td>\n",
              "      <td>DEL → BOM → COK</td>\n",
              "      <td>08:00</td>\n",
              "      <td>21:00</td>\n",
              "      <td>13h</td>\n",
              "      <td>1 stop</td>\n",
              "      <td>No info</td>\n",
              "      <td>21</td>\n",
              "      <td>5</td>\n",
              "    </tr>\n",
              "    <tr>\n",
              "      <th>4</th>\n",
              "      <td>Air Asia</td>\n",
              "      <td>Banglore</td>\n",
              "      <td>Delhi</td>\n",
              "      <td>BLR → DEL</td>\n",
              "      <td>23:55</td>\n",
              "      <td>02:45 25 Jun</td>\n",
              "      <td>2h 50m</td>\n",
              "      <td>non-stop</td>\n",
              "      <td>No info</td>\n",
              "      <td>24</td>\n",
              "      <td>6</td>\n",
              "    </tr>\n",
              "  </tbody>\n",
              "</table>\n",
              "</div>"
            ],
            "text/plain": [
              "             Airline    Source Destination            Route Dep_Time  \\\n",
              "0        Jet Airways     Delhi      Cochin  DEL → BOM → COK    17:30   \n",
              "1             IndiGo   Kolkata    Banglore  CCU → MAA → BLR    06:20   \n",
              "2        Jet Airways     Delhi      Cochin  DEL → BOM → COK    19:15   \n",
              "3  Multiple carriers     Delhi      Cochin  DEL → BOM → COK    08:00   \n",
              "4           Air Asia  Banglore       Delhi        BLR → DEL    23:55   \n",
              "\n",
              "   Arrival_Time Duration Total_Stops              Additional_Info  \\\n",
              "0  04:25 07 Jun  10h 55m      1 stop                      No info   \n",
              "1         10:20       4h      1 stop                      No info   \n",
              "2  19:00 22 May  23h 45m      1 stop  In-flight meal not included   \n",
              "3         21:00      13h      1 stop                      No info   \n",
              "4  02:45 25 Jun   2h 50m    non-stop                      No info   \n",
              "\n",
              "   Journey_Day  Journey_Month  \n",
              "0            6              6  \n",
              "1           12              5  \n",
              "2           21              5  \n",
              "3           21              5  \n",
              "4           24              6  "
            ]
          },
          "metadata": {},
          "execution_count": 83
        }
      ]
    },
    {
      "cell_type": "markdown",
      "metadata": {
        "id": "0pRPOkA2kra0"
      },
      "source": [
        " - Column converted and dropped."
      ]
    },
    {
      "cell_type": "markdown",
      "metadata": {
        "id": "EzJ9LuhCk5Ly"
      },
      "source": [
        "# **Dep_Time**"
      ]
    },
    {
      "cell_type": "code",
      "metadata": {
        "id": "2MzvEY0vkiZj"
      },
      "source": [
        "# extract hours\n",
        "test_data['Dep_Hour'] = pd.to_datetime(test_data['Dep_Time']).dt.hour\n",
        "\n",
        "# extract Minutes\n",
        "test_data['Dep_Min'] = pd.to_datetime(test_data['Dep_Time']).dt.minute\n",
        "\n",
        "# drop column\n",
        "test_data.drop(['Dep_Time'], axis=1, inplace=True)"
      ],
      "execution_count": 87,
      "outputs": []
    },
    {
      "cell_type": "code",
      "metadata": {
        "colab": {
          "base_uri": "https://localhost:8080/",
          "height": 272
        },
        "id": "2CAVYPhtlNWA",
        "outputId": "3d6b5f87-28e3-47ac-d35a-4bfec8dfe73c"
      },
      "source": [
        "test_data.head()"
      ],
      "execution_count": 88,
      "outputs": [
        {
          "output_type": "execute_result",
          "data": {
            "text/html": [
              "<div>\n",
              "<style scoped>\n",
              "    .dataframe tbody tr th:only-of-type {\n",
              "        vertical-align: middle;\n",
              "    }\n",
              "\n",
              "    .dataframe tbody tr th {\n",
              "        vertical-align: top;\n",
              "    }\n",
              "\n",
              "    .dataframe thead th {\n",
              "        text-align: right;\n",
              "    }\n",
              "</style>\n",
              "<table border=\"1\" class=\"dataframe\">\n",
              "  <thead>\n",
              "    <tr style=\"text-align: right;\">\n",
              "      <th></th>\n",
              "      <th>Airline</th>\n",
              "      <th>Source</th>\n",
              "      <th>Destination</th>\n",
              "      <th>Route</th>\n",
              "      <th>Arrival_Time</th>\n",
              "      <th>Duration</th>\n",
              "      <th>Total_Stops</th>\n",
              "      <th>Additional_Info</th>\n",
              "      <th>Journey_Day</th>\n",
              "      <th>Journey_Month</th>\n",
              "      <th>Dep_Hour</th>\n",
              "      <th>Dep_Min</th>\n",
              "    </tr>\n",
              "  </thead>\n",
              "  <tbody>\n",
              "    <tr>\n",
              "      <th>0</th>\n",
              "      <td>Jet Airways</td>\n",
              "      <td>Delhi</td>\n",
              "      <td>Cochin</td>\n",
              "      <td>DEL → BOM → COK</td>\n",
              "      <td>04:25 07 Jun</td>\n",
              "      <td>10h 55m</td>\n",
              "      <td>1 stop</td>\n",
              "      <td>No info</td>\n",
              "      <td>6</td>\n",
              "      <td>6</td>\n",
              "      <td>17</td>\n",
              "      <td>30</td>\n",
              "    </tr>\n",
              "    <tr>\n",
              "      <th>1</th>\n",
              "      <td>IndiGo</td>\n",
              "      <td>Kolkata</td>\n",
              "      <td>Banglore</td>\n",
              "      <td>CCU → MAA → BLR</td>\n",
              "      <td>10:20</td>\n",
              "      <td>4h</td>\n",
              "      <td>1 stop</td>\n",
              "      <td>No info</td>\n",
              "      <td>12</td>\n",
              "      <td>5</td>\n",
              "      <td>6</td>\n",
              "      <td>20</td>\n",
              "    </tr>\n",
              "    <tr>\n",
              "      <th>2</th>\n",
              "      <td>Jet Airways</td>\n",
              "      <td>Delhi</td>\n",
              "      <td>Cochin</td>\n",
              "      <td>DEL → BOM → COK</td>\n",
              "      <td>19:00 22 May</td>\n",
              "      <td>23h 45m</td>\n",
              "      <td>1 stop</td>\n",
              "      <td>In-flight meal not included</td>\n",
              "      <td>21</td>\n",
              "      <td>5</td>\n",
              "      <td>19</td>\n",
              "      <td>15</td>\n",
              "    </tr>\n",
              "    <tr>\n",
              "      <th>3</th>\n",
              "      <td>Multiple carriers</td>\n",
              "      <td>Delhi</td>\n",
              "      <td>Cochin</td>\n",
              "      <td>DEL → BOM → COK</td>\n",
              "      <td>21:00</td>\n",
              "      <td>13h</td>\n",
              "      <td>1 stop</td>\n",
              "      <td>No info</td>\n",
              "      <td>21</td>\n",
              "      <td>5</td>\n",
              "      <td>8</td>\n",
              "      <td>0</td>\n",
              "    </tr>\n",
              "    <tr>\n",
              "      <th>4</th>\n",
              "      <td>Air Asia</td>\n",
              "      <td>Banglore</td>\n",
              "      <td>Delhi</td>\n",
              "      <td>BLR → DEL</td>\n",
              "      <td>02:45 25 Jun</td>\n",
              "      <td>2h 50m</td>\n",
              "      <td>non-stop</td>\n",
              "      <td>No info</td>\n",
              "      <td>24</td>\n",
              "      <td>6</td>\n",
              "      <td>23</td>\n",
              "      <td>55</td>\n",
              "    </tr>\n",
              "  </tbody>\n",
              "</table>\n",
              "</div>"
            ],
            "text/plain": [
              "             Airline    Source Destination            Route  Arrival_Time  \\\n",
              "0        Jet Airways     Delhi      Cochin  DEL → BOM → COK  04:25 07 Jun   \n",
              "1             IndiGo   Kolkata    Banglore  CCU → MAA → BLR         10:20   \n",
              "2        Jet Airways     Delhi      Cochin  DEL → BOM → COK  19:00 22 May   \n",
              "3  Multiple carriers     Delhi      Cochin  DEL → BOM → COK         21:00   \n",
              "4           Air Asia  Banglore       Delhi        BLR → DEL  02:45 25 Jun   \n",
              "\n",
              "  Duration Total_Stops              Additional_Info  Journey_Day  \\\n",
              "0  10h 55m      1 stop                      No info            6   \n",
              "1       4h      1 stop                      No info           12   \n",
              "2  23h 45m      1 stop  In-flight meal not included           21   \n",
              "3      13h      1 stop                      No info           21   \n",
              "4   2h 50m    non-stop                      No info           24   \n",
              "\n",
              "   Journey_Month  Dep_Hour  Dep_Min  \n",
              "0              6        17       30  \n",
              "1              5         6       20  \n",
              "2              5        19       15  \n",
              "3              5         8        0  \n",
              "4              6        23       55  "
            ]
          },
          "metadata": {},
          "execution_count": 88
        }
      ]
    },
    {
      "cell_type": "markdown",
      "metadata": {
        "id": "-OLNVgeklapP"
      },
      "source": [
        " - Column converted and dropped."
      ]
    },
    {
      "cell_type": "markdown",
      "metadata": {
        "id": "uAWUj3WdleC9"
      },
      "source": [
        "# **Arrival_Time**"
      ]
    },
    {
      "cell_type": "code",
      "metadata": {
        "id": "bduSnh3ulYSG"
      },
      "source": [
        "# extract hour\n",
        "test_data['Arrival_Hour'] = pd.to_datetime(test_data['Arrival_Time']).dt.hour\n",
        "\n",
        "# extract min\n",
        "test_data['Arrival_Min'] = pd.to_datetime(test_data['Arrival_Time']).dt.minute\n",
        "\n",
        "# drop column\n",
        "test_data.drop(['Arrival_Time'], axis=1, inplace=True)"
      ],
      "execution_count": 89,
      "outputs": []
    },
    {
      "cell_type": "markdown",
      "metadata": {
        "id": "_NGa61xhlu7_"
      },
      "source": [
        " - Column converted and dropped."
      ]
    },
    {
      "cell_type": "markdown",
      "metadata": {
        "id": "uml72eCHl6y7"
      },
      "source": [
        "# **Duration**"
      ]
    },
    {
      "cell_type": "code",
      "metadata": {
        "id": "CZP-gGajltE6"
      },
      "source": [
        "# converting duration column into list.\n",
        "duration = list(test_data['Duration'])\n",
        "\n",
        "for i in range(len(duration)):\n",
        "  if len(duration[i].split()) !=2 : # check if the duration contains only hrs or min\n",
        "    if 'h' in duration[i]:\n",
        "      duration[i] = duration[i].strip() + ' 0m' # Adds 0 mins.\n",
        "    else :\n",
        "      duration[i] = '0h ' + duration[i]          # Adds 0 hr\n",
        "\n",
        "duration_hours = []\n",
        "duration_mins = []\n",
        "\n",
        "for i in range(len(duration)):\n",
        "  duration_hours.append(int(duration[i].split(sep = 'h')[0]))   # extract hours from duration\n",
        "  duration_mins.append(int(duration[i].split(sep = 'm')[0].split()[-1])) # extract min from duration\n",
        "\n",
        "\n",
        "test_data['Duration_hrs'] = duration_hours\n",
        "test_data['Duration_mins'] = duration_mins\n",
        "\n",
        "# drop column\n",
        "test_data.drop(['Duration'], axis=1, inplace=True)"
      ],
      "execution_count": 93,
      "outputs": []
    },
    {
      "cell_type": "code",
      "metadata": {
        "colab": {
          "base_uri": "https://localhost:8080/",
          "height": 530
        },
        "id": "Gcq2LdsJmIGg",
        "outputId": "701a3480-d846-4006-c99a-9be965b844d1"
      },
      "source": [
        "test_data.head()"
      ],
      "execution_count": 94,
      "outputs": [
        {
          "output_type": "execute_result",
          "data": {
            "text/html": [
              "<div>\n",
              "<style scoped>\n",
              "    .dataframe tbody tr th:only-of-type {\n",
              "        vertical-align: middle;\n",
              "    }\n",
              "\n",
              "    .dataframe tbody tr th {\n",
              "        vertical-align: top;\n",
              "    }\n",
              "\n",
              "    .dataframe thead th {\n",
              "        text-align: right;\n",
              "    }\n",
              "</style>\n",
              "<table border=\"1\" class=\"dataframe\">\n",
              "  <thead>\n",
              "    <tr style=\"text-align: right;\">\n",
              "      <th></th>\n",
              "      <th>Airline</th>\n",
              "      <th>Source</th>\n",
              "      <th>Destination</th>\n",
              "      <th>Route</th>\n",
              "      <th>Total_Stops</th>\n",
              "      <th>Additional_Info</th>\n",
              "      <th>Journey_Day</th>\n",
              "      <th>Journey_Month</th>\n",
              "      <th>Dep_Hour</th>\n",
              "      <th>Dep_Min</th>\n",
              "      <th>Arrival_Hour</th>\n",
              "      <th>Arrival_Min</th>\n",
              "      <th>Duration_hrs</th>\n",
              "      <th>Duration_mins</th>\n",
              "    </tr>\n",
              "  </thead>\n",
              "  <tbody>\n",
              "    <tr>\n",
              "      <th>0</th>\n",
              "      <td>Jet Airways</td>\n",
              "      <td>Delhi</td>\n",
              "      <td>Cochin</td>\n",
              "      <td>DEL → BOM → COK</td>\n",
              "      <td>1 stop</td>\n",
              "      <td>No info</td>\n",
              "      <td>6</td>\n",
              "      <td>6</td>\n",
              "      <td>17</td>\n",
              "      <td>30</td>\n",
              "      <td>4</td>\n",
              "      <td>25</td>\n",
              "      <td>10</td>\n",
              "      <td>55</td>\n",
              "    </tr>\n",
              "    <tr>\n",
              "      <th>1</th>\n",
              "      <td>IndiGo</td>\n",
              "      <td>Kolkata</td>\n",
              "      <td>Banglore</td>\n",
              "      <td>CCU → MAA → BLR</td>\n",
              "      <td>1 stop</td>\n",
              "      <td>No info</td>\n",
              "      <td>12</td>\n",
              "      <td>5</td>\n",
              "      <td>6</td>\n",
              "      <td>20</td>\n",
              "      <td>10</td>\n",
              "      <td>20</td>\n",
              "      <td>4</td>\n",
              "      <td>0</td>\n",
              "    </tr>\n",
              "    <tr>\n",
              "      <th>2</th>\n",
              "      <td>Jet Airways</td>\n",
              "      <td>Delhi</td>\n",
              "      <td>Cochin</td>\n",
              "      <td>DEL → BOM → COK</td>\n",
              "      <td>1 stop</td>\n",
              "      <td>In-flight meal not included</td>\n",
              "      <td>21</td>\n",
              "      <td>5</td>\n",
              "      <td>19</td>\n",
              "      <td>15</td>\n",
              "      <td>19</td>\n",
              "      <td>0</td>\n",
              "      <td>23</td>\n",
              "      <td>45</td>\n",
              "    </tr>\n",
              "    <tr>\n",
              "      <th>3</th>\n",
              "      <td>Multiple carriers</td>\n",
              "      <td>Delhi</td>\n",
              "      <td>Cochin</td>\n",
              "      <td>DEL → BOM → COK</td>\n",
              "      <td>1 stop</td>\n",
              "      <td>No info</td>\n",
              "      <td>21</td>\n",
              "      <td>5</td>\n",
              "      <td>8</td>\n",
              "      <td>0</td>\n",
              "      <td>21</td>\n",
              "      <td>0</td>\n",
              "      <td>13</td>\n",
              "      <td>0</td>\n",
              "    </tr>\n",
              "    <tr>\n",
              "      <th>4</th>\n",
              "      <td>Air Asia</td>\n",
              "      <td>Banglore</td>\n",
              "      <td>Delhi</td>\n",
              "      <td>BLR → DEL</td>\n",
              "      <td>non-stop</td>\n",
              "      <td>No info</td>\n",
              "      <td>24</td>\n",
              "      <td>6</td>\n",
              "      <td>23</td>\n",
              "      <td>55</td>\n",
              "      <td>2</td>\n",
              "      <td>45</td>\n",
              "      <td>2</td>\n",
              "      <td>50</td>\n",
              "    </tr>\n",
              "  </tbody>\n",
              "</table>\n",
              "</div>"
            ],
            "text/plain": [
              "             Airline    Source Destination            Route Total_Stops  \\\n",
              "0        Jet Airways     Delhi      Cochin  DEL → BOM → COK      1 stop   \n",
              "1             IndiGo   Kolkata    Banglore  CCU → MAA → BLR      1 stop   \n",
              "2        Jet Airways     Delhi      Cochin  DEL → BOM → COK      1 stop   \n",
              "3  Multiple carriers     Delhi      Cochin  DEL → BOM → COK      1 stop   \n",
              "4           Air Asia  Banglore       Delhi        BLR → DEL    non-stop   \n",
              "\n",
              "               Additional_Info  Journey_Day  Journey_Month  Dep_Hour  Dep_Min  \\\n",
              "0                      No info            6              6        17       30   \n",
              "1                      No info           12              5         6       20   \n",
              "2  In-flight meal not included           21              5        19       15   \n",
              "3                      No info           21              5         8        0   \n",
              "4                      No info           24              6        23       55   \n",
              "\n",
              "   Arrival_Hour  Arrival_Min  Duration_hrs  Duration_mins  \n",
              "0             4           25            10             55  \n",
              "1            10           20             4              0  \n",
              "2            19            0            23             45  \n",
              "3            21            0            13              0  \n",
              "4             2           45             2             50  "
            ]
          },
          "metadata": {},
          "execution_count": 94
        }
      ]
    },
    {
      "cell_type": "markdown",
      "metadata": {
        "id": "aXEX89qhmd28"
      },
      "source": [
        " - Column converted and dropped."
      ]
    },
    {
      "cell_type": "markdown",
      "metadata": {
        "id": "722QFhQJmoGu"
      },
      "source": [
        "# **Handling Categorical Variable of Test Data**\n",
        "\n",
        "# **Airline**"
      ]
    },
    {
      "cell_type": "code",
      "metadata": {
        "colab": {
          "base_uri": "https://localhost:8080/"
        },
        "id": "3euQ7eICmZEI",
        "outputId": "b6b9028a-ace7-47cf-df7d-7f2dfba32685"
      },
      "source": [
        "test_data['Airline'].value_counts()"
      ],
      "execution_count": 98,
      "outputs": [
        {
          "output_type": "execute_result",
          "data": {
            "text/plain": [
              "Jet Airways                          897\n",
              "IndiGo                               511\n",
              "Air India                            440\n",
              "Multiple carriers                    347\n",
              "SpiceJet                             208\n",
              "Vistara                              129\n",
              "Air Asia                              86\n",
              "GoAir                                 46\n",
              "Multiple carriers Premium economy      3\n",
              "Vistara Premium economy                2\n",
              "Jet Airways Business                   2\n",
              "Name: Airline, dtype: int64"
            ]
          },
          "metadata": {},
          "execution_count": 98
        }
      ]
    },
    {
      "cell_type": "code",
      "metadata": {
        "colab": {
          "base_uri": "https://localhost:8080/",
          "height": 238
        },
        "id": "KjGExEPNnaUC",
        "outputId": "9e461fae-4167-4259-c68c-c76f7ba42152"
      },
      "source": [
        "Airline = test_data[['Airline']]\n",
        "Airline = pd.get_dummies(Airline, drop_first=True)\n",
        "Airline.head()"
      ],
      "execution_count": 99,
      "outputs": [
        {
          "output_type": "execute_result",
          "data": {
            "text/html": [
              "<div>\n",
              "<style scoped>\n",
              "    .dataframe tbody tr th:only-of-type {\n",
              "        vertical-align: middle;\n",
              "    }\n",
              "\n",
              "    .dataframe tbody tr th {\n",
              "        vertical-align: top;\n",
              "    }\n",
              "\n",
              "    .dataframe thead th {\n",
              "        text-align: right;\n",
              "    }\n",
              "</style>\n",
              "<table border=\"1\" class=\"dataframe\">\n",
              "  <thead>\n",
              "    <tr style=\"text-align: right;\">\n",
              "      <th></th>\n",
              "      <th>Airline_Air India</th>\n",
              "      <th>Airline_GoAir</th>\n",
              "      <th>Airline_IndiGo</th>\n",
              "      <th>Airline_Jet Airways</th>\n",
              "      <th>Airline_Jet Airways Business</th>\n",
              "      <th>Airline_Multiple carriers</th>\n",
              "      <th>Airline_Multiple carriers Premium economy</th>\n",
              "      <th>Airline_SpiceJet</th>\n",
              "      <th>Airline_Vistara</th>\n",
              "      <th>Airline_Vistara Premium economy</th>\n",
              "    </tr>\n",
              "  </thead>\n",
              "  <tbody>\n",
              "    <tr>\n",
              "      <th>0</th>\n",
              "      <td>0</td>\n",
              "      <td>0</td>\n",
              "      <td>0</td>\n",
              "      <td>1</td>\n",
              "      <td>0</td>\n",
              "      <td>0</td>\n",
              "      <td>0</td>\n",
              "      <td>0</td>\n",
              "      <td>0</td>\n",
              "      <td>0</td>\n",
              "    </tr>\n",
              "    <tr>\n",
              "      <th>1</th>\n",
              "      <td>0</td>\n",
              "      <td>0</td>\n",
              "      <td>1</td>\n",
              "      <td>0</td>\n",
              "      <td>0</td>\n",
              "      <td>0</td>\n",
              "      <td>0</td>\n",
              "      <td>0</td>\n",
              "      <td>0</td>\n",
              "      <td>0</td>\n",
              "    </tr>\n",
              "    <tr>\n",
              "      <th>2</th>\n",
              "      <td>0</td>\n",
              "      <td>0</td>\n",
              "      <td>0</td>\n",
              "      <td>1</td>\n",
              "      <td>0</td>\n",
              "      <td>0</td>\n",
              "      <td>0</td>\n",
              "      <td>0</td>\n",
              "      <td>0</td>\n",
              "      <td>0</td>\n",
              "    </tr>\n",
              "    <tr>\n",
              "      <th>3</th>\n",
              "      <td>0</td>\n",
              "      <td>0</td>\n",
              "      <td>0</td>\n",
              "      <td>0</td>\n",
              "      <td>0</td>\n",
              "      <td>1</td>\n",
              "      <td>0</td>\n",
              "      <td>0</td>\n",
              "      <td>0</td>\n",
              "      <td>0</td>\n",
              "    </tr>\n",
              "    <tr>\n",
              "      <th>4</th>\n",
              "      <td>0</td>\n",
              "      <td>0</td>\n",
              "      <td>0</td>\n",
              "      <td>0</td>\n",
              "      <td>0</td>\n",
              "      <td>0</td>\n",
              "      <td>0</td>\n",
              "      <td>0</td>\n",
              "      <td>0</td>\n",
              "      <td>0</td>\n",
              "    </tr>\n",
              "  </tbody>\n",
              "</table>\n",
              "</div>"
            ],
            "text/plain": [
              "   Airline_Air India  Airline_GoAir  Airline_IndiGo  Airline_Jet Airways  \\\n",
              "0                  0              0               0                    1   \n",
              "1                  0              0               1                    0   \n",
              "2                  0              0               0                    1   \n",
              "3                  0              0               0                    0   \n",
              "4                  0              0               0                    0   \n",
              "\n",
              "   Airline_Jet Airways Business  Airline_Multiple carriers  \\\n",
              "0                             0                          0   \n",
              "1                             0                          0   \n",
              "2                             0                          0   \n",
              "3                             0                          1   \n",
              "4                             0                          0   \n",
              "\n",
              "   Airline_Multiple carriers Premium economy  Airline_SpiceJet  \\\n",
              "0                                          0                 0   \n",
              "1                                          0                 0   \n",
              "2                                          0                 0   \n",
              "3                                          0                 0   \n",
              "4                                          0                 0   \n",
              "\n",
              "   Airline_Vistara  Airline_Vistara Premium economy  \n",
              "0                0                                0  \n",
              "1                0                                0  \n",
              "2                0                                0  \n",
              "3                0                                0  \n",
              "4                0                                0  "
            ]
          },
          "metadata": {},
          "execution_count": 99
        }
      ]
    },
    {
      "cell_type": "markdown",
      "metadata": {
        "id": "JIp_9nMcntcF"
      },
      "source": [
        " - Column converted."
      ]
    },
    {
      "cell_type": "markdown",
      "metadata": {
        "id": "_zmygBplnvmH"
      },
      "source": [
        "# **Source**"
      ]
    },
    {
      "cell_type": "code",
      "metadata": {
        "colab": {
          "base_uri": "https://localhost:8080/",
          "height": 204
        },
        "id": "OyUQBt9Incrh",
        "outputId": "5124cb54-1a53-4160-8c8b-ba60c7365251"
      },
      "source": [
        "Source = test_data[['Source']]\n",
        "Source = pd.get_dummies(Source, drop_first=True)\n",
        "Source.head()"
      ],
      "execution_count": 100,
      "outputs": [
        {
          "output_type": "execute_result",
          "data": {
            "text/html": [
              "<div>\n",
              "<style scoped>\n",
              "    .dataframe tbody tr th:only-of-type {\n",
              "        vertical-align: middle;\n",
              "    }\n",
              "\n",
              "    .dataframe tbody tr th {\n",
              "        vertical-align: top;\n",
              "    }\n",
              "\n",
              "    .dataframe thead th {\n",
              "        text-align: right;\n",
              "    }\n",
              "</style>\n",
              "<table border=\"1\" class=\"dataframe\">\n",
              "  <thead>\n",
              "    <tr style=\"text-align: right;\">\n",
              "      <th></th>\n",
              "      <th>Source_Chennai</th>\n",
              "      <th>Source_Delhi</th>\n",
              "      <th>Source_Kolkata</th>\n",
              "      <th>Source_Mumbai</th>\n",
              "    </tr>\n",
              "  </thead>\n",
              "  <tbody>\n",
              "    <tr>\n",
              "      <th>0</th>\n",
              "      <td>0</td>\n",
              "      <td>1</td>\n",
              "      <td>0</td>\n",
              "      <td>0</td>\n",
              "    </tr>\n",
              "    <tr>\n",
              "      <th>1</th>\n",
              "      <td>0</td>\n",
              "      <td>0</td>\n",
              "      <td>1</td>\n",
              "      <td>0</td>\n",
              "    </tr>\n",
              "    <tr>\n",
              "      <th>2</th>\n",
              "      <td>0</td>\n",
              "      <td>1</td>\n",
              "      <td>0</td>\n",
              "      <td>0</td>\n",
              "    </tr>\n",
              "    <tr>\n",
              "      <th>3</th>\n",
              "      <td>0</td>\n",
              "      <td>1</td>\n",
              "      <td>0</td>\n",
              "      <td>0</td>\n",
              "    </tr>\n",
              "    <tr>\n",
              "      <th>4</th>\n",
              "      <td>0</td>\n",
              "      <td>0</td>\n",
              "      <td>0</td>\n",
              "      <td>0</td>\n",
              "    </tr>\n",
              "  </tbody>\n",
              "</table>\n",
              "</div>"
            ],
            "text/plain": [
              "   Source_Chennai  Source_Delhi  Source_Kolkata  Source_Mumbai\n",
              "0               0             1               0              0\n",
              "1               0             0               1              0\n",
              "2               0             1               0              0\n",
              "3               0             1               0              0\n",
              "4               0             0               0              0"
            ]
          },
          "metadata": {},
          "execution_count": 100
        }
      ]
    },
    {
      "cell_type": "markdown",
      "metadata": {
        "id": "ArPg3N-un2Mp"
      },
      "source": [
        " - Column converted."
      ]
    },
    {
      "cell_type": "markdown",
      "metadata": {
        "id": "NhIAUyfgn-7F"
      },
      "source": [
        "# **Destination**"
      ]
    },
    {
      "cell_type": "code",
      "metadata": {
        "colab": {
          "base_uri": "https://localhost:8080/",
          "height": 204
        },
        "id": "gxRLbQIsn1R1",
        "outputId": "bda8af00-43af-449d-8ba2-f47136e51d73"
      },
      "source": [
        "Destination = test_data[['Destination']]\n",
        "Destination = pd.get_dummies(Destination, drop_first=True)\n",
        "Destination.head()"
      ],
      "execution_count": 101,
      "outputs": [
        {
          "output_type": "execute_result",
          "data": {
            "text/html": [
              "<div>\n",
              "<style scoped>\n",
              "    .dataframe tbody tr th:only-of-type {\n",
              "        vertical-align: middle;\n",
              "    }\n",
              "\n",
              "    .dataframe tbody tr th {\n",
              "        vertical-align: top;\n",
              "    }\n",
              "\n",
              "    .dataframe thead th {\n",
              "        text-align: right;\n",
              "    }\n",
              "</style>\n",
              "<table border=\"1\" class=\"dataframe\">\n",
              "  <thead>\n",
              "    <tr style=\"text-align: right;\">\n",
              "      <th></th>\n",
              "      <th>Destination_Cochin</th>\n",
              "      <th>Destination_Delhi</th>\n",
              "      <th>Destination_Hyderabad</th>\n",
              "      <th>Destination_Kolkata</th>\n",
              "      <th>Destination_New Delhi</th>\n",
              "    </tr>\n",
              "  </thead>\n",
              "  <tbody>\n",
              "    <tr>\n",
              "      <th>0</th>\n",
              "      <td>1</td>\n",
              "      <td>0</td>\n",
              "      <td>0</td>\n",
              "      <td>0</td>\n",
              "      <td>0</td>\n",
              "    </tr>\n",
              "    <tr>\n",
              "      <th>1</th>\n",
              "      <td>0</td>\n",
              "      <td>0</td>\n",
              "      <td>0</td>\n",
              "      <td>0</td>\n",
              "      <td>0</td>\n",
              "    </tr>\n",
              "    <tr>\n",
              "      <th>2</th>\n",
              "      <td>1</td>\n",
              "      <td>0</td>\n",
              "      <td>0</td>\n",
              "      <td>0</td>\n",
              "      <td>0</td>\n",
              "    </tr>\n",
              "    <tr>\n",
              "      <th>3</th>\n",
              "      <td>1</td>\n",
              "      <td>0</td>\n",
              "      <td>0</td>\n",
              "      <td>0</td>\n",
              "      <td>0</td>\n",
              "    </tr>\n",
              "    <tr>\n",
              "      <th>4</th>\n",
              "      <td>0</td>\n",
              "      <td>1</td>\n",
              "      <td>0</td>\n",
              "      <td>0</td>\n",
              "      <td>0</td>\n",
              "    </tr>\n",
              "  </tbody>\n",
              "</table>\n",
              "</div>"
            ],
            "text/plain": [
              "   Destination_Cochin  Destination_Delhi  Destination_Hyderabad  \\\n",
              "0                   1                  0                      0   \n",
              "1                   0                  0                      0   \n",
              "2                   1                  0                      0   \n",
              "3                   1                  0                      0   \n",
              "4                   0                  1                      0   \n",
              "\n",
              "   Destination_Kolkata  Destination_New Delhi  \n",
              "0                    0                      0  \n",
              "1                    0                      0  \n",
              "2                    0                      0  \n",
              "3                    0                      0  \n",
              "4                    0                      0  "
            ]
          },
          "metadata": {},
          "execution_count": 101
        }
      ]
    },
    {
      "cell_type": "markdown",
      "metadata": {
        "id": "jkueooh-oIEs"
      },
      "source": [
        " - Column converted."
      ]
    },
    {
      "cell_type": "code",
      "metadata": {
        "id": "NZFrWpTioEs7"
      },
      "source": [
        "# drop Airline, Dource, Destination\n",
        "\n",
        "test_data.drop(['Airline', 'Source', 'Destination'], axis=1, inplace=True)"
      ],
      "execution_count": 102,
      "outputs": []
    },
    {
      "cell_type": "code",
      "metadata": {
        "colab": {
          "base_uri": "https://localhost:8080/",
          "height": 204
        },
        "id": "lzROKzLgocdI",
        "outputId": "04ce2291-8e06-40b2-9f46-a860ba12b08c"
      },
      "source": [
        "test_data.head()"
      ],
      "execution_count": 103,
      "outputs": [
        {
          "output_type": "execute_result",
          "data": {
            "text/html": [
              "<div>\n",
              "<style scoped>\n",
              "    .dataframe tbody tr th:only-of-type {\n",
              "        vertical-align: middle;\n",
              "    }\n",
              "\n",
              "    .dataframe tbody tr th {\n",
              "        vertical-align: top;\n",
              "    }\n",
              "\n",
              "    .dataframe thead th {\n",
              "        text-align: right;\n",
              "    }\n",
              "</style>\n",
              "<table border=\"1\" class=\"dataframe\">\n",
              "  <thead>\n",
              "    <tr style=\"text-align: right;\">\n",
              "      <th></th>\n",
              "      <th>Route</th>\n",
              "      <th>Total_Stops</th>\n",
              "      <th>Additional_Info</th>\n",
              "      <th>Journey_Day</th>\n",
              "      <th>Journey_Month</th>\n",
              "      <th>Dep_Hour</th>\n",
              "      <th>Dep_Min</th>\n",
              "      <th>Arrival_Hour</th>\n",
              "      <th>Arrival_Min</th>\n",
              "      <th>Duration_hrs</th>\n",
              "      <th>Duration_mins</th>\n",
              "    </tr>\n",
              "  </thead>\n",
              "  <tbody>\n",
              "    <tr>\n",
              "      <th>0</th>\n",
              "      <td>DEL → BOM → COK</td>\n",
              "      <td>1 stop</td>\n",
              "      <td>No info</td>\n",
              "      <td>6</td>\n",
              "      <td>6</td>\n",
              "      <td>17</td>\n",
              "      <td>30</td>\n",
              "      <td>4</td>\n",
              "      <td>25</td>\n",
              "      <td>10</td>\n",
              "      <td>55</td>\n",
              "    </tr>\n",
              "    <tr>\n",
              "      <th>1</th>\n",
              "      <td>CCU → MAA → BLR</td>\n",
              "      <td>1 stop</td>\n",
              "      <td>No info</td>\n",
              "      <td>12</td>\n",
              "      <td>5</td>\n",
              "      <td>6</td>\n",
              "      <td>20</td>\n",
              "      <td>10</td>\n",
              "      <td>20</td>\n",
              "      <td>4</td>\n",
              "      <td>0</td>\n",
              "    </tr>\n",
              "    <tr>\n",
              "      <th>2</th>\n",
              "      <td>DEL → BOM → COK</td>\n",
              "      <td>1 stop</td>\n",
              "      <td>In-flight meal not included</td>\n",
              "      <td>21</td>\n",
              "      <td>5</td>\n",
              "      <td>19</td>\n",
              "      <td>15</td>\n",
              "      <td>19</td>\n",
              "      <td>0</td>\n",
              "      <td>23</td>\n",
              "      <td>45</td>\n",
              "    </tr>\n",
              "    <tr>\n",
              "      <th>3</th>\n",
              "      <td>DEL → BOM → COK</td>\n",
              "      <td>1 stop</td>\n",
              "      <td>No info</td>\n",
              "      <td>21</td>\n",
              "      <td>5</td>\n",
              "      <td>8</td>\n",
              "      <td>0</td>\n",
              "      <td>21</td>\n",
              "      <td>0</td>\n",
              "      <td>13</td>\n",
              "      <td>0</td>\n",
              "    </tr>\n",
              "    <tr>\n",
              "      <th>4</th>\n",
              "      <td>BLR → DEL</td>\n",
              "      <td>non-stop</td>\n",
              "      <td>No info</td>\n",
              "      <td>24</td>\n",
              "      <td>6</td>\n",
              "      <td>23</td>\n",
              "      <td>55</td>\n",
              "      <td>2</td>\n",
              "      <td>45</td>\n",
              "      <td>2</td>\n",
              "      <td>50</td>\n",
              "    </tr>\n",
              "  </tbody>\n",
              "</table>\n",
              "</div>"
            ],
            "text/plain": [
              "             Route Total_Stops              Additional_Info  Journey_Day  \\\n",
              "0  DEL → BOM → COK      1 stop                      No info            6   \n",
              "1  CCU → MAA → BLR      1 stop                      No info           12   \n",
              "2  DEL → BOM → COK      1 stop  In-flight meal not included           21   \n",
              "3  DEL → BOM → COK      1 stop                      No info           21   \n",
              "4        BLR → DEL    non-stop                      No info           24   \n",
              "\n",
              "   Journey_Month  Dep_Hour  Dep_Min  Arrival_Hour  Arrival_Min  Duration_hrs  \\\n",
              "0              6        17       30             4           25            10   \n",
              "1              5         6       20            10           20             4   \n",
              "2              5        19       15            19            0            23   \n",
              "3              5         8        0            21            0            13   \n",
              "4              6        23       55             2           45             2   \n",
              "\n",
              "   Duration_mins  \n",
              "0             55  \n",
              "1              0  \n",
              "2             45  \n",
              "3              0  \n",
              "4             50  "
            ]
          },
          "metadata": {},
          "execution_count": 103
        }
      ]
    },
    {
      "cell_type": "markdown",
      "metadata": {
        "id": "-CEaE0dVog9d"
      },
      "source": [
        " - Columns dropped."
      ]
    },
    {
      "cell_type": "markdown",
      "metadata": {
        "id": "0VjAPu13oyX7"
      },
      "source": [
        "# **Route & Additional_Info**\n",
        "\n",
        " - \"Route\" is related to \"Total_Stops\" column.\n",
        " - \"Additional_Info\" contains almost 80% of No Info data, better to drop it."
      ]
    },
    {
      "cell_type": "code",
      "metadata": {
        "id": "L--sHXf8ofJB"
      },
      "source": [
        "# drop both column\n",
        "\n",
        "test_data.drop(['Route', 'Additional_Info'], axis=1, inplace=True)"
      ],
      "execution_count": 104,
      "outputs": []
    },
    {
      "cell_type": "code",
      "metadata": {
        "colab": {
          "base_uri": "https://localhost:8080/",
          "height": 204
        },
        "id": "B_jktGFUpGle",
        "outputId": "88045efc-33df-4d9d-fa6f-78c9895c6a12"
      },
      "source": [
        "test_data.head()"
      ],
      "execution_count": 105,
      "outputs": [
        {
          "output_type": "execute_result",
          "data": {
            "text/html": [
              "<div>\n",
              "<style scoped>\n",
              "    .dataframe tbody tr th:only-of-type {\n",
              "        vertical-align: middle;\n",
              "    }\n",
              "\n",
              "    .dataframe tbody tr th {\n",
              "        vertical-align: top;\n",
              "    }\n",
              "\n",
              "    .dataframe thead th {\n",
              "        text-align: right;\n",
              "    }\n",
              "</style>\n",
              "<table border=\"1\" class=\"dataframe\">\n",
              "  <thead>\n",
              "    <tr style=\"text-align: right;\">\n",
              "      <th></th>\n",
              "      <th>Total_Stops</th>\n",
              "      <th>Journey_Day</th>\n",
              "      <th>Journey_Month</th>\n",
              "      <th>Dep_Hour</th>\n",
              "      <th>Dep_Min</th>\n",
              "      <th>Arrival_Hour</th>\n",
              "      <th>Arrival_Min</th>\n",
              "      <th>Duration_hrs</th>\n",
              "      <th>Duration_mins</th>\n",
              "    </tr>\n",
              "  </thead>\n",
              "  <tbody>\n",
              "    <tr>\n",
              "      <th>0</th>\n",
              "      <td>1 stop</td>\n",
              "      <td>6</td>\n",
              "      <td>6</td>\n",
              "      <td>17</td>\n",
              "      <td>30</td>\n",
              "      <td>4</td>\n",
              "      <td>25</td>\n",
              "      <td>10</td>\n",
              "      <td>55</td>\n",
              "    </tr>\n",
              "    <tr>\n",
              "      <th>1</th>\n",
              "      <td>1 stop</td>\n",
              "      <td>12</td>\n",
              "      <td>5</td>\n",
              "      <td>6</td>\n",
              "      <td>20</td>\n",
              "      <td>10</td>\n",
              "      <td>20</td>\n",
              "      <td>4</td>\n",
              "      <td>0</td>\n",
              "    </tr>\n",
              "    <tr>\n",
              "      <th>2</th>\n",
              "      <td>1 stop</td>\n",
              "      <td>21</td>\n",
              "      <td>5</td>\n",
              "      <td>19</td>\n",
              "      <td>15</td>\n",
              "      <td>19</td>\n",
              "      <td>0</td>\n",
              "      <td>23</td>\n",
              "      <td>45</td>\n",
              "    </tr>\n",
              "    <tr>\n",
              "      <th>3</th>\n",
              "      <td>1 stop</td>\n",
              "      <td>21</td>\n",
              "      <td>5</td>\n",
              "      <td>8</td>\n",
              "      <td>0</td>\n",
              "      <td>21</td>\n",
              "      <td>0</td>\n",
              "      <td>13</td>\n",
              "      <td>0</td>\n",
              "    </tr>\n",
              "    <tr>\n",
              "      <th>4</th>\n",
              "      <td>non-stop</td>\n",
              "      <td>24</td>\n",
              "      <td>6</td>\n",
              "      <td>23</td>\n",
              "      <td>55</td>\n",
              "      <td>2</td>\n",
              "      <td>45</td>\n",
              "      <td>2</td>\n",
              "      <td>50</td>\n",
              "    </tr>\n",
              "  </tbody>\n",
              "</table>\n",
              "</div>"
            ],
            "text/plain": [
              "  Total_Stops  Journey_Day  Journey_Month  Dep_Hour  Dep_Min  Arrival_Hour  \\\n",
              "0      1 stop            6              6        17       30             4   \n",
              "1      1 stop           12              5         6       20            10   \n",
              "2      1 stop           21              5        19       15            19   \n",
              "3      1 stop           21              5         8        0            21   \n",
              "4    non-stop           24              6        23       55             2   \n",
              "\n",
              "   Arrival_Min  Duration_hrs  Duration_mins  \n",
              "0           25            10             55  \n",
              "1           20             4              0  \n",
              "2            0            23             45  \n",
              "3            0            13              0  \n",
              "4           45             2             50  "
            ]
          },
          "metadata": {},
          "execution_count": 105
        }
      ]
    },
    {
      "cell_type": "markdown",
      "metadata": {
        "id": "nhLNlux_pMUD"
      },
      "source": [
        " - Columns dropped."
      ]
    },
    {
      "cell_type": "markdown",
      "metadata": {
        "id": "-JhFlCzUpql_"
      },
      "source": [
        "# **Total_Stops**"
      ]
    },
    {
      "cell_type": "code",
      "metadata": {
        "id": "VKiOdbk0pIS4"
      },
      "source": [
        "# replace values\n",
        "test_data.replace({'non-stop':0, '1 stop':1, '2 stops':2, '3 stops':3, '4 stops':4}, inplace=True)"
      ],
      "execution_count": 106,
      "outputs": []
    },
    {
      "cell_type": "code",
      "metadata": {
        "colab": {
          "base_uri": "https://localhost:8080/",
          "height": 204
        },
        "id": "1DlIkGW6pyby",
        "outputId": "9786d91e-40f2-462e-a9e1-c48a140cf8a1"
      },
      "source": [
        "test_data.head()"
      ],
      "execution_count": 107,
      "outputs": [
        {
          "output_type": "execute_result",
          "data": {
            "text/html": [
              "<div>\n",
              "<style scoped>\n",
              "    .dataframe tbody tr th:only-of-type {\n",
              "        vertical-align: middle;\n",
              "    }\n",
              "\n",
              "    .dataframe tbody tr th {\n",
              "        vertical-align: top;\n",
              "    }\n",
              "\n",
              "    .dataframe thead th {\n",
              "        text-align: right;\n",
              "    }\n",
              "</style>\n",
              "<table border=\"1\" class=\"dataframe\">\n",
              "  <thead>\n",
              "    <tr style=\"text-align: right;\">\n",
              "      <th></th>\n",
              "      <th>Total_Stops</th>\n",
              "      <th>Journey_Day</th>\n",
              "      <th>Journey_Month</th>\n",
              "      <th>Dep_Hour</th>\n",
              "      <th>Dep_Min</th>\n",
              "      <th>Arrival_Hour</th>\n",
              "      <th>Arrival_Min</th>\n",
              "      <th>Duration_hrs</th>\n",
              "      <th>Duration_mins</th>\n",
              "    </tr>\n",
              "  </thead>\n",
              "  <tbody>\n",
              "    <tr>\n",
              "      <th>0</th>\n",
              "      <td>1</td>\n",
              "      <td>6</td>\n",
              "      <td>6</td>\n",
              "      <td>17</td>\n",
              "      <td>30</td>\n",
              "      <td>4</td>\n",
              "      <td>25</td>\n",
              "      <td>10</td>\n",
              "      <td>55</td>\n",
              "    </tr>\n",
              "    <tr>\n",
              "      <th>1</th>\n",
              "      <td>1</td>\n",
              "      <td>12</td>\n",
              "      <td>5</td>\n",
              "      <td>6</td>\n",
              "      <td>20</td>\n",
              "      <td>10</td>\n",
              "      <td>20</td>\n",
              "      <td>4</td>\n",
              "      <td>0</td>\n",
              "    </tr>\n",
              "    <tr>\n",
              "      <th>2</th>\n",
              "      <td>1</td>\n",
              "      <td>21</td>\n",
              "      <td>5</td>\n",
              "      <td>19</td>\n",
              "      <td>15</td>\n",
              "      <td>19</td>\n",
              "      <td>0</td>\n",
              "      <td>23</td>\n",
              "      <td>45</td>\n",
              "    </tr>\n",
              "    <tr>\n",
              "      <th>3</th>\n",
              "      <td>1</td>\n",
              "      <td>21</td>\n",
              "      <td>5</td>\n",
              "      <td>8</td>\n",
              "      <td>0</td>\n",
              "      <td>21</td>\n",
              "      <td>0</td>\n",
              "      <td>13</td>\n",
              "      <td>0</td>\n",
              "    </tr>\n",
              "    <tr>\n",
              "      <th>4</th>\n",
              "      <td>0</td>\n",
              "      <td>24</td>\n",
              "      <td>6</td>\n",
              "      <td>23</td>\n",
              "      <td>55</td>\n",
              "      <td>2</td>\n",
              "      <td>45</td>\n",
              "      <td>2</td>\n",
              "      <td>50</td>\n",
              "    </tr>\n",
              "  </tbody>\n",
              "</table>\n",
              "</div>"
            ],
            "text/plain": [
              "   Total_Stops  Journey_Day  Journey_Month  Dep_Hour  Dep_Min  Arrival_Hour  \\\n",
              "0            1            6              6        17       30             4   \n",
              "1            1           12              5         6       20            10   \n",
              "2            1           21              5        19       15            19   \n",
              "3            1           21              5         8        0            21   \n",
              "4            0           24              6        23       55             2   \n",
              "\n",
              "   Arrival_Min  Duration_hrs  Duration_mins  \n",
              "0           25            10             55  \n",
              "1           20             4              0  \n",
              "2            0            23             45  \n",
              "3            0            13              0  \n",
              "4           45             2             50  "
            ]
          },
          "metadata": {},
          "execution_count": 107
        }
      ]
    },
    {
      "cell_type": "markdown",
      "metadata": {
        "id": "Ot4IVE0Np7bV"
      },
      "source": [
        " - values replaced.\n",
        "\n",
        " - Concatenate DataFrame = train_data + Airline + Source + Destination"
      ]
    },
    {
      "cell_type": "code",
      "metadata": {
        "id": "ADY-CozQp56x"
      },
      "source": [
        "test_data = pd.concat([test_data, Airline, Source, Destination],axis=1)"
      ],
      "execution_count": 108,
      "outputs": []
    },
    {
      "cell_type": "code",
      "metadata": {
        "colab": {
          "base_uri": "https://localhost:8080/",
          "height": 258
        },
        "id": "N4n8byrhql1Z",
        "outputId": "c85a803f-603a-4750-821e-72175879a835"
      },
      "source": [
        "test_data.head()"
      ],
      "execution_count": 109,
      "outputs": [
        {
          "output_type": "execute_result",
          "data": {
            "text/html": [
              "<div>\n",
              "<style scoped>\n",
              "    .dataframe tbody tr th:only-of-type {\n",
              "        vertical-align: middle;\n",
              "    }\n",
              "\n",
              "    .dataframe tbody tr th {\n",
              "        vertical-align: top;\n",
              "    }\n",
              "\n",
              "    .dataframe thead th {\n",
              "        text-align: right;\n",
              "    }\n",
              "</style>\n",
              "<table border=\"1\" class=\"dataframe\">\n",
              "  <thead>\n",
              "    <tr style=\"text-align: right;\">\n",
              "      <th></th>\n",
              "      <th>Total_Stops</th>\n",
              "      <th>Journey_Day</th>\n",
              "      <th>Journey_Month</th>\n",
              "      <th>Dep_Hour</th>\n",
              "      <th>Dep_Min</th>\n",
              "      <th>Arrival_Hour</th>\n",
              "      <th>Arrival_Min</th>\n",
              "      <th>Duration_hrs</th>\n",
              "      <th>Duration_mins</th>\n",
              "      <th>Airline_Air India</th>\n",
              "      <th>Airline_GoAir</th>\n",
              "      <th>Airline_IndiGo</th>\n",
              "      <th>Airline_Jet Airways</th>\n",
              "      <th>Airline_Jet Airways Business</th>\n",
              "      <th>Airline_Multiple carriers</th>\n",
              "      <th>Airline_Multiple carriers Premium economy</th>\n",
              "      <th>Airline_SpiceJet</th>\n",
              "      <th>Airline_Vistara</th>\n",
              "      <th>Airline_Vistara Premium economy</th>\n",
              "      <th>Source_Chennai</th>\n",
              "      <th>Source_Delhi</th>\n",
              "      <th>Source_Kolkata</th>\n",
              "      <th>Source_Mumbai</th>\n",
              "      <th>Destination_Cochin</th>\n",
              "      <th>Destination_Delhi</th>\n",
              "      <th>Destination_Hyderabad</th>\n",
              "      <th>Destination_Kolkata</th>\n",
              "      <th>Destination_New Delhi</th>\n",
              "    </tr>\n",
              "  </thead>\n",
              "  <tbody>\n",
              "    <tr>\n",
              "      <th>0</th>\n",
              "      <td>1</td>\n",
              "      <td>6</td>\n",
              "      <td>6</td>\n",
              "      <td>17</td>\n",
              "      <td>30</td>\n",
              "      <td>4</td>\n",
              "      <td>25</td>\n",
              "      <td>10</td>\n",
              "      <td>55</td>\n",
              "      <td>0</td>\n",
              "      <td>0</td>\n",
              "      <td>0</td>\n",
              "      <td>1</td>\n",
              "      <td>0</td>\n",
              "      <td>0</td>\n",
              "      <td>0</td>\n",
              "      <td>0</td>\n",
              "      <td>0</td>\n",
              "      <td>0</td>\n",
              "      <td>0</td>\n",
              "      <td>1</td>\n",
              "      <td>0</td>\n",
              "      <td>0</td>\n",
              "      <td>1</td>\n",
              "      <td>0</td>\n",
              "      <td>0</td>\n",
              "      <td>0</td>\n",
              "      <td>0</td>\n",
              "    </tr>\n",
              "    <tr>\n",
              "      <th>1</th>\n",
              "      <td>1</td>\n",
              "      <td>12</td>\n",
              "      <td>5</td>\n",
              "      <td>6</td>\n",
              "      <td>20</td>\n",
              "      <td>10</td>\n",
              "      <td>20</td>\n",
              "      <td>4</td>\n",
              "      <td>0</td>\n",
              "      <td>0</td>\n",
              "      <td>0</td>\n",
              "      <td>1</td>\n",
              "      <td>0</td>\n",
              "      <td>0</td>\n",
              "      <td>0</td>\n",
              "      <td>0</td>\n",
              "      <td>0</td>\n",
              "      <td>0</td>\n",
              "      <td>0</td>\n",
              "      <td>0</td>\n",
              "      <td>0</td>\n",
              "      <td>1</td>\n",
              "      <td>0</td>\n",
              "      <td>0</td>\n",
              "      <td>0</td>\n",
              "      <td>0</td>\n",
              "      <td>0</td>\n",
              "      <td>0</td>\n",
              "    </tr>\n",
              "    <tr>\n",
              "      <th>2</th>\n",
              "      <td>1</td>\n",
              "      <td>21</td>\n",
              "      <td>5</td>\n",
              "      <td>19</td>\n",
              "      <td>15</td>\n",
              "      <td>19</td>\n",
              "      <td>0</td>\n",
              "      <td>23</td>\n",
              "      <td>45</td>\n",
              "      <td>0</td>\n",
              "      <td>0</td>\n",
              "      <td>0</td>\n",
              "      <td>1</td>\n",
              "      <td>0</td>\n",
              "      <td>0</td>\n",
              "      <td>0</td>\n",
              "      <td>0</td>\n",
              "      <td>0</td>\n",
              "      <td>0</td>\n",
              "      <td>0</td>\n",
              "      <td>1</td>\n",
              "      <td>0</td>\n",
              "      <td>0</td>\n",
              "      <td>1</td>\n",
              "      <td>0</td>\n",
              "      <td>0</td>\n",
              "      <td>0</td>\n",
              "      <td>0</td>\n",
              "    </tr>\n",
              "    <tr>\n",
              "      <th>3</th>\n",
              "      <td>1</td>\n",
              "      <td>21</td>\n",
              "      <td>5</td>\n",
              "      <td>8</td>\n",
              "      <td>0</td>\n",
              "      <td>21</td>\n",
              "      <td>0</td>\n",
              "      <td>13</td>\n",
              "      <td>0</td>\n",
              "      <td>0</td>\n",
              "      <td>0</td>\n",
              "      <td>0</td>\n",
              "      <td>0</td>\n",
              "      <td>0</td>\n",
              "      <td>1</td>\n",
              "      <td>0</td>\n",
              "      <td>0</td>\n",
              "      <td>0</td>\n",
              "      <td>0</td>\n",
              "      <td>0</td>\n",
              "      <td>1</td>\n",
              "      <td>0</td>\n",
              "      <td>0</td>\n",
              "      <td>1</td>\n",
              "      <td>0</td>\n",
              "      <td>0</td>\n",
              "      <td>0</td>\n",
              "      <td>0</td>\n",
              "    </tr>\n",
              "    <tr>\n",
              "      <th>4</th>\n",
              "      <td>0</td>\n",
              "      <td>24</td>\n",
              "      <td>6</td>\n",
              "      <td>23</td>\n",
              "      <td>55</td>\n",
              "      <td>2</td>\n",
              "      <td>45</td>\n",
              "      <td>2</td>\n",
              "      <td>50</td>\n",
              "      <td>0</td>\n",
              "      <td>0</td>\n",
              "      <td>0</td>\n",
              "      <td>0</td>\n",
              "      <td>0</td>\n",
              "      <td>0</td>\n",
              "      <td>0</td>\n",
              "      <td>0</td>\n",
              "      <td>0</td>\n",
              "      <td>0</td>\n",
              "      <td>0</td>\n",
              "      <td>0</td>\n",
              "      <td>0</td>\n",
              "      <td>0</td>\n",
              "      <td>0</td>\n",
              "      <td>1</td>\n",
              "      <td>0</td>\n",
              "      <td>0</td>\n",
              "      <td>0</td>\n",
              "    </tr>\n",
              "  </tbody>\n",
              "</table>\n",
              "</div>"
            ],
            "text/plain": [
              "   Total_Stops  Journey_Day  Journey_Month  Dep_Hour  Dep_Min  Arrival_Hour  \\\n",
              "0            1            6              6        17       30             4   \n",
              "1            1           12              5         6       20            10   \n",
              "2            1           21              5        19       15            19   \n",
              "3            1           21              5         8        0            21   \n",
              "4            0           24              6        23       55             2   \n",
              "\n",
              "   Arrival_Min  Duration_hrs  Duration_mins  Airline_Air India  Airline_GoAir  \\\n",
              "0           25            10             55                  0              0   \n",
              "1           20             4              0                  0              0   \n",
              "2            0            23             45                  0              0   \n",
              "3            0            13              0                  0              0   \n",
              "4           45             2             50                  0              0   \n",
              "\n",
              "   Airline_IndiGo  Airline_Jet Airways  Airline_Jet Airways Business  \\\n",
              "0               0                    1                             0   \n",
              "1               1                    0                             0   \n",
              "2               0                    1                             0   \n",
              "3               0                    0                             0   \n",
              "4               0                    0                             0   \n",
              "\n",
              "   Airline_Multiple carriers  Airline_Multiple carriers Premium economy  \\\n",
              "0                          0                                          0   \n",
              "1                          0                                          0   \n",
              "2                          0                                          0   \n",
              "3                          1                                          0   \n",
              "4                          0                                          0   \n",
              "\n",
              "   Airline_SpiceJet  Airline_Vistara  Airline_Vistara Premium economy  \\\n",
              "0                 0                0                                0   \n",
              "1                 0                0                                0   \n",
              "2                 0                0                                0   \n",
              "3                 0                0                                0   \n",
              "4                 0                0                                0   \n",
              "\n",
              "   Source_Chennai  Source_Delhi  Source_Kolkata  Source_Mumbai  \\\n",
              "0               0             1               0              0   \n",
              "1               0             0               1              0   \n",
              "2               0             1               0              0   \n",
              "3               0             1               0              0   \n",
              "4               0             0               0              0   \n",
              "\n",
              "   Destination_Cochin  Destination_Delhi  Destination_Hyderabad  \\\n",
              "0                   1                  0                      0   \n",
              "1                   0                  0                      0   \n",
              "2                   1                  0                      0   \n",
              "3                   1                  0                      0   \n",
              "4                   0                  1                      0   \n",
              "\n",
              "   Destination_Kolkata  Destination_New Delhi  \n",
              "0                    0                      0  \n",
              "1                    0                      0  \n",
              "2                    0                      0  \n",
              "3                    0                      0  \n",
              "4                    0                      0  "
            ]
          },
          "metadata": {},
          "execution_count": 109
        }
      ]
    },
    {
      "cell_type": "markdown",
      "metadata": {
        "id": "VjtRIHdFqpWN"
      },
      "source": [
        " - Columns attached.\n",
        " - Now data is ready to feed to a model."
      ]
    },
    {
      "cell_type": "code",
      "metadata": {
        "colab": {
          "base_uri": "https://localhost:8080/"
        },
        "id": "_ZHksQvOqnqh",
        "outputId": "1a669f51-facd-4378-93f5-c5d74aa435ee"
      },
      "source": [
        "# check shape of test data\n",
        "test_data.shape"
      ],
      "execution_count": 110,
      "outputs": [
        {
          "output_type": "execute_result",
          "data": {
            "text/plain": [
              "(2671, 28)"
            ]
          },
          "metadata": {},
          "execution_count": 110
        }
      ]
    },
    {
      "cell_type": "markdown",
      "metadata": {
        "id": "mlJDXlgYsmDb"
      },
      "source": [
        "# **Feature Selection**"
      ]
    },
    {
      "cell_type": "code",
      "metadata": {
        "colab": {
          "base_uri": "https://localhost:8080/"
        },
        "id": "CO76QK-Jqz2x",
        "outputId": "bafc8dc8-5a3a-46ca-92da-ad9b6247b1c0"
      },
      "source": [
        "train_data.shape"
      ],
      "execution_count": 111,
      "outputs": [
        {
          "output_type": "execute_result",
          "data": {
            "text/plain": [
              "(10682, 30)"
            ]
          },
          "metadata": {},
          "execution_count": 111
        }
      ]
    },
    {
      "cell_type": "code",
      "metadata": {
        "colab": {
          "base_uri": "https://localhost:8080/"
        },
        "id": "TKUKBln4s4B3",
        "outputId": "2254de8c-b69e-4c80-ba73-15ad5e890ceb"
      },
      "source": [
        "train_data.columns"
      ],
      "execution_count": 112,
      "outputs": [
        {
          "output_type": "execute_result",
          "data": {
            "text/plain": [
              "Index(['Total_Stops', 'Price', 'Journey_Day', 'Journey_Month', 'Dep_Hour',\n",
              "       'Dep_Min', 'Arrival_Hour', 'Arrival_Min', 'Duration_hrs',\n",
              "       'Duration_mins', 'Airline_Air India', 'Airline_GoAir', 'Airline_IndiGo',\n",
              "       'Airline_Jet Airways', 'Airline_Jet Airways Business',\n",
              "       'Airline_Multiple carriers',\n",
              "       'Airline_Multiple carriers Premium economy', 'Airline_SpiceJet',\n",
              "       'Airline_Trujet', 'Airline_Vistara', 'Airline_Vistara Premium economy',\n",
              "       'Source_Chennai', 'Source_Delhi', 'Source_Kolkata', 'Source_Mumbai',\n",
              "       'Destination_Cochin', 'Destination_Delhi', 'Destination_Hyderabad',\n",
              "       'Destination_Kolkata', 'Destination_New Delhi'],\n",
              "      dtype='object')"
            ]
          },
          "metadata": {},
          "execution_count": 112
        }
      ]
    },
    {
      "cell_type": "code",
      "metadata": {
        "colab": {
          "base_uri": "https://localhost:8080/",
          "height": 258
        },
        "id": "xmmRA2q5s55R",
        "outputId": "a6aa15f9-9a25-4cdd-d2ff-17ed7040a416"
      },
      "source": [
        "X = train_data.loc[:,['Total_Stops', 'Journey_Day', 'Journey_Month', 'Dep_Hour',\n",
        "       'Dep_Min', 'Arrival_Hour', 'Arrival_Min', 'Duration_hrs',\n",
        "       'Duration_mins', 'Airline_Air India', 'Airline_GoAir', 'Airline_IndiGo',\n",
        "       'Airline_Jet Airways', 'Airline_Jet Airways Business',\n",
        "       'Airline_Multiple carriers',\n",
        "       'Airline_Multiple carriers Premium economy', 'Airline_SpiceJet',\n",
        "       'Airline_Trujet', 'Airline_Vistara', 'Airline_Vistara Premium economy',\n",
        "       'Source_Chennai', 'Source_Delhi', 'Source_Kolkata', 'Source_Mumbai',\n",
        "       'Destination_Cochin', 'Destination_Delhi', 'Destination_Hyderabad',\n",
        "       'Destination_Kolkata', 'Destination_New Delhi']]\n",
        "X.head()"
      ],
      "execution_count": 127,
      "outputs": [
        {
          "output_type": "execute_result",
          "data": {
            "text/html": [
              "<div>\n",
              "<style scoped>\n",
              "    .dataframe tbody tr th:only-of-type {\n",
              "        vertical-align: middle;\n",
              "    }\n",
              "\n",
              "    .dataframe tbody tr th {\n",
              "        vertical-align: top;\n",
              "    }\n",
              "\n",
              "    .dataframe thead th {\n",
              "        text-align: right;\n",
              "    }\n",
              "</style>\n",
              "<table border=\"1\" class=\"dataframe\">\n",
              "  <thead>\n",
              "    <tr style=\"text-align: right;\">\n",
              "      <th></th>\n",
              "      <th>Total_Stops</th>\n",
              "      <th>Journey_Day</th>\n",
              "      <th>Journey_Month</th>\n",
              "      <th>Dep_Hour</th>\n",
              "      <th>Dep_Min</th>\n",
              "      <th>Arrival_Hour</th>\n",
              "      <th>Arrival_Min</th>\n",
              "      <th>Duration_hrs</th>\n",
              "      <th>Duration_mins</th>\n",
              "      <th>Airline_Air India</th>\n",
              "      <th>Airline_GoAir</th>\n",
              "      <th>Airline_IndiGo</th>\n",
              "      <th>Airline_Jet Airways</th>\n",
              "      <th>Airline_Jet Airways Business</th>\n",
              "      <th>Airline_Multiple carriers</th>\n",
              "      <th>Airline_Multiple carriers Premium economy</th>\n",
              "      <th>Airline_SpiceJet</th>\n",
              "      <th>Airline_Trujet</th>\n",
              "      <th>Airline_Vistara</th>\n",
              "      <th>Airline_Vistara Premium economy</th>\n",
              "      <th>Source_Chennai</th>\n",
              "      <th>Source_Delhi</th>\n",
              "      <th>Source_Kolkata</th>\n",
              "      <th>Source_Mumbai</th>\n",
              "      <th>Destination_Cochin</th>\n",
              "      <th>Destination_Delhi</th>\n",
              "      <th>Destination_Hyderabad</th>\n",
              "      <th>Destination_Kolkata</th>\n",
              "      <th>Destination_New Delhi</th>\n",
              "    </tr>\n",
              "  </thead>\n",
              "  <tbody>\n",
              "    <tr>\n",
              "      <th>0</th>\n",
              "      <td>0</td>\n",
              "      <td>24</td>\n",
              "      <td>3</td>\n",
              "      <td>22</td>\n",
              "      <td>20</td>\n",
              "      <td>1</td>\n",
              "      <td>10</td>\n",
              "      <td>2</td>\n",
              "      <td>50</td>\n",
              "      <td>0</td>\n",
              "      <td>0</td>\n",
              "      <td>1</td>\n",
              "      <td>0</td>\n",
              "      <td>0</td>\n",
              "      <td>0</td>\n",
              "      <td>0</td>\n",
              "      <td>0</td>\n",
              "      <td>0</td>\n",
              "      <td>0</td>\n",
              "      <td>0</td>\n",
              "      <td>0</td>\n",
              "      <td>0</td>\n",
              "      <td>0</td>\n",
              "      <td>0</td>\n",
              "      <td>0</td>\n",
              "      <td>0</td>\n",
              "      <td>0</td>\n",
              "      <td>0</td>\n",
              "      <td>1</td>\n",
              "    </tr>\n",
              "    <tr>\n",
              "      <th>1</th>\n",
              "      <td>2</td>\n",
              "      <td>1</td>\n",
              "      <td>5</td>\n",
              "      <td>5</td>\n",
              "      <td>50</td>\n",
              "      <td>13</td>\n",
              "      <td>15</td>\n",
              "      <td>7</td>\n",
              "      <td>25</td>\n",
              "      <td>1</td>\n",
              "      <td>0</td>\n",
              "      <td>0</td>\n",
              "      <td>0</td>\n",
              "      <td>0</td>\n",
              "      <td>0</td>\n",
              "      <td>0</td>\n",
              "      <td>0</td>\n",
              "      <td>0</td>\n",
              "      <td>0</td>\n",
              "      <td>0</td>\n",
              "      <td>0</td>\n",
              "      <td>0</td>\n",
              "      <td>1</td>\n",
              "      <td>0</td>\n",
              "      <td>0</td>\n",
              "      <td>0</td>\n",
              "      <td>0</td>\n",
              "      <td>0</td>\n",
              "      <td>0</td>\n",
              "    </tr>\n",
              "    <tr>\n",
              "      <th>2</th>\n",
              "      <td>2</td>\n",
              "      <td>9</td>\n",
              "      <td>6</td>\n",
              "      <td>9</td>\n",
              "      <td>25</td>\n",
              "      <td>4</td>\n",
              "      <td>25</td>\n",
              "      <td>19</td>\n",
              "      <td>0</td>\n",
              "      <td>0</td>\n",
              "      <td>0</td>\n",
              "      <td>0</td>\n",
              "      <td>1</td>\n",
              "      <td>0</td>\n",
              "      <td>0</td>\n",
              "      <td>0</td>\n",
              "      <td>0</td>\n",
              "      <td>0</td>\n",
              "      <td>0</td>\n",
              "      <td>0</td>\n",
              "      <td>0</td>\n",
              "      <td>1</td>\n",
              "      <td>0</td>\n",
              "      <td>0</td>\n",
              "      <td>1</td>\n",
              "      <td>0</td>\n",
              "      <td>0</td>\n",
              "      <td>0</td>\n",
              "      <td>0</td>\n",
              "    </tr>\n",
              "    <tr>\n",
              "      <th>3</th>\n",
              "      <td>1</td>\n",
              "      <td>12</td>\n",
              "      <td>5</td>\n",
              "      <td>18</td>\n",
              "      <td>5</td>\n",
              "      <td>23</td>\n",
              "      <td>30</td>\n",
              "      <td>5</td>\n",
              "      <td>25</td>\n",
              "      <td>0</td>\n",
              "      <td>0</td>\n",
              "      <td>1</td>\n",
              "      <td>0</td>\n",
              "      <td>0</td>\n",
              "      <td>0</td>\n",
              "      <td>0</td>\n",
              "      <td>0</td>\n",
              "      <td>0</td>\n",
              "      <td>0</td>\n",
              "      <td>0</td>\n",
              "      <td>0</td>\n",
              "      <td>0</td>\n",
              "      <td>1</td>\n",
              "      <td>0</td>\n",
              "      <td>0</td>\n",
              "      <td>0</td>\n",
              "      <td>0</td>\n",
              "      <td>0</td>\n",
              "      <td>0</td>\n",
              "    </tr>\n",
              "    <tr>\n",
              "      <th>4</th>\n",
              "      <td>1</td>\n",
              "      <td>1</td>\n",
              "      <td>3</td>\n",
              "      <td>16</td>\n",
              "      <td>50</td>\n",
              "      <td>21</td>\n",
              "      <td>35</td>\n",
              "      <td>4</td>\n",
              "      <td>45</td>\n",
              "      <td>0</td>\n",
              "      <td>0</td>\n",
              "      <td>1</td>\n",
              "      <td>0</td>\n",
              "      <td>0</td>\n",
              "      <td>0</td>\n",
              "      <td>0</td>\n",
              "      <td>0</td>\n",
              "      <td>0</td>\n",
              "      <td>0</td>\n",
              "      <td>0</td>\n",
              "      <td>0</td>\n",
              "      <td>0</td>\n",
              "      <td>0</td>\n",
              "      <td>0</td>\n",
              "      <td>0</td>\n",
              "      <td>0</td>\n",
              "      <td>0</td>\n",
              "      <td>0</td>\n",
              "      <td>1</td>\n",
              "    </tr>\n",
              "  </tbody>\n",
              "</table>\n",
              "</div>"
            ],
            "text/plain": [
              "   Total_Stops  Journey_Day  Journey_Month  Dep_Hour  Dep_Min  Arrival_Hour  \\\n",
              "0            0           24              3        22       20             1   \n",
              "1            2            1              5         5       50            13   \n",
              "2            2            9              6         9       25             4   \n",
              "3            1           12              5        18        5            23   \n",
              "4            1            1              3        16       50            21   \n",
              "\n",
              "   Arrival_Min  Duration_hrs  Duration_mins  Airline_Air India  Airline_GoAir  \\\n",
              "0           10             2             50                  0              0   \n",
              "1           15             7             25                  1              0   \n",
              "2           25            19              0                  0              0   \n",
              "3           30             5             25                  0              0   \n",
              "4           35             4             45                  0              0   \n",
              "\n",
              "   Airline_IndiGo  Airline_Jet Airways  Airline_Jet Airways Business  \\\n",
              "0               1                    0                             0   \n",
              "1               0                    0                             0   \n",
              "2               0                    1                             0   \n",
              "3               1                    0                             0   \n",
              "4               1                    0                             0   \n",
              "\n",
              "   Airline_Multiple carriers  Airline_Multiple carriers Premium economy  \\\n",
              "0                          0                                          0   \n",
              "1                          0                                          0   \n",
              "2                          0                                          0   \n",
              "3                          0                                          0   \n",
              "4                          0                                          0   \n",
              "\n",
              "   Airline_SpiceJet  Airline_Trujet  Airline_Vistara  \\\n",
              "0                 0               0                0   \n",
              "1                 0               0                0   \n",
              "2                 0               0                0   \n",
              "3                 0               0                0   \n",
              "4                 0               0                0   \n",
              "\n",
              "   Airline_Vistara Premium economy  Source_Chennai  Source_Delhi  \\\n",
              "0                                0               0             0   \n",
              "1                                0               0             0   \n",
              "2                                0               0             1   \n",
              "3                                0               0             0   \n",
              "4                                0               0             0   \n",
              "\n",
              "   Source_Kolkata  Source_Mumbai  Destination_Cochin  Destination_Delhi  \\\n",
              "0               0              0                   0                  0   \n",
              "1               1              0                   0                  0   \n",
              "2               0              0                   1                  0   \n",
              "3               1              0                   0                  0   \n",
              "4               0              0                   0                  0   \n",
              "\n",
              "   Destination_Hyderabad  Destination_Kolkata  Destination_New Delhi  \n",
              "0                      0                    0                      1  \n",
              "1                      0                    0                      0  \n",
              "2                      0                    0                      0  \n",
              "3                      0                    0                      0  \n",
              "4                      0                    0                      1  "
            ]
          },
          "metadata": {},
          "execution_count": 127
        }
      ]
    },
    {
      "cell_type": "code",
      "metadata": {
        "colab": {
          "base_uri": "https://localhost:8080/"
        },
        "id": "V3QEhuhXtGgs",
        "outputId": "003ad97f-9d36-4ad1-c391-b2823732fee8"
      },
      "source": [
        "y = train_data.iloc[:, 1]\n",
        "y.head()"
      ],
      "execution_count": 128,
      "outputs": [
        {
          "output_type": "execute_result",
          "data": {
            "text/plain": [
              "0     3897\n",
              "1     7662\n",
              "2    13882\n",
              "3     6218\n",
              "4    13302\n",
              "Name: Price, dtype: int64"
            ]
          },
          "metadata": {},
          "execution_count": 128
        }
      ]
    },
    {
      "cell_type": "markdown",
      "metadata": {
        "id": "hRlIUeNztY8D"
      },
      "source": [
        "## **Correlation between independent and dependent attributes**"
      ]
    },
    {
      "cell_type": "code",
      "metadata": {
        "colab": {
          "base_uri": "https://localhost:8080/",
          "height": 1000
        },
        "id": "ilaqsftjtWS8",
        "outputId": "45ba54ce-dbe0-48ad-fb77-d3ea27be6773"
      },
      "source": [
        "plt.figure(figsize=(20,20))\n",
        "sns.heatmap(train_data.corr(), annot=True, fmt='.2f')\n",
        "\n",
        "plt.show()"
      ],
      "execution_count": 129,
      "outputs": [
        {
          "output_type": "display_data",
          "data": {
            "image/png": "[encoded data removed]",
            "text/plain": [
              "<Figure size 1440x1440 with 2 Axes>"
            ]
          },
          "metadata": {
            "needs_background": "light"
          }
        }
      ]
    },
    {
      "cell_type": "code",
      "metadata": {
        "colab": {
          "base_uri": "https://localhost:8080/"
        },
        "id": "8KODIn90t758",
        "outputId": "a3f64139-d060-4f15-c57b-ac41e4b1e72e"
      },
      "source": [
        "# Important features using ExtraTreesRegressor\n",
        "from sklearn.ensemble import ExtraTreesRegressor\n",
        "\n",
        "selection = ExtraTreesRegressor()\n",
        "selection.fit(X,y)"
      ],
      "execution_count": 130,
      "outputs": [
        {
          "output_type": "execute_result",
          "data": {
            "text/plain": [
              "ExtraTreesRegressor(bootstrap=False, ccp_alpha=0.0, criterion='mse',\n",
              "                    max_depth=None, max_features='auto', max_leaf_nodes=None,\n",
              "                    max_samples=None, min_impurity_decrease=0.0,\n",
              "                    min_impurity_split=None, min_samples_leaf=1,\n",
              "                    min_samples_split=2, min_weight_fraction_leaf=0.0,\n",
              "                    n_estimators=100, n_jobs=None, oob_score=False,\n",
              "                    random_state=None, verbose=0, warm_start=False)"
            ]
          },
          "metadata": {},
          "execution_count": 130
        }
      ]
    },
    {
      "cell_type": "code",
      "metadata": {
        "colab": {
          "base_uri": "https://localhost:8080/"
        },
        "id": "jz5HY1-KyUGc",
        "outputId": "1c439943-bc8b-4c06-b423-d81df44a5df9"
      },
      "source": [
        "print(selection.feature_importances_)"
      ],
      "execution_count": 131,
      "outputs": [
        {
          "output_type": "stream",
          "text": [
            "[2.28653330e-01 1.42378800e-01 5.44428239e-02 2.44806366e-02\n",
            " 2.14924040e-02 2.82423344e-02 1.92014018e-02 1.32064609e-01\n",
            " 1.79379284e-02 9.79396108e-03 1.90808452e-03 1.77048613e-02\n",
            " 1.33620107e-01 6.74015626e-02 2.06034048e-02 9.31817929e-04\n",
            " 3.32164107e-03 9.66607998e-05 5.28821502e-03 8.11335384e-05\n",
            " 5.09578066e-04 9.02584904e-03 3.23702789e-03 5.47471831e-03\n",
            " 8.89807607e-03 1.22031845e-02 5.79892662e-03 4.76619131e-04\n",
            " 2.47303027e-02]\n"
          ],
          "name": "stdout"
        }
      ]
    },
    {
      "cell_type": "code",
      "metadata": {
        "colab": {
          "base_uri": "https://localhost:8080/",
          "height": 483
        },
        "id": "JNP9sO8SyadQ",
        "outputId": "36565352-856f-4a29-d6fa-be07bc1b25b6"
      },
      "source": [
        "# plot grapn of feature importances using visualization\n",
        "\n",
        "plt.figure(figsize=(12,8))\n",
        "feature_importances = pd.Series(selection.feature_importances_, index=X.columns)\n",
        "feature_importances.nlargest(20).plot(kind='barh')\n",
        "plt.show()"
      ],
      "execution_count": 132,
      "outputs": [
        {
          "output_type": "display_data",
          "data": {
            "image/png": "[encoded data removed]",
            "text/plain": [
              "<Figure size 864x576 with 1 Axes>"
            ]
          },
          "metadata": {
            "needs_background": "light"
          }
        }
      ]
    },
    {
      "cell_type": "markdown",
      "metadata": {
        "id": "_O075dhf0BYZ"
      },
      "source": [
        "# **Fit The Model using Random Forest**"
      ]
    },
    {
      "cell_type": "code",
      "metadata": {
        "id": "RePPzqMEzQ7F"
      },
      "source": [
        "from sklearn.model_selection import train_test_split\n",
        "\n",
        "X_train, X_test, y_train, y_test = train_test_split(X, y, test_size=0.30, random_state=481638)"
      ],
      "execution_count": 133,
      "outputs": []
    },
    {
      "cell_type": "code",
      "metadata": {
        "colab": {
          "base_uri": "https://localhost:8080/"
        },
        "id": "9TM_1TJ_0kMr",
        "outputId": "704d192d-8ecc-4441-bb87-54285e4d883a"
      },
      "source": [
        "from sklearn.ensemble import  RandomForestRegressor\n",
        "\n",
        "reg_rf = RandomForestRegressor()\n",
        "reg_rf.fit(X_train, y_train)"
      ],
      "execution_count": 134,
      "outputs": [
        {
          "output_type": "execute_result",
          "data": {
            "text/plain": [
              "RandomForestRegressor(bootstrap=True, ccp_alpha=0.0, criterion='mse',\n",
              "                      max_depth=None, max_features='auto', max_leaf_nodes=None,\n",
              "                      max_samples=None, min_impurity_decrease=0.0,\n",
              "                      min_impurity_split=None, min_samples_leaf=1,\n",
              "                      min_samples_split=2, min_weight_fraction_leaf=0.0,\n",
              "                      n_estimators=100, n_jobs=None, oob_score=False,\n",
              "                      random_state=None, verbose=0, warm_start=False)"
            ]
          },
          "metadata": {},
          "execution_count": 134
        }
      ]
    },
    {
      "cell_type": "code",
      "metadata": {
        "id": "JAZs0WJ40zYZ"
      },
      "source": [
        "y_pred = reg_rf.predict(X_test)"
      ],
      "execution_count": 135,
      "outputs": []
    },
    {
      "cell_type": "code",
      "metadata": {
        "colab": {
          "base_uri": "https://localhost:8080/"
        },
        "id": "_Hv2Kgmf07q8",
        "outputId": "96706b37-f85f-4451-851b-3ad8795747ae"
      },
      "source": [
        "reg_rf.score(X_train, y_train)"
      ],
      "execution_count": 136,
      "outputs": [
        {
          "output_type": "execute_result",
          "data": {
            "text/plain": [
              "0.9575357633602488"
            ]
          },
          "metadata": {},
          "execution_count": 136
        }
      ]
    },
    {
      "cell_type": "code",
      "metadata": {
        "colab": {
          "base_uri": "https://localhost:8080/"
        },
        "id": "TZ4CFIHS1BtU",
        "outputId": "1c9eca4d-ec8e-46ac-9f3d-c57bb241e99c"
      },
      "source": [
        "reg_rf.score(X_test, y_test)"
      ],
      "execution_count": 137,
      "outputs": [
        {
          "output_type": "execute_result",
          "data": {
            "text/plain": [
              "0.8103879937040112"
            ]
          },
          "metadata": {},
          "execution_count": 137
        }
      ]
    },
    {
      "cell_type": "markdown",
      "metadata": {
        "id": "GBA9m2lf1KCx"
      },
      "source": [
        " - We got the score for train is 95% and for test is 81%."
      ]
    },
    {
      "cell_type": "code",
      "metadata": {
        "colab": {
          "base_uri": "https://localhost:8080/",
          "height": 279
        },
        "id": "yykfymqt1Hb3",
        "outputId": "d940e60b-c8f9-46f1-ce12-cf4e0bdd00e0"
      },
      "source": [
        "sns.distplot(y_test-y_pred)\n",
        "plt.show()"
      ],
      "execution_count": 140,
      "outputs": [
        {
          "output_type": "display_data",
          "data": {
            "image/png": "[encoded data removed]",
            "text/plain": [
              "<Figure size 432x288 with 1 Axes>"
            ]
          },
          "metadata": {
            "needs_background": "light"
          }
        }
      ]
    },
    {
      "cell_type": "code",
      "metadata": {
        "colab": {
          "base_uri": "https://localhost:8080/",
          "height": 280
        },
        "id": "bo8scUt01Urn",
        "outputId": "292f0fe8-72c5-479e-c85c-66600f6aedec"
      },
      "source": [
        "plt.scatter(y_test, y_pred, alpha=0.5)\n",
        "plt.xlabel('y_test')\n",
        "plt.ylabel('y_pred')\n",
        "plt.show()"
      ],
      "execution_count": 141,
      "outputs": [
        {
          "output_type": "display_data",
          "data": {
            "image/png": "[encoded data removed]",
            "text/plain": [
              "<Figure size 432x288 with 1 Axes>"
            ]
          },
          "metadata": {
            "needs_background": "light"
          }
        }
      ]
    },
    {
      "cell_type": "code",
      "metadata": {
        "id": "v_CDzx0g13TV"
      },
      "source": [
        "from sklearn import metrics"
      ],
      "execution_count": 142,
      "outputs": []
    },
    {
      "cell_type": "code",
      "metadata": {
        "colab": {
          "base_uri": "https://localhost:8080/"
        },
        "id": "JAQieUya2KB0",
        "outputId": "750609c6-cbfd-402f-dde5-93c348b1440b"
      },
      "source": [
        "print('MAE:', metrics.mean_absolute_error(y_test, y_pred))\n",
        "print('MSE:', metrics.mean_squared_error(y_test, y_pred))\n",
        "print('RMSE:', np.sqrt(metrics.mean_squared_error(y_test, y_pred)))"
      ],
      "execution_count": 143,
      "outputs": [
        {
          "output_type": "stream",
          "text": [
            "MAE: 1186.7477760512413\n",
            "MSE: 3800716.033778798\n",
            "RMSE: 1949.542519100006\n"
          ],
          "name": "stdout"
        }
      ]
    },
    {
      "cell_type": "code",
      "metadata": {
        "colab": {
          "base_uri": "https://localhost:8080/"
        },
        "id": "Xr5OaEZe2__7",
        "outputId": "03f29840-e84d-4030-e0c7-862031771a5a"
      },
      "source": [
        "metrics.r2_score(y_test, y_pred)"
      ],
      "execution_count": 146,
      "outputs": [
        {
          "output_type": "execute_result",
          "data": {
            "text/plain": [
              "0.8103879937040113"
            ]
          },
          "metadata": {},
          "execution_count": 146
        }
      ]
    },
    {
      "cell_type": "markdown",
      "metadata": {
        "id": "2FE23Q-X3SB5"
      },
      "source": [
        " - The score is 81%."
      ]
    },
    {
      "cell_type": "markdown",
      "metadata": {
        "id": "B_tyuOWM3Vqa"
      },
      "source": [
        "## **Hyper Parameter Tuning**"
      ]
    },
    {
      "cell_type": "code",
      "metadata": {
        "id": "BT7Kniz23MLK"
      },
      "source": [
        "from sklearn.model_selection import RandomizedSearchCV\n"
      ],
      "execution_count": 147,
      "outputs": []
    },
    {
      "cell_type": "code",
      "metadata": {
        "id": "S89pukWi3hhH"
      },
      "source": [
        "# number of trees in random forest\n",
        "n_estimators = [int(x) for x in np.linspace(start=100, stop=1200, num=12)]\n",
        "\n",
        "# number of features to consider at every split\n",
        "max_features = ['auto', 'sqrt']\n",
        "\n",
        "# maximum number of levels in tree\n",
        "max_depth = [int(x) for x in np.linspace(5, 30, num=6)]\n",
        "\n",
        "# minimum number of samples required to split a node\n",
        "min_samples_split = [2,5,10,15,100]\n",
        "\n",
        "#minimum number of samples required at each leaf node\n",
        "min_samples_leaf = [1,2,5,10]"
      ],
      "execution_count": 148,
      "outputs": []
    },
    {
      "cell_type": "code",
      "metadata": {
        "id": "7DwqhCGG4zD7"
      },
      "source": [
        "# create the random grid\n",
        "random_grid = {'n_estimators' : n_estimators,\n",
        "               'max_depth' : max_depth,\n",
        "               'max_features' : max_features,\n",
        "               'min_samples_split' : min_samples_split,\n",
        "               'min_samples_leaf' : min_samples_leaf}"
      ],
      "execution_count": 149,
      "outputs": []
    },
    {
      "cell_type": "code",
      "metadata": {
        "id": "YGvqWkgt5rWQ"
      },
      "source": [
        "# random search of parameters using 5 fol cross validation\n",
        "# search across 100 different combinations\n",
        "rf_random = RandomizedSearchCV(estimator=reg_rf, param_distributions=random_grid, scoring='neg_mean_squared_error',\n",
        "                               n_iter=10, cv=5, verbose=2, random_state=48415, n_jobs=1)"
      ],
      "execution_count": 152,
      "outputs": []
    },
    {
      "cell_type": "code",
      "metadata": {
        "colab": {
          "base_uri": "https://localhost:8080/"
        },
        "id": "Sl77K2Aw6h9N",
        "outputId": "72886902-1c08-4082-e1a5-c68329c33a7f"
      },
      "source": [
        "rf_random.fit(X_train, y_train)"
      ],
      "execution_count": 153,
      "outputs": [
        {
          "output_type": "stream",
          "text": [
            "Fitting 5 folds for each of 10 candidates, totalling 50 fits\n",
            "[CV] n_estimators=300, min_samples_split=15, min_samples_leaf=10, max_features=auto, max_depth=30 \n"
          ],
          "name": "stdout"
        },
        {
          "output_type": "stream",
          "text": [
            "[Parallel(n_jobs=1)]: Using backend SequentialBackend with 1 concurrent workers.\n"
          ],
          "name": "stderr"
        },
        {
          "output_type": "stream",
          "text": [
            "[CV]  n_estimators=300, min_samples_split=15, min_samples_leaf=10, max_features=auto, max_depth=30, total=   4.0s\n",
            "[CV] n_estimators=300, min_samples_split=15, min_samples_leaf=10, max_features=auto, max_depth=30 \n"
          ],
          "name": "stdout"
        },
        {
          "output_type": "stream",
          "text": [
            "[Parallel(n_jobs=1)]: Done   1 out of   1 | elapsed:    4.0s remaining:    0.0s\n"
          ],
          "name": "stderr"
        },
        {
          "output_type": "stream",
          "text": [
            "[CV]  n_estimators=300, min_samples_split=15, min_samples_leaf=10, max_features=auto, max_depth=30, total=   4.0s\n",
            "[CV] n_estimators=300, min_samples_split=15, min_samples_leaf=10, max_features=auto, max_depth=30 \n",
            "[CV]  n_estimators=300, min_samples_split=15, min_samples_leaf=10, max_features=auto, max_depth=30, total=   4.0s\n",
            "[CV] n_estimators=300, min_samples_split=15, min_samples_leaf=10, max_features=auto, max_depth=30 \n",
            "[CV]  n_estimators=300, min_samples_split=15, min_samples_leaf=10, max_features=auto, max_depth=30, total=   4.0s\n",
            "[CV] n_estimators=300, min_samples_split=15, min_samples_leaf=10, max_features=auto, max_depth=30 \n",
            "[CV]  n_estimators=300, min_samples_split=15, min_samples_leaf=10, max_features=auto, max_depth=30, total=   4.0s\n",
            "[CV] n_estimators=800, min_samples_split=100, min_samples_leaf=10, max_features=auto, max_depth=15 \n",
            "[CV]  n_estimators=800, min_samples_split=100, min_samples_leaf=10, max_features=auto, max_depth=15, total=   8.6s\n",
            "[CV] n_estimators=800, min_samples_split=100, min_samples_leaf=10, max_features=auto, max_depth=15 \n",
            "[CV]  n_estimators=800, min_samples_split=100, min_samples_leaf=10, max_features=auto, max_depth=15, total=   8.6s\n",
            "[CV] n_estimators=800, min_samples_split=100, min_samples_leaf=10, max_features=auto, max_depth=15 \n",
            "[CV]  n_estimators=800, min_samples_split=100, min_samples_leaf=10, max_features=auto, max_depth=15, total=   8.4s\n",
            "[CV] n_estimators=800, min_samples_split=100, min_samples_leaf=10, max_features=auto, max_depth=15 \n",
            "[CV]  n_estimators=800, min_samples_split=100, min_samples_leaf=10, max_features=auto, max_depth=15, total=   8.6s\n",
            "[CV] n_estimators=800, min_samples_split=100, min_samples_leaf=10, max_features=auto, max_depth=15 \n",
            "[CV]  n_estimators=800, min_samples_split=100, min_samples_leaf=10, max_features=auto, max_depth=15, total=   8.5s\n",
            "[CV] n_estimators=200, min_samples_split=15, min_samples_leaf=1, max_features=sqrt, max_depth=20 \n",
            "[CV]  n_estimators=200, min_samples_split=15, min_samples_leaf=1, max_features=sqrt, max_depth=20, total=   1.0s\n",
            "[CV] n_estimators=200, min_samples_split=15, min_samples_leaf=1, max_features=sqrt, max_depth=20 \n",
            "[CV]  n_estimators=200, min_samples_split=15, min_samples_leaf=1, max_features=sqrt, max_depth=20, total=   1.0s\n",
            "[CV] n_estimators=200, min_samples_split=15, min_samples_leaf=1, max_features=sqrt, max_depth=20 \n",
            "[CV]  n_estimators=200, min_samples_split=15, min_samples_leaf=1, max_features=sqrt, max_depth=20, total=   1.0s\n",
            "[CV] n_estimators=200, min_samples_split=15, min_samples_leaf=1, max_features=sqrt, max_depth=20 \n",
            "[CV]  n_estimators=200, min_samples_split=15, min_samples_leaf=1, max_features=sqrt, max_depth=20, total=   1.0s\n",
            "[CV] n_estimators=200, min_samples_split=15, min_samples_leaf=1, max_features=sqrt, max_depth=20 \n",
            "[CV]  n_estimators=200, min_samples_split=15, min_samples_leaf=1, max_features=sqrt, max_depth=20, total=   1.0s\n",
            "[CV] n_estimators=200, min_samples_split=2, min_samples_leaf=10, max_features=auto, max_depth=15 \n",
            "[CV]  n_estimators=200, min_samples_split=2, min_samples_leaf=10, max_features=auto, max_depth=15, total=   2.7s\n",
            "[CV] n_estimators=200, min_samples_split=2, min_samples_leaf=10, max_features=auto, max_depth=15 \n",
            "[CV]  n_estimators=200, min_samples_split=2, min_samples_leaf=10, max_features=auto, max_depth=15, total=   2.7s\n",
            "[CV] n_estimators=200, min_samples_split=2, min_samples_leaf=10, max_features=auto, max_depth=15 \n",
            "[CV]  n_estimators=200, min_samples_split=2, min_samples_leaf=10, max_features=auto, max_depth=15, total=   2.6s\n",
            "[CV] n_estimators=200, min_samples_split=2, min_samples_leaf=10, max_features=auto, max_depth=15 \n",
            "[CV]  n_estimators=200, min_samples_split=2, min_samples_leaf=10, max_features=auto, max_depth=15, total=   2.7s\n",
            "[CV] n_estimators=200, min_samples_split=2, min_samples_leaf=10, max_features=auto, max_depth=15 \n",
            "[CV]  n_estimators=200, min_samples_split=2, min_samples_leaf=10, max_features=auto, max_depth=15, total=   2.7s\n",
            "[CV] n_estimators=200, min_samples_split=100, min_samples_leaf=10, max_features=auto, max_depth=15 \n",
            "[CV]  n_estimators=200, min_samples_split=100, min_samples_leaf=10, max_features=auto, max_depth=15, total=   2.2s\n",
            "[CV] n_estimators=200, min_samples_split=100, min_samples_leaf=10, max_features=auto, max_depth=15 \n",
            "[CV]  n_estimators=200, min_samples_split=100, min_samples_leaf=10, max_features=auto, max_depth=15, total=   2.2s\n",
            "[CV] n_estimators=200, min_samples_split=100, min_samples_leaf=10, max_features=auto, max_depth=15 \n",
            "[CV]  n_estimators=200, min_samples_split=100, min_samples_leaf=10, max_features=auto, max_depth=15, total=   2.1s\n",
            "[CV] n_estimators=200, min_samples_split=100, min_samples_leaf=10, max_features=auto, max_depth=15 \n",
            "[CV]  n_estimators=200, min_samples_split=100, min_samples_leaf=10, max_features=auto, max_depth=15, total=   2.2s\n",
            "[CV] n_estimators=200, min_samples_split=100, min_samples_leaf=10, max_features=auto, max_depth=15 \n",
            "[CV]  n_estimators=200, min_samples_split=100, min_samples_leaf=10, max_features=auto, max_depth=15, total=   2.1s\n",
            "[CV] n_estimators=1000, min_samples_split=15, min_samples_leaf=1, max_features=sqrt, max_depth=5 \n",
            "[CV]  n_estimators=1000, min_samples_split=15, min_samples_leaf=1, max_features=sqrt, max_depth=5, total=   2.8s\n",
            "[CV] n_estimators=1000, min_samples_split=15, min_samples_leaf=1, max_features=sqrt, max_depth=5 \n",
            "[CV]  n_estimators=1000, min_samples_split=15, min_samples_leaf=1, max_features=sqrt, max_depth=5, total=   2.8s\n",
            "[CV] n_estimators=1000, min_samples_split=15, min_samples_leaf=1, max_features=sqrt, max_depth=5 \n",
            "[CV]  n_estimators=1000, min_samples_split=15, min_samples_leaf=1, max_features=sqrt, max_depth=5, total=   2.8s\n",
            "[CV] n_estimators=1000, min_samples_split=15, min_samples_leaf=1, max_features=sqrt, max_depth=5 \n",
            "[CV]  n_estimators=1000, min_samples_split=15, min_samples_leaf=1, max_features=sqrt, max_depth=5, total=   2.8s\n",
            "[CV] n_estimators=1000, min_samples_split=15, min_samples_leaf=1, max_features=sqrt, max_depth=5 \n",
            "[CV]  n_estimators=1000, min_samples_split=15, min_samples_leaf=1, max_features=sqrt, max_depth=5, total=   2.8s\n",
            "[CV] n_estimators=1200, min_samples_split=2, min_samples_leaf=1, max_features=auto, max_depth=20 \n",
            "[CV]  n_estimators=1200, min_samples_split=2, min_samples_leaf=1, max_features=auto, max_depth=20, total=  25.9s\n",
            "[CV] n_estimators=1200, min_samples_split=2, min_samples_leaf=1, max_features=auto, max_depth=20 \n",
            "[CV]  n_estimators=1200, min_samples_split=2, min_samples_leaf=1, max_features=auto, max_depth=20, total=  26.4s\n",
            "[CV] n_estimators=1200, min_samples_split=2, min_samples_leaf=1, max_features=auto, max_depth=20 \n",
            "[CV]  n_estimators=1200, min_samples_split=2, min_samples_leaf=1, max_features=auto, max_depth=20, total=  26.1s\n",
            "[CV] n_estimators=1200, min_samples_split=2, min_samples_leaf=1, max_features=auto, max_depth=20 \n",
            "[CV]  n_estimators=1200, min_samples_split=2, min_samples_leaf=1, max_features=auto, max_depth=20, total=  26.8s\n",
            "[CV] n_estimators=1200, min_samples_split=2, min_samples_leaf=1, max_features=auto, max_depth=20 \n",
            "[CV]  n_estimators=1200, min_samples_split=2, min_samples_leaf=1, max_features=auto, max_depth=20, total=  26.6s\n",
            "[CV] n_estimators=900, min_samples_split=15, min_samples_leaf=10, max_features=sqrt, max_depth=25 \n",
            "[CV]  n_estimators=900, min_samples_split=15, min_samples_leaf=10, max_features=sqrt, max_depth=25, total=   3.9s\n",
            "[CV] n_estimators=900, min_samples_split=15, min_samples_leaf=10, max_features=sqrt, max_depth=25 \n",
            "[CV]  n_estimators=900, min_samples_split=15, min_samples_leaf=10, max_features=sqrt, max_depth=25, total=   3.9s\n",
            "[CV] n_estimators=900, min_samples_split=15, min_samples_leaf=10, max_features=sqrt, max_depth=25 \n",
            "[CV]  n_estimators=900, min_samples_split=15, min_samples_leaf=10, max_features=sqrt, max_depth=25, total=   3.9s\n",
            "[CV] n_estimators=900, min_samples_split=15, min_samples_leaf=10, max_features=sqrt, max_depth=25 \n",
            "[CV]  n_estimators=900, min_samples_split=15, min_samples_leaf=10, max_features=sqrt, max_depth=25, total=   3.8s\n",
            "[CV] n_estimators=900, min_samples_split=15, min_samples_leaf=10, max_features=sqrt, max_depth=25 \n",
            "[CV]  n_estimators=900, min_samples_split=15, min_samples_leaf=10, max_features=sqrt, max_depth=25, total=   3.9s\n",
            "[CV] n_estimators=1000, min_samples_split=2, min_samples_leaf=1, max_features=sqrt, max_depth=30 \n",
            "[CV]  n_estimators=1000, min_samples_split=2, min_samples_leaf=1, max_features=sqrt, max_depth=30, total=   8.1s\n",
            "[CV] n_estimators=1000, min_samples_split=2, min_samples_leaf=1, max_features=sqrt, max_depth=30 \n",
            "[CV]  n_estimators=1000, min_samples_split=2, min_samples_leaf=1, max_features=sqrt, max_depth=30, total=   8.1s\n",
            "[CV] n_estimators=1000, min_samples_split=2, min_samples_leaf=1, max_features=sqrt, max_depth=30 \n",
            "[CV]  n_estimators=1000, min_samples_split=2, min_samples_leaf=1, max_features=sqrt, max_depth=30, total=   8.1s\n",
            "[CV] n_estimators=1000, min_samples_split=2, min_samples_leaf=1, max_features=sqrt, max_depth=30 \n",
            "[CV]  n_estimators=1000, min_samples_split=2, min_samples_leaf=1, max_features=sqrt, max_depth=30, total=   8.3s\n",
            "[CV] n_estimators=1000, min_samples_split=2, min_samples_leaf=1, max_features=sqrt, max_depth=30 \n",
            "[CV]  n_estimators=1000, min_samples_split=2, min_samples_leaf=1, max_features=sqrt, max_depth=30, total=   8.1s\n",
            "[CV] n_estimators=900, min_samples_split=15, min_samples_leaf=2, max_features=auto, max_depth=20 \n",
            "[CV]  n_estimators=900, min_samples_split=15, min_samples_leaf=2, max_features=auto, max_depth=20, total=  14.5s\n",
            "[CV] n_estimators=900, min_samples_split=15, min_samples_leaf=2, max_features=auto, max_depth=20 \n",
            "[CV]  n_estimators=900, min_samples_split=15, min_samples_leaf=2, max_features=auto, max_depth=20, total=  14.5s\n",
            "[CV] n_estimators=900, min_samples_split=15, min_samples_leaf=2, max_features=auto, max_depth=20 \n",
            "[CV]  n_estimators=900, min_samples_split=15, min_samples_leaf=2, max_features=auto, max_depth=20, total=  14.3s\n",
            "[CV] n_estimators=900, min_samples_split=15, min_samples_leaf=2, max_features=auto, max_depth=20 \n",
            "[CV]  n_estimators=900, min_samples_split=15, min_samples_leaf=2, max_features=auto, max_depth=20, total=  14.6s\n",
            "[CV] n_estimators=900, min_samples_split=15, min_samples_leaf=2, max_features=auto, max_depth=20 \n",
            "[CV]  n_estimators=900, min_samples_split=15, min_samples_leaf=2, max_features=auto, max_depth=20, total=  14.2s\n"
          ],
          "name": "stdout"
        },
        {
          "output_type": "stream",
          "text": [
            "[Parallel(n_jobs=1)]: Done  50 out of  50 | elapsed:  6.2min finished\n"
          ],
          "name": "stderr"
        },
        {
          "output_type": "execute_result",
          "data": {
            "text/plain": [
              "RandomizedSearchCV(cv=5, error_score=nan,\n",
              "                   estimator=RandomForestRegressor(bootstrap=True,\n",
              "                                                   ccp_alpha=0.0,\n",
              "                                                   criterion='mse',\n",
              "                                                   max_depth=None,\n",
              "                                                   max_features='auto',\n",
              "                                                   max_leaf_nodes=None,\n",
              "                                                   max_samples=None,\n",
              "                                                   min_impurity_decrease=0.0,\n",
              "                                                   min_impurity_split=None,\n",
              "                                                   min_samples_leaf=1,\n",
              "                                                   min_samples_split=2,\n",
              "                                                   min_weight_fraction_leaf=0.0,\n",
              "                                                   n_estimators=100,\n",
              "                                                   n_jobs=None, oob_score=Fals...\n",
              "                   iid='deprecated', n_iter=10, n_jobs=1,\n",
              "                   param_distributions={'max_depth': [5, 10, 15, 20, 25, 30],\n",
              "                                        'max_features': ['auto', 'sqrt'],\n",
              "                                        'min_samples_leaf': [1, 2, 5, 10],\n",
              "                                        'min_samples_split': [2, 5, 10, 15,\n",
              "                                                              100],\n",
              "                                        'n_estimators': [100, 200, 300, 400,\n",
              "                                                         500, 600, 700, 800,\n",
              "                                                         900, 1000, 1100,\n",
              "                                                         1200]},\n",
              "                   pre_dispatch='2*n_jobs', random_state=48415, refit=True,\n",
              "                   return_train_score=False, scoring='neg_mean_squared_error',\n",
              "                   verbose=2)"
            ]
          },
          "metadata": {},
          "execution_count": 153
        }
      ]
    },
    {
      "cell_type": "code",
      "metadata": {
        "colab": {
          "base_uri": "https://localhost:8080/"
        },
        "id": "FblfzFDH6r4a",
        "outputId": "e8cac047-355a-4bc0-9b77-0570f2f845ca"
      },
      "source": [
        "rf_random.best_params_"
      ],
      "execution_count": 154,
      "outputs": [
        {
          "output_type": "execute_result",
          "data": {
            "text/plain": [
              "{'max_depth': 20,\n",
              " 'max_features': 'auto',\n",
              " 'min_samples_leaf': 2,\n",
              " 'min_samples_split': 15,\n",
              " 'n_estimators': 900}"
            ]
          },
          "metadata": {},
          "execution_count": 154
        }
      ]
    },
    {
      "cell_type": "code",
      "metadata": {
        "id": "rGPSVbdr8MGd"
      },
      "source": [
        "prediction = rf_random.predict(X_test)"
      ],
      "execution_count": 155,
      "outputs": []
    },
    {
      "cell_type": "code",
      "metadata": {
        "colab": {
          "base_uri": "https://localhost:8080/",
          "height": 483
        },
        "id": "CepqCRhM8U5a",
        "outputId": "64e11042-699c-48e7-a2e2-e6a0dd2d048e"
      },
      "source": [
        "plt.figure(figsize=(8,8))\n",
        "sns.distplot(y_pred-prediction)\n",
        "plt.show()"
      ],
      "execution_count": 157,
      "outputs": [
        {
          "output_type": "display_data",
          "data": {
            "image/png": "[encoded data removed]",
            "text/plain": [
              "<Figure size 576x576 with 1 Axes>"
            ]
          },
          "metadata": {
            "needs_background": "light"
          }
        }
      ]
    },
    {
      "cell_type": "code",
      "metadata": {
        "colab": {
          "base_uri": "https://localhost:8080/",
          "height": 497
        },
        "id": "mqPC9lpP8k6N",
        "outputId": "89c95a34-b27b-4357-9f2f-1094bfbecac9"
      },
      "source": [
        "plt.figure(figsize=(8,8))\n",
        "plt.scatter(y_test, prediction, alpha=0.5)\n",
        "plt.xlabel('y_test')\n",
        "plt.ylabel('prediction')\n",
        "plt.show()"
      ],
      "execution_count": 158,
      "outputs": [
        {
          "output_type": "display_data",
          "data": {
            "image/png": "[encoded data removed]",
            "text/plain": [
              "<Figure size 576x576 with 1 Axes>"
            ]
          },
          "metadata": {
            "needs_background": "light"
          }
        }
      ]
    },
    {
      "cell_type": "code",
      "metadata": {
        "colab": {
          "base_uri": "https://localhost:8080/"
        },
        "id": "_biyr-PF9AEi",
        "outputId": "7b150ae9-2b8f-4d38-9c36-ae992712507e"
      },
      "source": [
        "print('MAE:', metrics.mean_absolute_error(y_test, prediction))\n",
        "print('MSE:', metrics.mean_squared_error(y_test, prediction))\n",
        "print('RMSE:', np.sqrt(metrics.mean_squared_error(y_test, prediction)))"
      ],
      "execution_count": 159,
      "outputs": [
        {
          "output_type": "stream",
          "text": [
            "MAE: 1191.0595016364396\n",
            "MSE: 3526659.3142898153\n",
            "RMSE: 1877.9401785706102\n"
          ],
          "name": "stdout"
        }
      ]
    },
    {
      "cell_type": "markdown",
      "metadata": {
        "id": "t5H1dGB59Mna"
      },
      "source": [
        "# **Save the model**"
      ]
    },
    {
      "cell_type": "code",
      "metadata": {
        "id": "Wirz3opD9KTw"
      },
      "source": [
        "import pickle\n",
        "\n",
        "# open a file\n",
        "file = open('Flight_Price_prediction.pkl', 'wb')\n",
        "\n",
        "# dump information to that file\n",
        "pickle.dump(reg_rf, file)"
      ],
      "execution_count": 160,
      "outputs": []
    },
    {
      "cell_type": "code",
      "metadata": {
        "id": "hLwQUrl79ueH"
      },
      "source": [
        "model = open('Flight_Price_prediction.pkl', 'rb')\n",
        "forest = pickle.load(model)"
      ],
      "execution_count": 161,
      "outputs": []
    },
    {
      "cell_type": "code",
      "metadata": {
        "id": "u_eI2ft798ci"
      },
      "source": [
        "y_prediction = forest.predict(X_test)"
      ],
      "execution_count": 162,
      "outputs": []
    },
    {
      "cell_type": "code",
      "metadata": {
        "colab": {
          "base_uri": "https://localhost:8080/"
        },
        "id": "o6mV600e-BzZ",
        "outputId": "095e69f2-653c-4cba-ab99-e0995fc3e1bd"
      },
      "source": [
        "metrics.r2_score(y_test, y_prediction)"
      ],
      "execution_count": 163,
      "outputs": [
        {
          "output_type": "execute_result",
          "data": {
            "text/plain": [
              "0.8103879937040113"
            ]
          },
          "metadata": {},
          "execution_count": 163
        }
      ]
    },
    {
      "cell_type": "markdown",
      "metadata": {
        "id": "y-8yucQU-Jiw"
      },
      "source": [
        " - Our model has been saved and r2_score is 81%."
      ]
    },
    {
      "cell_type": "code",
      "metadata": {
        "id": "xc4Eoq7H-Igu"
      },
      "source": [
        ""
      ],
      "execution_count": null,
      "outputs": []
    }
  ]
}